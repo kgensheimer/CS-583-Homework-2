{
 "cells": [
  {
   "source": [
    "# HM2: Numerical Optimization for Logistic Regression.\n",
    "\n",
    "### Name: Kyle Gensheimer\n"
   ],
   "cell_type": "markdown",
   "metadata": {}
  },
  {
   "source": [
    "## 0. You will do the following:\n",
    "\n",
    "1. Read the lecture note: [click here](https://github.com/wangshusen/DeepLearning/blob/master/LectureNotes/Logistic/paper/logistic.pdf)\n",
    "\n",
    "2. Read, complete, and run my code.\n",
    "\n",
    "3. **Implement mini-batch SGD** and evaluate the performance.\n",
    "\n",
    "4. Convert the .IPYNB file to .HTML file.\n",
    "\n",
    "    * The HTML file must contain **the code** and **the output after execution**.\n",
    "    \n",
    "    * Missing **the output after execution** will not be graded.\n",
    "    \n",
    "5. Upload this .HTML file to your Google Drive, Dropbox, or your Github repo.  (If you submit the file to Google Drive or Dropbox, you must make the file \"open-access\". The delay caused by \"deny of access\" may result in late penalty.)\n",
    "\n",
    "6. Submit the link to this .HTML file to Canvas.\n",
    "\n",
    "    * Example: https://github.com/wangshusen/CS583-2020S/blob/master/homework/HM2/HM2.html\n",
    "\n",
    "\n",
    "## Grading criteria:\n",
    "\n",
    "1. When computing the ```gradient``` and ```objective function value``` using a batch of samples, use **matrix-vector multiplication** rather than a FOR LOOP of **vector-vector multiplications**.\n",
    "\n",
    "2. Plot ```objective function value``` against ```epochs```. In the plot, compare GD, SGD, and MB-SGD (with $b=8$ and $b=64$). The plot must look reasonable."
   ],
   "cell_type": "markdown",
   "metadata": {}
  },
  {
   "source": [],
   "cell_type": "markdown",
   "metadata": {}
  },
  {
   "cell_type": "markdown",
   "metadata": {},
   "source": [
    "# 1. Data processing\n",
    "\n",
    "- Download the Diabete dataset from https://www.csie.ntu.edu.tw/~cjlin/libsvmtools/datasets/binary/diabetes\n",
    "- Load the data using sklearn.\n",
    "- Preprocess the data."
   ]
  },
  {
   "source": [
    "## 1.1. Load the data"
   ],
   "cell_type": "markdown",
   "metadata": {}
  },
  {
   "cell_type": "code",
   "execution_count": 3,
   "metadata": {},
   "outputs": [
    {
     "output_type": "stream",
     "name": "stdout",
     "text": [
      "Shape of x: (768, 8)\nShape of y: (768,)\n"
     ]
    }
   ],
   "source": [
    "from sklearn import datasets\n",
    "import numpy\n",
    "\n",
    "x_sparse, y = datasets.load_svmlight_file('diabetes')\n",
    "x = x_sparse.todense()\n",
    "\n",
    "print('Shape of x: ' + str(x.shape))\n",
    "print('Shape of y: ' + str(y.shape))"
   ]
  },
  {
   "source": [
    "## 1.2. Partition to training and test sets"
   ],
   "cell_type": "markdown",
   "metadata": {}
  },
  {
   "source": [
    "# partition the data to training and test sets\n",
    "n = x.shape[0]\n",
    "n_train = 640\n",
    "n_test = n - n_train\n",
    "\n",
    "rand_indices = numpy.random.permutation(n)\n",
    "train_indices = rand_indices[0:n_train]\n",
    "test_indices = rand_indices[n_train:n]\n",
    "\n",
    "x_train = x[train_indices, :]\n",
    "x_test = x[test_indices, :]\n",
    "y_train = y[train_indices].reshape(n_train, 1)\n",
    "y_test = y[test_indices].reshape(n_test, 1)\n",
    "\n",
    "print('Shape of x_train: ' + str(x_train.shape))\n",
    "print('Shape of x_test: ' + str(x_test.shape))\n",
    "print('Shape of y_train: ' + str(y_train.shape))\n",
    "print('Shape of y_test: ' + str(y_test.shape))"
   ],
   "cell_type": "code",
   "metadata": {},
   "execution_count": 4,
   "outputs": [
    {
     "output_type": "stream",
     "name": "stdout",
     "text": [
      "Shape of x_train: (640, 8)\nShape of x_test: (128, 8)\nShape of y_train: (640, 1)\nShape of y_test: (128, 1)\n"
     ]
    }
   ]
  },
  {
   "cell_type": "markdown",
   "metadata": {},
   "source": [
    "## 1.3. Feature scaling"
   ]
  },
  {
   "cell_type": "markdown",
   "metadata": {},
   "source": [
    "Use the standardization to trainsform both training and test features"
   ]
  },
  {
   "cell_type": "code",
   "execution_count": 5,
   "metadata": {},
   "outputs": [
    {
     "output_type": "stream",
     "name": "stdout",
     "text": [
      "test mean = \n[[ 0.05031747  0.03655657 -0.05535759 -0.02276517 -0.00890773 -0.02369663\n  -0.11618737  0.10396361]]\ntest std = \n[[1.07727802 1.05139929 0.98382965 1.00669096 0.83286318 1.10718981\n  0.84133748 1.09325769]]\n"
     ]
    }
   ],
   "source": [
    "# Standardization\n",
    "import numpy\n",
    "\n",
    "# calculate mu and sig using the training set\n",
    "d = x_train.shape[1]\n",
    "mu = numpy.mean(x_train, axis=0).reshape(1, d)\n",
    "sig = numpy.std(x_train, axis=0).reshape(1, d)\n",
    "\n",
    "# transform the training features\n",
    "x_train = (x_train - mu) / (sig + 1E-6)\n",
    "\n",
    "# transform the test features\n",
    "x_test = (x_test - mu) / (sig + 1E-6)\n",
    "\n",
    "print('test mean = ')\n",
    "print(numpy.mean(x_test, axis=0))\n",
    "\n",
    "print('test std = ')\n",
    "print(numpy.std(x_test, axis=0))"
   ]
  },
  {
   "cell_type": "markdown",
   "metadata": {},
   "source": [
    "## 1.4. Add a dimension of all ones"
   ]
  },
  {
   "cell_type": "code",
   "execution_count": 6,
   "metadata": {},
   "outputs": [
    {
     "output_type": "stream",
     "name": "stdout",
     "text": [
      "Shape of x_train: (640, 9)\nShape of x_test: (128, 9)\n"
     ]
    }
   ],
   "source": [
    "n_train, d = x_train.shape\n",
    "x_train = numpy.concatenate((x_train, numpy.ones((n_train, 1))), axis=1)\n",
    "\n",
    "n_test, d = x_test.shape\n",
    "x_test = numpy.concatenate((x_test, numpy.ones((n_test, 1))), axis=1)\n",
    "\n",
    "print('Shape of x_train: ' + str(x_train.shape))\n",
    "print('Shape of x_test: ' + str(x_test.shape))"
   ]
  },
  {
   "cell_type": "markdown",
   "metadata": {},
   "source": [
    "# 2. Logistic regression model\n",
    "\n",
    "The objective function is $Q (w; X, y) = \\frac{1}{n} \\sum_{i=1}^n \\log \\Big( 1 + \\exp \\big( - y_i x_i^T w \\big) \\Big) + \\frac{\\lambda}{2} \\| w \\|_2^2 $."
   ]
  },
  {
   "cell_type": "code",
   "execution_count": 7,
   "metadata": {},
   "outputs": [],
   "source": [
    "# Calculate the objective function value\n",
    "# Inputs:\n",
    "#     w: d-by-1 matrix\n",
    "#     x: n-by-d matrix\n",
    "#     y: n-by-1 matrix\n",
    "#     lam: scalar, the regularization parameter\n",
    "# Return:\n",
    "#     objective function value (scalar)\n",
    "def objective(w, x, y, lam):\n",
    "    n, d = x.shape\n",
    "    yx = numpy.multiply(y, x) # n-by-d matrix\n",
    "    yxw = numpy.dot(yx, w) # n-by-1 matrix\n",
    "    vec1 = numpy.exp(-yxw) # n-by-1 matrix\n",
    "    vec2 = numpy.log(1 + vec1) # n-by-1 matrix\n",
    "    loss = numpy.mean(vec2) # scalar\n",
    "    reg = lam / 2 * numpy.sum(w * w) # scalar\n",
    "    return loss + reg\n",
    "    "
   ]
  },
  {
   "cell_type": "code",
   "execution_count": 8,
   "metadata": {},
   "outputs": [
    {
     "output_type": "stream",
     "name": "stdout",
     "text": [
      "Initial objective function value = 0.6931471805599453\n"
     ]
    }
   ],
   "source": [
    "# initialize w\n",
    "d = x_train.shape[1]\n",
    "w = numpy.zeros((d, 1))\n",
    "\n",
    "# evaluate the objective function value at w\n",
    "lam = 1E-6\n",
    "objval0 = objective(w, x_train, y_train, lam)\n",
    "print('Initial objective function value = ' + str(objval0))"
   ]
  },
  {
   "cell_type": "markdown",
   "metadata": {},
   "source": [
    "# 3. Numerical optimization"
   ]
  },
  {
   "cell_type": "markdown",
   "metadata": {},
   "source": [
    "## 3.1. Gradient descent\n"
   ]
  },
  {
   "cell_type": "markdown",
   "metadata": {},
   "source": [
    "The gradient at $w$ is $g = - \\frac{1}{n} \\sum_{i=1}^n \\frac{y_i x_i }{1 + \\exp ( y_i x_i^T w)} + \\lambda w$"
   ]
  },
  {
   "cell_type": "code",
   "execution_count": 9,
   "metadata": {},
   "outputs": [],
   "source": [
    "# Calculate the gradient\n",
    "# Inputs:\n",
    "#     w: d-by-1 matrix\n",
    "#     x: n-by-d matrix\n",
    "#     y: n-by-1 matrix\n",
    "#     lam: scalar, the regularization parameter\n",
    "# Return:\n",
    "#     g: g: d-by-1 matrix, full gradient\n",
    "def gradient(w, x, y, lam):\n",
    "    n, d = x.shape\n",
    "    yx = numpy.multiply(y, x) # n-by-d matrix\n",
    "    yxw = numpy.dot(yx, w) # n-by-1 matrix\n",
    "    vec1 = numpy.exp(yxw) # n-by-1 matrix\n",
    "    vec2 = numpy.divide(yx, 1+vec1) # n-by-d matrix\n",
    "    vec3 = -numpy.mean(vec2, axis=0).reshape(d, 1) # d-by-1 matrix\n",
    "    g = vec3 + lam * w\n",
    "    return g"
   ]
  },
  {
   "cell_type": "code",
   "execution_count": 10,
   "metadata": {},
   "outputs": [],
   "source": [
    "# Gradient descent for solving logistic regression\n",
    "# Inputs:\n",
    "#     x: n-by-d matrix\n",
    "#     y: n-by-1 matrix\n",
    "#     lam: scalar, the regularization parameter\n",
    "#     stepsize: scalar\n",
    "#     max_iter: integer, the maximal iterations\n",
    "#     w: d-by-1 matrix, initialization of w\n",
    "# Return:\n",
    "#     w: d-by-1 matrix, the solution\n",
    "#     objvals: a record of each iteration's objective value\n",
    "def grad_descent(x, y, lam, stepsize, max_iter=100, w=None):\n",
    "    n, d = x.shape\n",
    "    objvals = numpy.zeros(max_iter) # store the objective values\n",
    "    if w is None:\n",
    "        w = numpy.zeros((d, 1)) # zero initialization\n",
    "    \n",
    "    for t in range(max_iter):\n",
    "        objval = objective(w, x, y, lam)\n",
    "        objvals[t] = objval\n",
    "        print('Objective value at t=' + str(t) + ' is ' + str(objval))\n",
    "        g = gradient(w, x, y, lam)\n",
    "        w -= stepsize * g\n",
    "    \n",
    "    return w, objvals"
   ]
  },
  {
   "cell_type": "markdown",
   "metadata": {},
   "source": [
    "Run gradient descent."
   ]
  },
  {
   "cell_type": "code",
   "execution_count": 11,
   "metadata": {},
   "outputs": [
    {
     "output_type": "stream",
     "name": "stdout",
     "text": [
      "Objective value at t=0 is 0.6931471805599453\nObjective value at t=1 is 0.5847851646698835\nObjective value at t=2 is 0.5401102276365765\nObjective value at t=3 is 0.515933312767711\nObjective value at t=4 is 0.5007949086372281\nObjective value at t=5 is 0.4905210073650127\nObjective value at t=6 is 0.48319304342822283\nObjective value at t=7 is 0.47778683127990207\nObjective value at t=8 is 0.47369862528855006\nObjective value at t=9 is 0.47054743663275544\nObjective value at t=10 is 0.4680808365068687\nObjective value at t=11 is 0.46612536052311615\nObjective value at t=12 is 0.4645583571607291\nObjective value at t=13 is 0.46329106955727933\nObjective value at t=14 is 0.4622580100900926\nObjective value at t=15 is 0.4614100503268816\nObjective value at t=16 is 0.46070979778131543\nObjective value at t=17 is 0.46012842822097555\nObjective value at t=18 is 0.45964347046133625\nObjective value at t=19 is 0.45923722923804333\nObjective value at t=20 is 0.4588956443041378\nObjective value at t=21 is 0.4586074531519833\nObjective value at t=22 is 0.45836356849328747\nObjective value at t=23 is 0.4581566098733325\nObjective value at t=24 is 0.45798054739538396\nObjective value at t=25 is 0.4578304279964549\nObjective value at t=26 is 0.45770216320253587\nObjective value at t=27 is 0.4575923631538644\nObjective value at t=28 is 0.4574982057947869\nObjective value at t=29 is 0.4574173330315883\nObjective value at t=30 is 0.4573477677473958\nObjective value at t=31 is 0.4572878470751368\nObjective value at t=32 is 0.4572361684366664\nObjective value at t=33 is 0.4571915456747448\nObjective value at t=34 is 0.45715297321526105\nObjective value at t=35 is 0.45711959665664326\nObjective value at t=36 is 0.45709068853197893\nObjective value at t=37 is 0.4570656282558189\nObjective value at t=38 is 0.4570438854727598\nObjective value at t=39 is 0.4570250061838964\nObjective value at t=40 is 0.45700860115127245\nObjective value at t=41 is 0.4569943361778111\nObjective value at t=42 is 0.4569819239370542\nObjective value at t=43 is 0.45697111708804383\nObjective value at t=44 is 0.45696170245933815\nObjective value at t=45 is 0.4569534961251809\nObjective value at t=46 is 0.45694633922826217\nObjective value at t=47 is 0.45694009442893874\nObjective value at t=48 is 0.45693464288143393\nObjective value at t=49 is 0.4569298816543833\nObjective value at t=50 is 0.4569257215268822\nObjective value at t=51 is 0.45692208510251997\nObjective value at t=52 is 0.456918905193224\nObjective value at t=53 is 0.45691612343245974\nObjective value at t=54 is 0.4569136890837371\nObjective value at t=55 is 0.4569115580156994\nObjective value at t=56 is 0.4569096918195197\nObjective value at t=57 is 0.4569080570480383\nObjective value at t=58 is 0.4569066245591934\nObjective value at t=59 is 0.4569053689489159\nObjective value at t=60 is 0.4569042680608564\nObjective value at t=61 is 0.45690330256217687\nObjective value at t=62 is 0.45690245557621\nObjective value at t=63 is 0.4569017123641191\nObjective value at t=64 is 0.4569010600488223\nObjective value at t=65 is 0.45690048737540534\nObjective value at t=66 is 0.45689998450306285\nObjective value at t=67 is 0.4568995428243066\nObjective value at t=68 is 0.4568991548077737\nObjective value at t=69 is 0.4568988138614768\nObjective value at t=70 is 0.4568985142137707\nObjective value at t=71 is 0.45689825080969054\nObjective value at t=72 is 0.45689801922062745\nObjective value at t=73 is 0.45689781556559056\nObjective value at t=74 is 0.4568976364425364\nObjective value at t=75 is 0.4568974788684542\nObjective value at t=76 is 0.4568973402270656\nObjective value at t=77 is 0.45689721822315554\nObjective value at t=78 is 0.4568971108426759\nObjective value at t=79 is 0.4568970163178805\nObjective value at t=80 is 0.4568969330968451\nObjective value at t=81 is 0.4568968598168118\nObjective value at t=82 is 0.45689679528087096\nObjective value at t=83 is 0.45689673843755413\nObjective value at t=84 is 0.45689668836297137\nObjective value at t=85 is 0.4568966442451692\nObjective value at t=86 is 0.4568966053704303\nObjective value at t=87 is 0.4568965711112693\nObjective value at t=88 is 0.45689654091591286\nObjective value at t=89 is 0.4568965142990773\nObjective value at t=90 is 0.4568964908338824\nObjective value at t=91 is 0.4568964701447589\nObjective value at t=92 is 0.45689645190122635\nObjective value at t=93 is 0.45689643581243283\nObjective value at t=94 is 0.4568964216223636\nObjective value at t=95 is 0.45689640910563345\nObjective value at t=96 is 0.4568963980637927\nObjective value at t=97 is 0.4568963883220833\nObjective value at t=98 is 0.4568963797265883\nObjective value at t=99 is 0.4568963721417273\n"
     ]
    }
   ],
   "source": [
    "lam = 1E-6\n",
    "stepsize = 1.0\n",
    "w, objvals_gd = grad_descent(x_train, y_train, lam, stepsize)"
   ]
  },
  {
   "cell_type": "markdown",
   "metadata": {},
   "source": [
    "## 3.2. Stochastic gradient descent (SGD)\n",
    "\n",
    "Define $Q_i (w) = \\log \\Big( 1 + \\exp \\big( - y_i x_i^T w \\big) \\Big) + \\frac{\\lambda}{2} \\| w \\|_2^2 $.\n",
    "\n",
    "The stochastic gradient at $w$ is $g_i = \\frac{\\partial Q_i }{ \\partial w} = -\\frac{y_i x_i }{1 + \\exp ( y_i x_i^T w)} + \\lambda w$."
   ]
  },
  {
   "cell_type": "code",
   "execution_count": 12,
   "metadata": {},
   "outputs": [],
   "source": [
    "# Calculate the objective Q_i and the gradient of Q_i\n",
    "# Inputs:\n",
    "#     w: d-by-1 matrix\n",
    "#     xi: 1-by-d matrix\n",
    "#     yi: scalar\n",
    "#     lam: scalar, the regularization parameter\n",
    "# Return:\n",
    "#     obj: scalar, the objective Q_i\n",
    "#     g: d-by-1 matrix, gradient of Q_i\n",
    "def stochastic_objective_gradient(w, xi, yi, lam):\n",
    "    d = xi.shape[0]\n",
    "    yx = yi * xi # 1-by-d matrix\n",
    "    yxw = float(numpy.dot(yx, w)) # scalar\n",
    "    \n",
    "    # calculate objective function Q_i\n",
    "    loss = numpy.log(1 + numpy.exp(-yxw)) # scalar\n",
    "    reg = lam / 2 * numpy.sum(w * w) # scalar\n",
    "    obj = loss + reg\n",
    "    \n",
    "    # calculate stochastic gradient\n",
    "    g_loss = -yx.T / (1 + numpy.exp(yxw)) # d-by-1 matrix\n",
    "    g = g_loss + lam * w # d-by-1 matrix\n",
    "    \n",
    "    return obj, g"
   ]
  },
  {
   "cell_type": "code",
   "execution_count": 13,
   "metadata": {},
   "outputs": [],
   "source": [
    "# SGD for solving logistic regression\n",
    "# Inputs:\n",
    "#     x: n-by-d matrix\n",
    "#     y: n-by-1 matrix\n",
    "#     lam: scalar, the regularization parameter\n",
    "#     stepsize: scalar\n",
    "#     max_epoch: integer, the maximal epochs\n",
    "#     w: d-by-1 matrix, initialization of w\n",
    "# Return:\n",
    "#     w: the solution\n",
    "#     objvals: record of each iteration's objective value\n",
    "def sgd(x, y, lam, stepsize, max_epoch=100, w=None):\n",
    "    n, d = x.shape\n",
    "    objvals = numpy.zeros(max_epoch) # store the objective values\n",
    "    if w is None:\n",
    "        w = numpy.zeros((d, 1)) # zero initialization\n",
    "    \n",
    "    for t in range(max_epoch):\n",
    "        # randomly shuffle the samples\n",
    "        rand_indices = numpy.random.permutation(n)\n",
    "        x_rand = x[rand_indices, :]\n",
    "        y_rand = y[rand_indices, :]\n",
    "        \n",
    "        objval = 0 # accumulate the objective values\n",
    "        for i in range(n):\n",
    "            xi = x_rand[i, :] # 1-by-d matrix\n",
    "            yi = float(y_rand[i, :]) # scalar\n",
    "            obj, g = stochastic_objective_gradient(w, xi, yi, lam)\n",
    "            objval += obj\n",
    "            w -= stepsize * g\n",
    "        \n",
    "        stepsize *= 0.9 # decrease step size\n",
    "        objval /= n\n",
    "        objvals[t] = objval\n",
    "        print('Objective value at epoch t=' + str(t) + ' is ' + str(objval))\n",
    "    \n",
    "    return w, objvals"
   ]
  },
  {
   "source": [
    "Run SGD."
   ],
   "cell_type": "markdown",
   "metadata": {}
  },
  {
   "cell_type": "code",
   "execution_count": 14,
   "metadata": {},
   "outputs": [
    {
     "output_type": "stream",
     "name": "stdout",
     "text": [
      "Objective value at epoch t=0 is 0.5164871384010248\n",
      "Objective value at epoch t=1 is 0.5076588830868837\n",
      "Objective value at epoch t=2 is 0.5060040356143809\n",
      "Objective value at epoch t=3 is 0.4866633815581494\n",
      "Objective value at epoch t=4 is 0.49455033095784257\n",
      "Objective value at epoch t=5 is 0.4855441446725234\n",
      "Objective value at epoch t=6 is 0.48250868363086086\n",
      "Objective value at epoch t=7 is 0.484550494152001\n",
      "Objective value at epoch t=8 is 0.4792502225953304\n",
      "Objective value at epoch t=9 is 0.4789071077377874\n",
      "Objective value at epoch t=10 is 0.47725297815338646\n",
      "Objective value at epoch t=11 is 0.47570700215448036\n",
      "Objective value at epoch t=12 is 0.47274405835505745\n",
      "Objective value at epoch t=13 is 0.4735956454963045\n",
      "Objective value at epoch t=14 is 0.47017171973962124\n",
      "Objective value at epoch t=15 is 0.4700744899511512\n",
      "Objective value at epoch t=16 is 0.46776901224582357\n",
      "Objective value at epoch t=17 is 0.46690495860751124\n",
      "Objective value at epoch t=18 is 0.46626283733744545\n",
      "Objective value at epoch t=19 is 0.4659414863624261\n",
      "Objective value at epoch t=20 is 0.46422688015572844\n",
      "Objective value at epoch t=21 is 0.4642991012006973\n",
      "Objective value at epoch t=22 is 0.46293396238388757\n",
      "Objective value at epoch t=23 is 0.46327361247977217\n",
      "Objective value at epoch t=24 is 0.46206896465426694\n",
      "Objective value at epoch t=25 is 0.46181502542347247\n",
      "Objective value at epoch t=26 is 0.4613500413958757\n",
      "Objective value at epoch t=27 is 0.4609890108216491\n",
      "Objective value at epoch t=28 is 0.4605733017933594\n",
      "Objective value at epoch t=29 is 0.46017113241038005\n",
      "Objective value at epoch t=30 is 0.45994909221643676\n",
      "Objective value at epoch t=31 is 0.4595068213880407\n",
      "Objective value at epoch t=32 is 0.45927609060438507\n",
      "Objective value at epoch t=33 is 0.4590114325407465\n",
      "Objective value at epoch t=34 is 0.45887405152850225\n",
      "Objective value at epoch t=35 is 0.4586682989598384\n",
      "Objective value at epoch t=36 is 0.45852226882261116\n",
      "Objective value at epoch t=37 is 0.458368227568854\n",
      "Objective value at epoch t=38 is 0.45822975646869046\n",
      "Objective value at epoch t=39 is 0.4580842236761904\n",
      "Objective value at epoch t=40 is 0.4579540136751441\n",
      "Objective value at epoch t=41 is 0.4578673357298185\n",
      "Objective value at epoch t=42 is 0.45775822708456726\n",
      "Objective value at epoch t=43 is 0.45769359609559224\n",
      "Objective value at epoch t=44 is 0.457599174328805\n",
      "Objective value at epoch t=45 is 0.45752930143875775\n",
      "Objective value at epoch t=46 is 0.45747399868016386\n",
      "Objective value at epoch t=47 is 0.4573960962883684\n",
      "Objective value at epoch t=48 is 0.45736350432008893\n",
      "Objective value at epoch t=49 is 0.45731802865112503\n",
      "Objective value at epoch t=50 is 0.4572748631670217\n",
      "Objective value at epoch t=51 is 0.4572385811032912\n",
      "Objective value at epoch t=52 is 0.4572007617940733\n",
      "Objective value at epoch t=53 is 0.45717327106803546\n",
      "Objective value at epoch t=54 is 0.45714561223841155\n",
      "Objective value at epoch t=55 is 0.45712034294834664\n",
      "Objective value at epoch t=56 is 0.45709877428188933\n",
      "Objective value at epoch t=57 is 0.45707808929298366\n",
      "Objective value at epoch t=58 is 0.4570602879275644\n",
      "Objective value at epoch t=59 is 0.4570441262717441\n",
      "Objective value at epoch t=60 is 0.45702937394380505\n",
      "Objective value at epoch t=61 is 0.4570153834832527\n",
      "Objective value at epoch t=62 is 0.45700412631723497\n",
      "Objective value at epoch t=63 is 0.4569934210928717\n",
      "Objective value at epoch t=64 is 0.45698363449215995\n",
      "Objective value at epoch t=65 is 0.45697501787093964\n",
      "Objective value at epoch t=66 is 0.456967115604494\n",
      "Objective value at epoch t=67 is 0.45696016318461796\n",
      "Objective value at epoch t=68 is 0.4569537767901985\n",
      "Objective value at epoch t=69 is 0.4569480289654881\n",
      "Objective value at epoch t=70 is 0.45694286546136087\n",
      "Objective value at epoch t=71 is 0.4569382542781725\n",
      "Objective value at epoch t=72 is 0.45693408118447315\n",
      "Objective value at epoch t=73 is 0.45693032906177755\n",
      "Objective value at epoch t=74 is 0.456926921059977\n",
      "Objective value at epoch t=75 is 0.4569238855892845\n",
      "Objective value at epoch t=76 is 0.45692113290898007\n",
      "Objective value at epoch t=77 is 0.45691868673681346\n",
      "Objective value at epoch t=78 is 0.45691646792112295\n",
      "Objective value at epoch t=79 is 0.456914469913721\n",
      "Objective value at epoch t=80 is 0.45691267146440434\n",
      "Objective value at epoch t=81 is 0.4569110522020511\n",
      "Objective value at epoch t=82 is 0.45690959341737536\n",
      "Objective value at epoch t=83 is 0.45690828313755666\n",
      "Objective value at epoch t=84 is 0.4569071005835488\n",
      "Objective value at epoch t=85 is 0.45690603606248104\n",
      "Objective value at epoch t=86 is 0.45690507963150895\n",
      "Objective value at epoch t=87 is 0.456904221593968\n",
      "Objective value at epoch t=88 is 0.4569034492327139\n",
      "Objective value at epoch t=89 is 0.45690275205530406\n",
      "Objective value at epoch t=90 is 0.4569021247464106\n",
      "Objective value at epoch t=91 is 0.4569015599150143\n",
      "Objective value at epoch t=92 is 0.45690105114241764\n",
      "Objective value at epoch t=93 is 0.45690059410168943\n",
      "Objective value at epoch t=94 is 0.45690018241454383\n",
      "Objective value at epoch t=95 is 0.45689981213233855\n",
      "Objective value at epoch t=96 is 0.4568994787104321\n",
      "Objective value at epoch t=97 is 0.4568991785131723\n",
      "Objective value at epoch t=98 is 0.45689890839805714\n",
      "Objective value at epoch t=99 is 0.45689866531742673\n"
     ]
    }
   ],
   "source": [
    "lam = 1E-6\n",
    "stepsize = 0.1\n",
    "w, objvals_sgd = sgd(x_train, y_train, lam, stepsize)"
   ]
  },
  {
   "cell_type": "markdown",
   "metadata": {},
   "source": [
    "# 4. Compare GD with SGD\n",
    "\n",
    "Plot objective function values against epochs."
   ]
  },
  {
   "cell_type": "code",
   "execution_count": 15,
   "metadata": {},
   "outputs": [
    {
     "output_type": "display_data",
     "data": {
      "text/plain": "<Figure size 432x288 with 1 Axes>",
      "image/svg+xml": "<?xml version=\"1.0\" encoding=\"utf-8\" standalone=\"no\"?>\n<!DOCTYPE svg PUBLIC \"-//W3C//DTD SVG 1.1//EN\"\n  \"http://www.w3.org/Graphics/SVG/1.1/DTD/svg11.dtd\">\n<!-- Created with matplotlib (https://matplotlib.org/) -->\n<svg height=\"281.679734pt\" version=\"1.1\" viewBox=\"0 0 425.107805 281.679734\" width=\"425.107805pt\" xmlns=\"http://www.w3.org/2000/svg\" xmlns:xlink=\"http://www.w3.org/1999/xlink\">\n <metadata>\n  <rdf:RDF xmlns:cc=\"http://creativecommons.org/ns#\" xmlns:dc=\"http://purl.org/dc/elements/1.1/\" xmlns:rdf=\"http://www.w3.org/1999/02/22-rdf-syntax-ns#\">\n   <cc:Work>\n    <dc:type rdf:resource=\"http://purl.org/dc/dcmitype/StillImage\"/>\n    <dc:date>2021-03-06T17:56:42.626886</dc:date>\n    <dc:format>image/svg+xml</dc:format>\n    <dc:creator>\n     <cc:Agent>\n      <dc:title>Matplotlib v3.3.2, https://matplotlib.org/</dc:title>\n     </cc:Agent>\n    </dc:creator>\n   </cc:Work>\n  </rdf:RDF>\n </metadata>\n <defs>\n  <style type=\"text/css\">*{stroke-linecap:butt;stroke-linejoin:round;}</style>\n </defs>\n <g id=\"figure_1\">\n  <g id=\"patch_1\">\n   <path d=\"M 0 281.679734 \nL 425.107805 281.679734 \nL 425.107805 0 \nL 0 0 \nz\n\" style=\"fill:none;\"/>\n  </g>\n  <g id=\"axes_1\">\n   <g id=\"patch_2\">\n    <path d=\"M 73.18125 228.638484 \nL 415.037552 228.638484 \nL 415.037552 9.08865 \nL 73.18125 9.08865 \nz\n\" style=\"fill:#ffffff;\"/>\n   </g>\n   <g id=\"matplotlib.axis_1\">\n    <g id=\"xtick_1\">\n     <g id=\"line2d_1\">\n      <defs>\n       <path d=\"M 0 0 \nL 0 3.5 \n\" id=\"m9a0b4238c2\" style=\"stroke:#000000;stroke-width:0.8;\"/>\n      </defs>\n      <g>\n       <use style=\"stroke:#000000;stroke-width:0.8;\" x=\"88.720173\" xlink:href=\"#m9a0b4238c2\" y=\"228.638484\"/>\n      </g>\n     </g>\n     <g id=\"text_1\">\n      <!-- 0 -->\n      <g transform=\"translate(83.630173 247.795984)scale(0.16 -0.16)\">\n       <defs>\n        <path d=\"M 31.78125 66.40625 \nQ 24.171875 66.40625 20.328125 58.90625 \nQ 16.5 51.421875 16.5 36.375 \nQ 16.5 21.390625 20.328125 13.890625 \nQ 24.171875 6.390625 31.78125 6.390625 \nQ 39.453125 6.390625 43.28125 13.890625 \nQ 47.125 21.390625 47.125 36.375 \nQ 47.125 51.421875 43.28125 58.90625 \nQ 39.453125 66.40625 31.78125 66.40625 \nz\nM 31.78125 74.21875 \nQ 44.046875 74.21875 50.515625 64.515625 \nQ 56.984375 54.828125 56.984375 36.375 \nQ 56.984375 17.96875 50.515625 8.265625 \nQ 44.046875 -1.421875 31.78125 -1.421875 \nQ 19.53125 -1.421875 13.0625 8.265625 \nQ 6.59375 17.96875 6.59375 36.375 \nQ 6.59375 54.828125 13.0625 64.515625 \nQ 19.53125 74.21875 31.78125 74.21875 \nz\n\" id=\"DejaVuSans-48\"/>\n       </defs>\n       <use xlink:href=\"#DejaVuSans-48\"/>\n      </g>\n     </g>\n    </g>\n    <g id=\"xtick_2\">\n     <g id=\"line2d_2\">\n      <g>\n       <use style=\"stroke:#000000;stroke-width:0.8;\" x=\"151.503699\" xlink:href=\"#m9a0b4238c2\" y=\"228.638484\"/>\n      </g>\n     </g>\n     <g id=\"text_2\">\n      <!-- 20 -->\n      <g transform=\"translate(141.323699 247.795984)scale(0.16 -0.16)\">\n       <defs>\n        <path d=\"M 19.1875 8.296875 \nL 53.609375 8.296875 \nL 53.609375 0 \nL 7.328125 0 \nL 7.328125 8.296875 \nQ 12.9375 14.109375 22.625 23.890625 \nQ 32.328125 33.6875 34.8125 36.53125 \nQ 39.546875 41.84375 41.421875 45.53125 \nQ 43.3125 49.21875 43.3125 52.78125 \nQ 43.3125 58.59375 39.234375 62.25 \nQ 35.15625 65.921875 28.609375 65.921875 \nQ 23.96875 65.921875 18.8125 64.3125 \nQ 13.671875 62.703125 7.8125 59.421875 \nL 7.8125 69.390625 \nQ 13.765625 71.78125 18.9375 73 \nQ 24.125 74.21875 28.421875 74.21875 \nQ 39.75 74.21875 46.484375 68.546875 \nQ 53.21875 62.890625 53.21875 53.421875 \nQ 53.21875 48.921875 51.53125 44.890625 \nQ 49.859375 40.875 45.40625 35.40625 \nQ 44.1875 33.984375 37.640625 27.21875 \nQ 31.109375 20.453125 19.1875 8.296875 \nz\n\" id=\"DejaVuSans-50\"/>\n       </defs>\n       <use xlink:href=\"#DejaVuSans-50\"/>\n       <use x=\"63.623047\" xlink:href=\"#DejaVuSans-48\"/>\n      </g>\n     </g>\n    </g>\n    <g id=\"xtick_3\">\n     <g id=\"line2d_3\">\n      <g>\n       <use style=\"stroke:#000000;stroke-width:0.8;\" x=\"214.287226\" xlink:href=\"#m9a0b4238c2\" y=\"228.638484\"/>\n      </g>\n     </g>\n     <g id=\"text_3\">\n      <!-- 40 -->\n      <g transform=\"translate(204.107226 247.795984)scale(0.16 -0.16)\">\n       <defs>\n        <path d=\"M 37.796875 64.3125 \nL 12.890625 25.390625 \nL 37.796875 25.390625 \nz\nM 35.203125 72.90625 \nL 47.609375 72.90625 \nL 47.609375 25.390625 \nL 58.015625 25.390625 \nL 58.015625 17.1875 \nL 47.609375 17.1875 \nL 47.609375 0 \nL 37.796875 0 \nL 37.796875 17.1875 \nL 4.890625 17.1875 \nL 4.890625 26.703125 \nz\n\" id=\"DejaVuSans-52\"/>\n       </defs>\n       <use xlink:href=\"#DejaVuSans-52\"/>\n       <use x=\"63.623047\" xlink:href=\"#DejaVuSans-48\"/>\n      </g>\n     </g>\n    </g>\n    <g id=\"xtick_4\">\n     <g id=\"line2d_4\">\n      <g>\n       <use style=\"stroke:#000000;stroke-width:0.8;\" x=\"277.070752\" xlink:href=\"#m9a0b4238c2\" y=\"228.638484\"/>\n      </g>\n     </g>\n     <g id=\"text_4\">\n      <!-- 60 -->\n      <g transform=\"translate(266.890752 247.795984)scale(0.16 -0.16)\">\n       <defs>\n        <path d=\"M 33.015625 40.375 \nQ 26.375 40.375 22.484375 35.828125 \nQ 18.609375 31.296875 18.609375 23.390625 \nQ 18.609375 15.53125 22.484375 10.953125 \nQ 26.375 6.390625 33.015625 6.390625 \nQ 39.65625 6.390625 43.53125 10.953125 \nQ 47.40625 15.53125 47.40625 23.390625 \nQ 47.40625 31.296875 43.53125 35.828125 \nQ 39.65625 40.375 33.015625 40.375 \nz\nM 52.59375 71.296875 \nL 52.59375 62.3125 \nQ 48.875 64.0625 45.09375 64.984375 \nQ 41.3125 65.921875 37.59375 65.921875 \nQ 27.828125 65.921875 22.671875 59.328125 \nQ 17.53125 52.734375 16.796875 39.40625 \nQ 19.671875 43.65625 24.015625 45.921875 \nQ 28.375 48.1875 33.59375 48.1875 \nQ 44.578125 48.1875 50.953125 41.515625 \nQ 57.328125 34.859375 57.328125 23.390625 \nQ 57.328125 12.15625 50.6875 5.359375 \nQ 44.046875 -1.421875 33.015625 -1.421875 \nQ 20.359375 -1.421875 13.671875 8.265625 \nQ 6.984375 17.96875 6.984375 36.375 \nQ 6.984375 53.65625 15.1875 63.9375 \nQ 23.390625 74.21875 37.203125 74.21875 \nQ 40.921875 74.21875 44.703125 73.484375 \nQ 48.484375 72.75 52.59375 71.296875 \nz\n\" id=\"DejaVuSans-54\"/>\n       </defs>\n       <use xlink:href=\"#DejaVuSans-54\"/>\n       <use x=\"63.623047\" xlink:href=\"#DejaVuSans-48\"/>\n      </g>\n     </g>\n    </g>\n    <g id=\"xtick_5\">\n     <g id=\"line2d_5\">\n      <g>\n       <use style=\"stroke:#000000;stroke-width:0.8;\" x=\"339.854279\" xlink:href=\"#m9a0b4238c2\" y=\"228.638484\"/>\n      </g>\n     </g>\n     <g id=\"text_5\">\n      <!-- 80 -->\n      <g transform=\"translate(329.674279 247.795984)scale(0.16 -0.16)\">\n       <defs>\n        <path d=\"M 31.78125 34.625 \nQ 24.75 34.625 20.71875 30.859375 \nQ 16.703125 27.09375 16.703125 20.515625 \nQ 16.703125 13.921875 20.71875 10.15625 \nQ 24.75 6.390625 31.78125 6.390625 \nQ 38.8125 6.390625 42.859375 10.171875 \nQ 46.921875 13.96875 46.921875 20.515625 \nQ 46.921875 27.09375 42.890625 30.859375 \nQ 38.875 34.625 31.78125 34.625 \nz\nM 21.921875 38.8125 \nQ 15.578125 40.375 12.03125 44.71875 \nQ 8.5 49.078125 8.5 55.328125 \nQ 8.5 64.0625 14.71875 69.140625 \nQ 20.953125 74.21875 31.78125 74.21875 \nQ 42.671875 74.21875 48.875 69.140625 \nQ 55.078125 64.0625 55.078125 55.328125 \nQ 55.078125 49.078125 51.53125 44.71875 \nQ 48 40.375 41.703125 38.8125 \nQ 48.828125 37.15625 52.796875 32.3125 \nQ 56.78125 27.484375 56.78125 20.515625 \nQ 56.78125 9.90625 50.3125 4.234375 \nQ 43.84375 -1.421875 31.78125 -1.421875 \nQ 19.734375 -1.421875 13.25 4.234375 \nQ 6.78125 9.90625 6.78125 20.515625 \nQ 6.78125 27.484375 10.78125 32.3125 \nQ 14.796875 37.15625 21.921875 38.8125 \nz\nM 18.3125 54.390625 \nQ 18.3125 48.734375 21.84375 45.5625 \nQ 25.390625 42.390625 31.78125 42.390625 \nQ 38.140625 42.390625 41.71875 45.5625 \nQ 45.3125 48.734375 45.3125 54.390625 \nQ 45.3125 60.0625 41.71875 63.234375 \nQ 38.140625 66.40625 31.78125 66.40625 \nQ 25.390625 66.40625 21.84375 63.234375 \nQ 18.3125 60.0625 18.3125 54.390625 \nz\n\" id=\"DejaVuSans-56\"/>\n       </defs>\n       <use xlink:href=\"#DejaVuSans-56\"/>\n       <use x=\"63.623047\" xlink:href=\"#DejaVuSans-48\"/>\n      </g>\n     </g>\n    </g>\n    <g id=\"xtick_6\">\n     <g id=\"line2d_6\">\n      <g>\n       <use style=\"stroke:#000000;stroke-width:0.8;\" x=\"402.637805\" xlink:href=\"#m9a0b4238c2\" y=\"228.638484\"/>\n      </g>\n     </g>\n     <g id=\"text_6\">\n      <!-- 100 -->\n      <g transform=\"translate(387.367805 247.795984)scale(0.16 -0.16)\">\n       <defs>\n        <path d=\"M 12.40625 8.296875 \nL 28.515625 8.296875 \nL 28.515625 63.921875 \nL 10.984375 60.40625 \nL 10.984375 69.390625 \nL 28.421875 72.90625 \nL 38.28125 72.90625 \nL 38.28125 8.296875 \nL 54.390625 8.296875 \nL 54.390625 0 \nL 12.40625 0 \nz\n\" id=\"DejaVuSans-49\"/>\n       </defs>\n       <use xlink:href=\"#DejaVuSans-49\"/>\n       <use x=\"63.623047\" xlink:href=\"#DejaVuSans-48\"/>\n       <use x=\"127.246094\" xlink:href=\"#DejaVuSans-48\"/>\n      </g>\n     </g>\n    </g>\n    <g id=\"text_7\">\n     <!-- Epochs -->\n     <g transform=\"translate(208.278151 270.320359)scale(0.2 -0.2)\">\n      <defs>\n       <path d=\"M 9.8125 72.90625 \nL 55.90625 72.90625 \nL 55.90625 64.59375 \nL 19.671875 64.59375 \nL 19.671875 43.015625 \nL 54.390625 43.015625 \nL 54.390625 34.71875 \nL 19.671875 34.71875 \nL 19.671875 8.296875 \nL 56.78125 8.296875 \nL 56.78125 0 \nL 9.8125 0 \nz\n\" id=\"DejaVuSans-69\"/>\n       <path d=\"M 18.109375 8.203125 \nL 18.109375 -20.796875 \nL 9.078125 -20.796875 \nL 9.078125 54.6875 \nL 18.109375 54.6875 \nL 18.109375 46.390625 \nQ 20.953125 51.265625 25.265625 53.625 \nQ 29.59375 56 35.59375 56 \nQ 45.5625 56 51.78125 48.09375 \nQ 58.015625 40.1875 58.015625 27.296875 \nQ 58.015625 14.40625 51.78125 6.484375 \nQ 45.5625 -1.421875 35.59375 -1.421875 \nQ 29.59375 -1.421875 25.265625 0.953125 \nQ 20.953125 3.328125 18.109375 8.203125 \nz\nM 48.6875 27.296875 \nQ 48.6875 37.203125 44.609375 42.84375 \nQ 40.53125 48.484375 33.40625 48.484375 \nQ 26.265625 48.484375 22.1875 42.84375 \nQ 18.109375 37.203125 18.109375 27.296875 \nQ 18.109375 17.390625 22.1875 11.75 \nQ 26.265625 6.109375 33.40625 6.109375 \nQ 40.53125 6.109375 44.609375 11.75 \nQ 48.6875 17.390625 48.6875 27.296875 \nz\n\" id=\"DejaVuSans-112\"/>\n       <path d=\"M 30.609375 48.390625 \nQ 23.390625 48.390625 19.1875 42.75 \nQ 14.984375 37.109375 14.984375 27.296875 \nQ 14.984375 17.484375 19.15625 11.84375 \nQ 23.34375 6.203125 30.609375 6.203125 \nQ 37.796875 6.203125 41.984375 11.859375 \nQ 46.1875 17.53125 46.1875 27.296875 \nQ 46.1875 37.015625 41.984375 42.703125 \nQ 37.796875 48.390625 30.609375 48.390625 \nz\nM 30.609375 56 \nQ 42.328125 56 49.015625 48.375 \nQ 55.71875 40.765625 55.71875 27.296875 \nQ 55.71875 13.875 49.015625 6.21875 \nQ 42.328125 -1.421875 30.609375 -1.421875 \nQ 18.84375 -1.421875 12.171875 6.21875 \nQ 5.515625 13.875 5.515625 27.296875 \nQ 5.515625 40.765625 12.171875 48.375 \nQ 18.84375 56 30.609375 56 \nz\n\" id=\"DejaVuSans-111\"/>\n       <path d=\"M 48.78125 52.59375 \nL 48.78125 44.1875 \nQ 44.96875 46.296875 41.140625 47.34375 \nQ 37.3125 48.390625 33.40625 48.390625 \nQ 24.65625 48.390625 19.8125 42.84375 \nQ 14.984375 37.3125 14.984375 27.296875 \nQ 14.984375 17.28125 19.8125 11.734375 \nQ 24.65625 6.203125 33.40625 6.203125 \nQ 37.3125 6.203125 41.140625 7.25 \nQ 44.96875 8.296875 48.78125 10.40625 \nL 48.78125 2.09375 \nQ 45.015625 0.34375 40.984375 -0.53125 \nQ 36.96875 -1.421875 32.421875 -1.421875 \nQ 20.0625 -1.421875 12.78125 6.34375 \nQ 5.515625 14.109375 5.515625 27.296875 \nQ 5.515625 40.671875 12.859375 48.328125 \nQ 20.21875 56 33.015625 56 \nQ 37.15625 56 41.109375 55.140625 \nQ 45.0625 54.296875 48.78125 52.59375 \nz\n\" id=\"DejaVuSans-99\"/>\n       <path d=\"M 54.890625 33.015625 \nL 54.890625 0 \nL 45.90625 0 \nL 45.90625 32.71875 \nQ 45.90625 40.484375 42.875 44.328125 \nQ 39.84375 48.1875 33.796875 48.1875 \nQ 26.515625 48.1875 22.3125 43.546875 \nQ 18.109375 38.921875 18.109375 30.90625 \nL 18.109375 0 \nL 9.078125 0 \nL 9.078125 75.984375 \nL 18.109375 75.984375 \nL 18.109375 46.1875 \nQ 21.34375 51.125 25.703125 53.5625 \nQ 30.078125 56 35.796875 56 \nQ 45.21875 56 50.046875 50.171875 \nQ 54.890625 44.34375 54.890625 33.015625 \nz\n\" id=\"DejaVuSans-104\"/>\n       <path d=\"M 44.28125 53.078125 \nL 44.28125 44.578125 \nQ 40.484375 46.53125 36.375 47.5 \nQ 32.28125 48.484375 27.875 48.484375 \nQ 21.1875 48.484375 17.84375 46.4375 \nQ 14.5 44.390625 14.5 40.28125 \nQ 14.5 37.15625 16.890625 35.375 \nQ 19.28125 33.59375 26.515625 31.984375 \nL 29.59375 31.296875 \nQ 39.15625 29.25 43.1875 25.515625 \nQ 47.21875 21.78125 47.21875 15.09375 \nQ 47.21875 7.46875 41.1875 3.015625 \nQ 35.15625 -1.421875 24.609375 -1.421875 \nQ 20.21875 -1.421875 15.453125 -0.5625 \nQ 10.6875 0.296875 5.421875 2 \nL 5.421875 11.28125 \nQ 10.40625 8.6875 15.234375 7.390625 \nQ 20.0625 6.109375 24.8125 6.109375 \nQ 31.15625 6.109375 34.5625 8.28125 \nQ 37.984375 10.453125 37.984375 14.40625 \nQ 37.984375 18.0625 35.515625 20.015625 \nQ 33.0625 21.96875 24.703125 23.78125 \nL 21.578125 24.515625 \nQ 13.234375 26.265625 9.515625 29.90625 \nQ 5.8125 33.546875 5.8125 39.890625 \nQ 5.8125 47.609375 11.28125 51.796875 \nQ 16.75 56 26.8125 56 \nQ 31.78125 56 36.171875 55.265625 \nQ 40.578125 54.546875 44.28125 53.078125 \nz\n\" id=\"DejaVuSans-115\"/>\n      </defs>\n      <use xlink:href=\"#DejaVuSans-69\"/>\n      <use x=\"63.183594\" xlink:href=\"#DejaVuSans-112\"/>\n      <use x=\"126.660156\" xlink:href=\"#DejaVuSans-111\"/>\n      <use x=\"187.841797\" xlink:href=\"#DejaVuSans-99\"/>\n      <use x=\"242.822266\" xlink:href=\"#DejaVuSans-104\"/>\n      <use x=\"306.201172\" xlink:href=\"#DejaVuSans-115\"/>\n     </g>\n    </g>\n   </g>\n   <g id=\"matplotlib.axis_2\">\n    <g id=\"ytick_1\">\n     <g id=\"line2d_7\">\n      <defs>\n       <path d=\"M 0 0 \nL -3.5 0 \n\" id=\"m4c1e00cc8b\" style=\"stroke:#000000;stroke-width:0.8;\"/>\n      </defs>\n      <g>\n       <use style=\"stroke:#000000;stroke-width:0.8;\" x=\"73.18125\" xlink:href=\"#m4c1e00cc8b\" y=\"224.485179\"/>\n      </g>\n     </g>\n     <g id=\"text_8\">\n      <!-- 0.45 -->\n      <g transform=\"translate(30.55625 230.563929)scale(0.16 -0.16)\">\n       <defs>\n        <path d=\"M 10.6875 12.40625 \nL 21 12.40625 \nL 21 0 \nL 10.6875 0 \nz\n\" id=\"DejaVuSans-46\"/>\n        <path d=\"M 10.796875 72.90625 \nL 49.515625 72.90625 \nL 49.515625 64.59375 \nL 19.828125 64.59375 \nL 19.828125 46.734375 \nQ 21.96875 47.46875 24.109375 47.828125 \nQ 26.265625 48.1875 28.421875 48.1875 \nQ 40.625 48.1875 47.75 41.5 \nQ 54.890625 34.8125 54.890625 23.390625 \nQ 54.890625 11.625 47.5625 5.09375 \nQ 40.234375 -1.421875 26.90625 -1.421875 \nQ 22.3125 -1.421875 17.546875 -0.640625 \nQ 12.796875 0.140625 7.71875 1.703125 \nL 7.71875 11.625 \nQ 12.109375 9.234375 16.796875 8.0625 \nQ 21.484375 6.890625 26.703125 6.890625 \nQ 35.15625 6.890625 40.078125 11.328125 \nQ 45.015625 15.765625 45.015625 23.390625 \nQ 45.015625 31 40.078125 35.4375 \nQ 35.15625 39.890625 26.703125 39.890625 \nQ 22.75 39.890625 18.8125 39.015625 \nQ 14.890625 38.140625 10.796875 36.28125 \nz\n\" id=\"DejaVuSans-53\"/>\n       </defs>\n       <use xlink:href=\"#DejaVuSans-48\"/>\n       <use x=\"63.623047\" xlink:href=\"#DejaVuSans-46\"/>\n       <use x=\"95.410156\" xlink:href=\"#DejaVuSans-52\"/>\n       <use x=\"159.033203\" xlink:href=\"#DejaVuSans-53\"/>\n      </g>\n     </g>\n    </g>\n    <g id=\"ytick_2\">\n     <g id=\"line2d_8\">\n      <g>\n       <use style=\"stroke:#000000;stroke-width:0.8;\" x=\"73.18125\" xlink:href=\"#m4c1e00cc8b\" y=\"182.243893\"/>\n      </g>\n     </g>\n     <g id=\"text_9\">\n      <!-- 0.50 -->\n      <g transform=\"translate(30.55625 188.322643)scale(0.16 -0.16)\">\n       <use xlink:href=\"#DejaVuSans-48\"/>\n       <use x=\"63.623047\" xlink:href=\"#DejaVuSans-46\"/>\n       <use x=\"95.410156\" xlink:href=\"#DejaVuSans-53\"/>\n       <use x=\"159.033203\" xlink:href=\"#DejaVuSans-48\"/>\n      </g>\n     </g>\n    </g>\n    <g id=\"ytick_3\">\n     <g id=\"line2d_9\">\n      <g>\n       <use style=\"stroke:#000000;stroke-width:0.8;\" x=\"73.18125\" xlink:href=\"#m4c1e00cc8b\" y=\"140.002607\"/>\n      </g>\n     </g>\n     <g id=\"text_10\">\n      <!-- 0.55 -->\n      <g transform=\"translate(30.55625 146.081357)scale(0.16 -0.16)\">\n       <use xlink:href=\"#DejaVuSans-48\"/>\n       <use x=\"63.623047\" xlink:href=\"#DejaVuSans-46\"/>\n       <use x=\"95.410156\" xlink:href=\"#DejaVuSans-53\"/>\n       <use x=\"159.033203\" xlink:href=\"#DejaVuSans-53\"/>\n      </g>\n     </g>\n    </g>\n    <g id=\"ytick_4\">\n     <g id=\"line2d_10\">\n      <g>\n       <use style=\"stroke:#000000;stroke-width:0.8;\" x=\"73.18125\" xlink:href=\"#m4c1e00cc8b\" y=\"97.761321\"/>\n      </g>\n     </g>\n     <g id=\"text_11\">\n      <!-- 0.60 -->\n      <g transform=\"translate(30.55625 103.840071)scale(0.16 -0.16)\">\n       <use xlink:href=\"#DejaVuSans-48\"/>\n       <use x=\"63.623047\" xlink:href=\"#DejaVuSans-46\"/>\n       <use x=\"95.410156\" xlink:href=\"#DejaVuSans-54\"/>\n       <use x=\"159.033203\" xlink:href=\"#DejaVuSans-48\"/>\n      </g>\n     </g>\n    </g>\n    <g id=\"ytick_5\">\n     <g id=\"line2d_11\">\n      <g>\n       <use style=\"stroke:#000000;stroke-width:0.8;\" x=\"73.18125\" xlink:href=\"#m4c1e00cc8b\" y=\"55.520036\"/>\n      </g>\n     </g>\n     <g id=\"text_12\">\n      <!-- 0.65 -->\n      <g transform=\"translate(30.55625 61.598786)scale(0.16 -0.16)\">\n       <use xlink:href=\"#DejaVuSans-48\"/>\n       <use x=\"63.623047\" xlink:href=\"#DejaVuSans-46\"/>\n       <use x=\"95.410156\" xlink:href=\"#DejaVuSans-54\"/>\n       <use x=\"159.033203\" xlink:href=\"#DejaVuSans-53\"/>\n      </g>\n     </g>\n    </g>\n    <g id=\"ytick_6\">\n     <g id=\"line2d_12\">\n      <g>\n       <use style=\"stroke:#000000;stroke-width:0.8;\" x=\"73.18125\" xlink:href=\"#m4c1e00cc8b\" y=\"13.27875\"/>\n      </g>\n     </g>\n     <g id=\"text_13\">\n      <!-- 0.70 -->\n      <g transform=\"translate(30.55625 19.3575)scale(0.16 -0.16)\">\n       <defs>\n        <path d=\"M 8.203125 72.90625 \nL 55.078125 72.90625 \nL 55.078125 68.703125 \nL 28.609375 0 \nL 18.3125 0 \nL 43.21875 64.59375 \nL 8.203125 64.59375 \nz\n\" id=\"DejaVuSans-55\"/>\n       </defs>\n       <use xlink:href=\"#DejaVuSans-48\"/>\n       <use x=\"63.623047\" xlink:href=\"#DejaVuSans-46\"/>\n       <use x=\"95.410156\" xlink:href=\"#DejaVuSans-55\"/>\n       <use x=\"159.033203\" xlink:href=\"#DejaVuSans-48\"/>\n      </g>\n     </g>\n    </g>\n    <g id=\"text_14\">\n     <!-- Objective Value -->\n     <g transform=\"translate(22.396875 196.924505)rotate(-90)scale(0.2 -0.2)\">\n      <defs>\n       <path d=\"M 39.40625 66.21875 \nQ 28.65625 66.21875 22.328125 58.203125 \nQ 16.015625 50.203125 16.015625 36.375 \nQ 16.015625 22.609375 22.328125 14.59375 \nQ 28.65625 6.59375 39.40625 6.59375 \nQ 50.140625 6.59375 56.421875 14.59375 \nQ 62.703125 22.609375 62.703125 36.375 \nQ 62.703125 50.203125 56.421875 58.203125 \nQ 50.140625 66.21875 39.40625 66.21875 \nz\nM 39.40625 74.21875 \nQ 54.734375 74.21875 63.90625 63.9375 \nQ 73.09375 53.65625 73.09375 36.375 \nQ 73.09375 19.140625 63.90625 8.859375 \nQ 54.734375 -1.421875 39.40625 -1.421875 \nQ 24.03125 -1.421875 14.8125 8.828125 \nQ 5.609375 19.09375 5.609375 36.375 \nQ 5.609375 53.65625 14.8125 63.9375 \nQ 24.03125 74.21875 39.40625 74.21875 \nz\n\" id=\"DejaVuSans-79\"/>\n       <path d=\"M 48.6875 27.296875 \nQ 48.6875 37.203125 44.609375 42.84375 \nQ 40.53125 48.484375 33.40625 48.484375 \nQ 26.265625 48.484375 22.1875 42.84375 \nQ 18.109375 37.203125 18.109375 27.296875 \nQ 18.109375 17.390625 22.1875 11.75 \nQ 26.265625 6.109375 33.40625 6.109375 \nQ 40.53125 6.109375 44.609375 11.75 \nQ 48.6875 17.390625 48.6875 27.296875 \nz\nM 18.109375 46.390625 \nQ 20.953125 51.265625 25.265625 53.625 \nQ 29.59375 56 35.59375 56 \nQ 45.5625 56 51.78125 48.09375 \nQ 58.015625 40.1875 58.015625 27.296875 \nQ 58.015625 14.40625 51.78125 6.484375 \nQ 45.5625 -1.421875 35.59375 -1.421875 \nQ 29.59375 -1.421875 25.265625 0.953125 \nQ 20.953125 3.328125 18.109375 8.203125 \nL 18.109375 0 \nL 9.078125 0 \nL 9.078125 75.984375 \nL 18.109375 75.984375 \nz\n\" id=\"DejaVuSans-98\"/>\n       <path d=\"M 9.421875 54.6875 \nL 18.40625 54.6875 \nL 18.40625 -0.984375 \nQ 18.40625 -11.421875 14.421875 -16.109375 \nQ 10.453125 -20.796875 1.609375 -20.796875 \nL -1.8125 -20.796875 \nL -1.8125 -13.1875 \nL 0.59375 -13.1875 \nQ 5.71875 -13.1875 7.5625 -10.8125 \nQ 9.421875 -8.453125 9.421875 -0.984375 \nz\nM 9.421875 75.984375 \nL 18.40625 75.984375 \nL 18.40625 64.59375 \nL 9.421875 64.59375 \nz\n\" id=\"DejaVuSans-106\"/>\n       <path d=\"M 56.203125 29.59375 \nL 56.203125 25.203125 \nL 14.890625 25.203125 \nQ 15.484375 15.921875 20.484375 11.0625 \nQ 25.484375 6.203125 34.421875 6.203125 \nQ 39.59375 6.203125 44.453125 7.46875 \nQ 49.3125 8.734375 54.109375 11.28125 \nL 54.109375 2.78125 \nQ 49.265625 0.734375 44.1875 -0.34375 \nQ 39.109375 -1.421875 33.890625 -1.421875 \nQ 20.796875 -1.421875 13.15625 6.1875 \nQ 5.515625 13.8125 5.515625 26.8125 \nQ 5.515625 40.234375 12.765625 48.109375 \nQ 20.015625 56 32.328125 56 \nQ 43.359375 56 49.78125 48.890625 \nQ 56.203125 41.796875 56.203125 29.59375 \nz\nM 47.21875 32.234375 \nQ 47.125 39.59375 43.09375 43.984375 \nQ 39.0625 48.390625 32.421875 48.390625 \nQ 24.90625 48.390625 20.390625 44.140625 \nQ 15.875 39.890625 15.1875 32.171875 \nz\n\" id=\"DejaVuSans-101\"/>\n       <path d=\"M 18.3125 70.21875 \nL 18.3125 54.6875 \nL 36.8125 54.6875 \nL 36.8125 47.703125 \nL 18.3125 47.703125 \nL 18.3125 18.015625 \nQ 18.3125 11.328125 20.140625 9.421875 \nQ 21.96875 7.515625 27.59375 7.515625 \nL 36.8125 7.515625 \nL 36.8125 0 \nL 27.59375 0 \nQ 17.1875 0 13.234375 3.875 \nQ 9.28125 7.765625 9.28125 18.015625 \nL 9.28125 47.703125 \nL 2.6875 47.703125 \nL 2.6875 54.6875 \nL 9.28125 54.6875 \nL 9.28125 70.21875 \nz\n\" id=\"DejaVuSans-116\"/>\n       <path d=\"M 9.421875 54.6875 \nL 18.40625 54.6875 \nL 18.40625 0 \nL 9.421875 0 \nz\nM 9.421875 75.984375 \nL 18.40625 75.984375 \nL 18.40625 64.59375 \nL 9.421875 64.59375 \nz\n\" id=\"DejaVuSans-105\"/>\n       <path d=\"M 2.984375 54.6875 \nL 12.5 54.6875 \nL 29.59375 8.796875 \nL 46.6875 54.6875 \nL 56.203125 54.6875 \nL 35.6875 0 \nL 23.484375 0 \nz\n\" id=\"DejaVuSans-118\"/>\n       <path id=\"DejaVuSans-32\"/>\n       <path d=\"M 28.609375 0 \nL 0.78125 72.90625 \nL 11.078125 72.90625 \nL 34.1875 11.53125 \nL 57.328125 72.90625 \nL 67.578125 72.90625 \nL 39.796875 0 \nz\n\" id=\"DejaVuSans-86\"/>\n       <path d=\"M 34.28125 27.484375 \nQ 23.390625 27.484375 19.1875 25 \nQ 14.984375 22.515625 14.984375 16.5 \nQ 14.984375 11.71875 18.140625 8.90625 \nQ 21.296875 6.109375 26.703125 6.109375 \nQ 34.1875 6.109375 38.703125 11.40625 \nQ 43.21875 16.703125 43.21875 25.484375 \nL 43.21875 27.484375 \nz\nM 52.203125 31.203125 \nL 52.203125 0 \nL 43.21875 0 \nL 43.21875 8.296875 \nQ 40.140625 3.328125 35.546875 0.953125 \nQ 30.953125 -1.421875 24.3125 -1.421875 \nQ 15.921875 -1.421875 10.953125 3.296875 \nQ 6 8.015625 6 15.921875 \nQ 6 25.140625 12.171875 29.828125 \nQ 18.359375 34.515625 30.609375 34.515625 \nL 43.21875 34.515625 \nL 43.21875 35.40625 \nQ 43.21875 41.609375 39.140625 45 \nQ 35.0625 48.390625 27.6875 48.390625 \nQ 23 48.390625 18.546875 47.265625 \nQ 14.109375 46.140625 10.015625 43.890625 \nL 10.015625 52.203125 \nQ 14.9375 54.109375 19.578125 55.046875 \nQ 24.21875 56 28.609375 56 \nQ 40.484375 56 46.34375 49.84375 \nQ 52.203125 43.703125 52.203125 31.203125 \nz\n\" id=\"DejaVuSans-97\"/>\n       <path d=\"M 9.421875 75.984375 \nL 18.40625 75.984375 \nL 18.40625 0 \nL 9.421875 0 \nz\n\" id=\"DejaVuSans-108\"/>\n       <path d=\"M 8.5 21.578125 \nL 8.5 54.6875 \nL 17.484375 54.6875 \nL 17.484375 21.921875 \nQ 17.484375 14.15625 20.5 10.265625 \nQ 23.53125 6.390625 29.59375 6.390625 \nQ 36.859375 6.390625 41.078125 11.03125 \nQ 45.3125 15.671875 45.3125 23.6875 \nL 45.3125 54.6875 \nL 54.296875 54.6875 \nL 54.296875 0 \nL 45.3125 0 \nL 45.3125 8.40625 \nQ 42.046875 3.421875 37.71875 1 \nQ 33.40625 -1.421875 27.6875 -1.421875 \nQ 18.265625 -1.421875 13.375 4.4375 \nQ 8.5 10.296875 8.5 21.578125 \nz\nM 31.109375 56 \nz\n\" id=\"DejaVuSans-117\"/>\n      </defs>\n      <use xlink:href=\"#DejaVuSans-79\"/>\n      <use x=\"78.710938\" xlink:href=\"#DejaVuSans-98\"/>\n      <use x=\"142.1875\" xlink:href=\"#DejaVuSans-106\"/>\n      <use x=\"169.970703\" xlink:href=\"#DejaVuSans-101\"/>\n      <use x=\"231.494141\" xlink:href=\"#DejaVuSans-99\"/>\n      <use x=\"286.474609\" xlink:href=\"#DejaVuSans-116\"/>\n      <use x=\"325.683594\" xlink:href=\"#DejaVuSans-105\"/>\n      <use x=\"353.466797\" xlink:href=\"#DejaVuSans-118\"/>\n      <use x=\"412.646484\" xlink:href=\"#DejaVuSans-101\"/>\n      <use x=\"474.169922\" xlink:href=\"#DejaVuSans-32\"/>\n      <use x=\"505.957031\" xlink:href=\"#DejaVuSans-86\"/>\n      <use x=\"566.615234\" xlink:href=\"#DejaVuSans-97\"/>\n      <use x=\"627.894531\" xlink:href=\"#DejaVuSans-108\"/>\n      <use x=\"655.677734\" xlink:href=\"#DejaVuSans-117\"/>\n      <use x=\"719.056641\" xlink:href=\"#DejaVuSans-101\"/>\n     </g>\n    </g>\n   </g>\n   <g id=\"line2d_13\">\n    <path clip-path=\"url(#p40ed92657d)\" d=\"M 88.720173 19.068188 \nL 91.859349 110.615206 \nL 94.998525 148.357741 \nL 98.137702 168.78302 \nL 101.276878 181.572334 \nL 104.416054 190.25199 \nL 107.555231 196.442842 \nL 110.694407 201.010149 \nL 113.833583 204.46397 \nL 116.97276 207.126176 \nL 120.111936 209.210023 \nL 123.251112 210.862059 \nL 126.390289 212.185904 \nL 129.529465 213.256541 \nL 132.668641 214.129296 \nL 135.807818 214.845675 \nL 138.946994 215.437266 \nL 142.08617 215.928422 \nL 145.225347 216.338127 \nL 148.364523 216.68133 \nL 151.503699 216.969909 \nL 154.642876 217.213381 \nL 157.782052 217.419421 \nL 160.921228 217.594265 \nL 164.060405 217.743007 \nL 167.199581 217.869832 \nL 170.338757 217.978193 \nL 173.477934 218.070955 \nL 176.61711 218.150501 \nL 179.756286 218.218825 \nL 182.895463 218.277595 \nL 186.034639 218.328218 \nL 189.173815 218.371877 \nL 192.312991 218.409576 \nL 195.452168 218.442163 \nL 198.591344 218.47036 \nL 201.73052 218.494783 \nL 204.869697 218.515954 \nL 208.008873 218.534323 \nL 211.148049 218.550273 \nL 214.287226 218.564132 \nL 217.426402 218.576183 \nL 220.565578 218.58667 \nL 223.704755 218.5958 \nL 226.843931 218.603753 \nL 229.983107 218.610686 \nL 233.122284 218.616733 \nL 236.26146 218.622008 \nL 239.400636 218.626614 \nL 242.539813 218.630636 \nL 245.678989 218.634151 \nL 248.818165 218.637223 \nL 251.957342 218.63991 \nL 255.096518 218.64226 \nL 258.235694 218.644316 \nL 261.374871 218.646117 \nL 264.514047 218.647693 \nL 267.653223 218.649074 \nL 270.7924 218.650285 \nL 273.931576 218.651345 \nL 277.070752 218.652275 \nL 280.209929 218.653091 \nL 283.349105 218.653807 \nL 286.488281 218.654434 \nL 289.627458 218.654986 \nL 292.766634 218.655469 \nL 295.90581 218.655894 \nL 299.044986 218.656267 \nL 302.184163 218.656595 \nL 305.323339 218.656883 \nL 308.462515 218.657136 \nL 311.601692 218.657359 \nL 314.740868 218.657555 \nL 317.880044 218.657727 \nL 321.019221 218.657878 \nL 324.158397 218.658011 \nL 327.297573 218.658128 \nL 330.43675 218.658231 \nL 333.575926 218.658322 \nL 336.715102 218.658402 \nL 339.854279 218.658472 \nL 342.993455 218.658534 \nL 346.132631 218.658589 \nL 349.271808 218.658637 \nL 352.410984 218.658679 \nL 355.55016 218.658716 \nL 358.689337 218.658749 \nL 361.828513 218.658778 \nL 364.967689 218.658803 \nL 368.106866 218.658826 \nL 371.246042 218.658846 \nL 374.385218 218.658863 \nL 377.524395 218.658879 \nL 380.663571 218.658892 \nL 383.802747 218.658904 \nL 386.941924 218.658915 \nL 390.0811 218.658924 \nL 393.220276 218.658932 \nL 396.359453 218.65894 \nL 399.498629 218.658946 \n\" style=\"fill:none;stroke:#0000ff;stroke-dasharray:14.8,6.4;stroke-dashoffset:0;stroke-width:4;\"/>\n   </g>\n   <g id=\"line2d_14\">\n    <path clip-path=\"url(#p40ed92657d)\" d=\"M 88.720173 168.315134 \nL 91.859349 175.773471 \nL 94.998525 177.171529 \nL 98.137702 193.511011 \nL 101.276878 186.847913 \nL 104.416054 194.456571 \nL 107.555231 197.021007 \nL 110.694407 195.296033 \nL 113.833583 199.773838 \nL 116.97276 200.063711 \nL 120.111936 201.461162 \nL 123.251112 202.767242 \nL 126.390289 205.270413 \nL 129.529465 204.55097 \nL 132.668641 207.443591 \nL 135.807818 207.525733 \nL 138.946994 209.47346 \nL 142.08617 210.203435 \nL 145.225347 210.745915 \nL 148.364523 211.017401 \nL 151.503699 212.465944 \nL 154.642876 212.40493 \nL 157.782052 213.558235 \nL 160.921228 213.271289 \nL 164.060405 214.289007 \nL 167.199581 214.503541 \nL 170.338757 214.896372 \nL 173.477934 215.20138 \nL 176.61711 215.552581 \nL 179.756286 215.892344 \nL 182.895463 216.07993 \nL 186.034639 216.453571 \nL 189.173815 216.648499 \nL 192.312991 216.872089 \nL 195.452168 216.988152 \nL 198.591344 217.161977 \nL 201.73052 217.285347 \nL 204.869697 217.415485 \nL 208.008873 217.532469 \nL 211.148049 217.655418 \nL 214.287226 217.765423 \nL 217.426402 217.838651 \nL 220.565578 217.930829 \nL 223.704755 217.985431 \nL 226.843931 218.065201 \nL 229.983107 218.124231 \nL 233.122284 218.170952 \nL 236.26146 218.236766 \nL 239.400636 218.264301 \nL 242.539813 218.30272 \nL 245.678989 218.339187 \nL 248.818165 218.369839 \nL 251.957342 218.40179 \nL 255.096518 218.425015 \nL 258.235694 218.448382 \nL 261.374871 218.46973 \nL 264.514047 218.487951 \nL 267.653223 218.505427 \nL 270.7924 218.520466 \nL 273.931576 218.53412 \nL 277.070752 218.546583 \nL 280.209929 218.558402 \nL 283.349105 218.567913 \nL 286.488281 218.576957 \nL 289.627458 218.585225 \nL 292.766634 218.592504 \nL 295.90581 218.59918 \nL 299.044986 218.605054 \nL 302.184163 218.610449 \nL 305.323339 218.615305 \nL 308.462515 218.619667 \nL 311.601692 218.623563 \nL 314.740868 218.627088 \nL 317.880044 218.630258 \nL 321.019221 218.633137 \nL 324.158397 218.635702 \nL 327.297573 218.638027 \nL 330.43675 218.640094 \nL 333.575926 218.641969 \nL 336.715102 218.643657 \nL 339.854279 218.645176 \nL 342.993455 218.646544 \nL 346.132631 218.647776 \nL 349.271808 218.648883 \nL 352.410984 218.649882 \nL 355.55016 218.650782 \nL 358.689337 218.65159 \nL 361.828513 218.652315 \nL 364.967689 218.652967 \nL 368.106866 218.653556 \nL 371.246042 218.654086 \nL 374.385218 218.654563 \nL 377.524395 218.654993 \nL 380.663571 218.655379 \nL 383.802747 218.655727 \nL 386.941924 218.65604 \nL 390.0811 218.656322 \nL 393.220276 218.656575 \nL 396.359453 218.656803 \nL 399.498629 218.657009 \n\" style=\"fill:none;stroke:#ff0000;stroke-linecap:square;stroke-width:2;\"/>\n   </g>\n   <g id=\"patch_3\">\n    <path d=\"M 73.18125 228.638484 \nL 73.18125 9.08865 \n\" style=\"fill:none;stroke:#000000;stroke-linecap:square;stroke-linejoin:miter;stroke-width:0.8;\"/>\n   </g>\n   <g id=\"patch_4\">\n    <path d=\"M 415.037552 228.638484 \nL 415.037552 9.08865 \n\" style=\"fill:none;stroke:#000000;stroke-linecap:square;stroke-linejoin:miter;stroke-width:0.8;\"/>\n   </g>\n   <g id=\"patch_5\">\n    <path d=\"M 73.18125 228.638484 \nL 415.037552 228.638484 \n\" style=\"fill:none;stroke:#000000;stroke-linecap:square;stroke-linejoin:miter;stroke-width:0.8;\"/>\n   </g>\n   <g id=\"patch_6\">\n    <path d=\"M 73.18125 9.08865 \nL 415.037552 9.08865 \n\" style=\"fill:none;stroke:#000000;stroke-linecap:square;stroke-linejoin:miter;stroke-width:0.8;\"/>\n   </g>\n   <g id=\"legend_1\">\n    <g id=\"patch_7\">\n     <path d=\"M 293.443802 83.80115 \nL 401.037552 83.80115 \nQ 405.037552 83.80115 405.037552 79.80115 \nL 405.037552 23.08865 \nQ 405.037552 19.08865 401.037552 19.08865 \nL 293.443802 19.08865 \nQ 289.443802 19.08865 289.443802 23.08865 \nL 289.443802 79.80115 \nQ 289.443802 83.80115 293.443802 83.80115 \nz\n\" style=\"fill:#ffffff;opacity:0.8;stroke:#cccccc;stroke-linejoin:miter;\"/>\n    </g>\n    <g id=\"line2d_15\">\n     <path d=\"M 297.443802 35.285525 \nL 337.443802 35.285525 \n\" style=\"fill:none;stroke:#0000ff;stroke-dasharray:14.8,6.4;stroke-dashoffset:0;stroke-width:4;\"/>\n    </g>\n    <g id=\"line2d_16\"/>\n    <g id=\"text_15\">\n     <!-- GD -->\n     <g transform=\"translate(353.443802 42.285525)scale(0.2 -0.2)\">\n      <defs>\n       <path d=\"M 59.515625 10.40625 \nL 59.515625 29.984375 \nL 43.40625 29.984375 \nL 43.40625 38.09375 \nL 69.28125 38.09375 \nL 69.28125 6.78125 \nQ 63.578125 2.734375 56.6875 0.65625 \nQ 49.8125 -1.421875 42 -1.421875 \nQ 24.90625 -1.421875 15.25 8.5625 \nQ 5.609375 18.5625 5.609375 36.375 \nQ 5.609375 54.25 15.25 64.234375 \nQ 24.90625 74.21875 42 74.21875 \nQ 49.125 74.21875 55.546875 72.453125 \nQ 61.96875 70.703125 67.390625 67.28125 \nL 67.390625 56.78125 \nQ 61.921875 61.421875 55.765625 63.765625 \nQ 49.609375 66.109375 42.828125 66.109375 \nQ 29.4375 66.109375 22.71875 58.640625 \nQ 16.015625 51.171875 16.015625 36.375 \nQ 16.015625 21.625 22.71875 14.15625 \nQ 29.4375 6.6875 42.828125 6.6875 \nQ 48.046875 6.6875 52.140625 7.59375 \nQ 56.25 8.5 59.515625 10.40625 \nz\n\" id=\"DejaVuSans-71\"/>\n       <path d=\"M 19.671875 64.796875 \nL 19.671875 8.109375 \nL 31.59375 8.109375 \nQ 46.6875 8.109375 53.6875 14.9375 \nQ 60.6875 21.78125 60.6875 36.53125 \nQ 60.6875 51.171875 53.6875 57.984375 \nQ 46.6875 64.796875 31.59375 64.796875 \nz\nM 9.8125 72.90625 \nL 30.078125 72.90625 \nQ 51.265625 72.90625 61.171875 64.09375 \nQ 71.09375 55.28125 71.09375 36.53125 \nQ 71.09375 17.671875 61.125 8.828125 \nQ 51.171875 0 30.078125 0 \nL 9.8125 0 \nz\n\" id=\"DejaVuSans-68\"/>\n      </defs>\n      <use xlink:href=\"#DejaVuSans-71\"/>\n      <use x=\"77.490234\" xlink:href=\"#DejaVuSans-68\"/>\n     </g>\n    </g>\n    <g id=\"line2d_17\">\n     <path d=\"M 297.443802 64.641775 \nL 337.443802 64.641775 \n\" style=\"fill:none;stroke:#ff0000;stroke-linecap:square;stroke-width:2;\"/>\n    </g>\n    <g id=\"line2d_18\"/>\n    <g id=\"text_16\">\n     <!-- SGD -->\n     <g transform=\"translate(353.443802 71.641775)scale(0.2 -0.2)\">\n      <defs>\n       <path d=\"M 53.515625 70.515625 \nL 53.515625 60.890625 \nQ 47.90625 63.578125 42.921875 64.890625 \nQ 37.9375 66.21875 33.296875 66.21875 \nQ 25.25 66.21875 20.875 63.09375 \nQ 16.5 59.96875 16.5 54.203125 \nQ 16.5 49.359375 19.40625 46.890625 \nQ 22.3125 44.4375 30.421875 42.921875 \nL 36.375 41.703125 \nQ 47.40625 39.59375 52.65625 34.296875 \nQ 57.90625 29 57.90625 20.125 \nQ 57.90625 9.515625 50.796875 4.046875 \nQ 43.703125 -1.421875 29.984375 -1.421875 \nQ 24.8125 -1.421875 18.96875 -0.25 \nQ 13.140625 0.921875 6.890625 3.21875 \nL 6.890625 13.375 \nQ 12.890625 10.015625 18.65625 8.296875 \nQ 24.421875 6.59375 29.984375 6.59375 \nQ 38.421875 6.59375 43.015625 9.90625 \nQ 47.609375 13.234375 47.609375 19.390625 \nQ 47.609375 24.75 44.3125 27.78125 \nQ 41.015625 30.8125 33.5 32.328125 \nL 27.484375 33.5 \nQ 16.453125 35.6875 11.515625 40.375 \nQ 6.59375 45.0625 6.59375 53.421875 \nQ 6.59375 63.09375 13.40625 68.65625 \nQ 20.21875 74.21875 32.171875 74.21875 \nQ 37.3125 74.21875 42.625 73.28125 \nQ 47.953125 72.359375 53.515625 70.515625 \nz\n\" id=\"DejaVuSans-83\"/>\n      </defs>\n      <use xlink:href=\"#DejaVuSans-83\"/>\n      <use x=\"63.476562\" xlink:href=\"#DejaVuSans-71\"/>\n      <use x=\"140.966797\" xlink:href=\"#DejaVuSans-68\"/>\n     </g>\n    </g>\n   </g>\n  </g>\n </g>\n <defs>\n  <clipPath id=\"p40ed92657d\">\n   <rect height=\"219.549834\" width=\"341.856302\" x=\"73.18125\" y=\"9.08865\"/>\n  </clipPath>\n </defs>\n</svg>\n",
      "image/png": "[encoded data removed]"
     },
     "metadata": {
      "needs_background": "light"
     }
    }
   ],
   "source": [
    "import matplotlib.pyplot as plt\n",
    "%matplotlib inline\n",
    "\n",
    "fig = plt.figure(figsize=(6, 4))\n",
    "\n",
    "epochs_gd = range(len(objvals_gd))\n",
    "epochs_sgd = range(len(objvals_sgd))\n",
    "\n",
    "line0, = plt.plot(epochs_gd, objvals_gd, '--b', LineWidth=4)\n",
    "line1, = plt.plot(epochs_sgd, objvals_sgd, '-r', LineWidth=2)\n",
    "plt.xlabel('Epochs', FontSize=20)\n",
    "plt.ylabel('Objective Value', FontSize=20)\n",
    "plt.xticks(FontSize=16)\n",
    "plt.yticks(FontSize=16)\n",
    "plt.legend([line0, line1], ['GD', 'SGD'], fontsize=20)\n",
    "plt.tight_layout()\n",
    "plt.show()\n",
    "fig.savefig('compare_gd_sgd.pdf', format='pdf', dpi=1200)"
   ]
  },
  {
   "cell_type": "markdown",
   "metadata": {},
   "source": [
    "# 5. Prediction"
   ]
  },
  {
   "cell_type": "code",
   "execution_count": 16,
   "metadata": {},
   "outputs": [],
   "source": [
    "# Predict class label\n",
    "# Inputs:\n",
    "#     w: d-by-1 matrix\n",
    "#     X: m-by-d matrix\n",
    "# Return:\n",
    "#     f: m-by-1 matrix, the predictions\n",
    "def predict(w, X):\n",
    "    xw = numpy.dot(X, w)\n",
    "    f = numpy.sign(xw)\n",
    "    return f"
   ]
  },
  {
   "cell_type": "code",
   "execution_count": 17,
   "metadata": {},
   "outputs": [
    {
     "output_type": "stream",
     "name": "stdout",
     "text": [
      "Training classification error is 0.2171875\n"
     ]
    }
   ],
   "source": [
    "# evaluate training error\n",
    "f_train = predict(w, x_train)\n",
    "diff = numpy.abs(f_train - y_train) / 2\n",
    "error_train = numpy.mean(diff)\n",
    "print('Training classification error is ' + str(error_train))"
   ]
  },
  {
   "cell_type": "code",
   "execution_count": 18,
   "metadata": {},
   "outputs": [
    {
     "output_type": "stream",
     "name": "stdout",
     "text": [
      "Test classification error is 0.234375\n"
     ]
    }
   ],
   "source": [
    "# evaluate test error\n",
    "f_test = predict(w, x_test)\n",
    "diff = numpy.abs(f_test - y_test) / 2\n",
    "error_test = numpy.mean(diff)\n",
    "print('Test classification error is ' + str(error_test))"
   ]
  },
  {
   "cell_type": "markdown",
   "metadata": {},
   "source": [
    "# 6. Mini-batch SGD (fill the code)\n",
    "\n"
   ]
  },
  {
   "cell_type": "markdown",
   "metadata": {},
   "source": [
    "## 6.1. Compute the objective $Q_I$ and its gradient using a batch of samples\n",
    "\n",
    "Define $Q_I (w) = \\frac{1}{b} \\sum_{i \\in I} \\log \\Big( 1 + \\exp \\big( - y_i x_i^T w \\big) \\Big) + \\frac{\\lambda}{2} \\| w \\|_2^2 $, where $I$ is a set containing $b$ indices randomly drawn from $\\{ 1, \\cdots , n \\}$ without replacement.\n",
    "\n",
    "The stochastic gradient at $w$ is $g_I = \\frac{\\partial Q_I }{ \\partial w} = \\frac{1}{b} \\sum_{i \\in I} \\frac{- y_i x_i }{1 + \\exp ( y_i x_i^T w)} + \\lambda w$."
   ]
  },
  {
   "cell_type": "code",
   "execution_count": 39,
   "metadata": {},
   "outputs": [],
   "source": [
    "# Calculate the objective Q_I and the gradient of Q_I\n",
    "# Inputs:\n",
    "#     w: d-by-1 matrix\n",
    "#     xi: b-by-d matrix\n",
    "#     yi: b-by-1 matrix\n",
    "#     lam: scalar, the regularization parameter\n",
    "#     b: integer, the batch size\n",
    "# Return:\n",
    "#     obj: scalar, the objective Q_i\n",
    "#     g: d-by-1 matrix, gradient of Q_i\n",
    "def mb_stochastic_objective_gradient(w, xi, yi, lam, b):\n",
    "    # Fill the function\n",
    "    # Follow the implementation of stochastic_objective_gradient\n",
    "    # Use matrix-vector multiplication; do not use FOR LOOP of vector-vector multiplications\n",
    "\n",
    "    d = xi.shape[0]\n",
    "    yx = numpy.multiply(yi, xi) # b-by-d matrix  (originally 1-by-d)\n",
    "    yxw = numpy.dot(yx, w) # b-by-1 vector (originally scalar)\n",
    "\n",
    "    # calculate objective function Q_i\n",
    "    loss = numpy.log(1 + numpy.exp(-yxw)) # b-by-1 vector\n",
    "    loss_sum = numpy.sum(loss) # scalar\n",
    "    reg = lam / 2 * numpy.sum(w * w) # scalar \n",
    "    obj = loss_sum + reg\n",
    "    \n",
    "    # calculate stochastic gradient\n",
    "    # (b,d) / (b,1)\n",
    "    g_loss = (1 / b) * (-yx / (1 + numpy.exp(yxw))) # b-by-d matrix (originally d-by-1 matrix)\n",
    "    g_loss_sum = numpy.sum(g_loss, axis=0) #1xd\n",
    "    g = g_loss_sum.T + (lam * w)\n",
    "\n",
    "    # g = numpy.sum((g_loss_sum, (lam * w).T), axis=0).T # (should be a d-by-1 matrix)\n",
    "\n",
    "    \n",
    "    return obj, g"
   ]
  },
  {
   "cell_type": "markdown",
   "metadata": {},
   "source": [
    "## 6.2. Implement mini-batch SGD\n",
    "\n",
    "Hints:\n",
    "1. In every epoch, randomly permute the $n$ samples (just like SGD).\n",
    "2. Each epoch has $\\frac{n}{b}$ iterations. In every iteration, use $b$ samples, and compute the gradient and objective using the ``mb_stochastic_objective_gradient`` function. In the next iteration, use the next $b$ samples, and so on.\n"
   ]
  },
  {
   "cell_type": "code",
   "execution_count": 70,
   "metadata": {},
   "outputs": [],
   "source": [
    "# Mini-Batch SGD for solving logistic regression\n",
    "# Inputs:\n",
    "#     x: n-by-d matrix\n",
    "#     y: n-by-1 matrix\n",
    "#     lam: scalar, the regularization parameter\n",
    "#     b: integer, the batch size\n",
    "#     stepsize: scalar\n",
    "#     max_epoch: integer, the maximal epochs\n",
    "#     w: d-by-1 matrix, initialization of w\n",
    "# Return:\n",
    "#     w: the solution\n",
    "#     objvals: record of each iteration's objective value\n",
    "def mb_sgd(x, y, lam, b, stepsize, max_epoch=100, w=None):\n",
    "    # Fill the function\n",
    "    # Follow the implementation of sgd\n",
    "    # Record one objective value per epoch (not per iteration!)\n",
    "    n, d = x.shape\n",
    "    objvals = numpy.zeros(max_epoch) # store the objective values\n",
    "    if w is None:\n",
    "        w = numpy.zeros((d, 1)) # zero initialization\n",
    "\n",
    "    for t in range(max_epoch):\n",
    "        # randomly shuffle the samples\n",
    "        rand_indices = numpy.random.permutation(n)\n",
    "        x_rand = x[rand_indices, :]\n",
    "        y_rand = y[rand_indices, :]\n",
    "\n",
    "        num_batches = int(n / b)\n",
    "        x_batch_split = numpy.split(x_rand, num_batches)\n",
    "        y_batch_split = numpy.split(y_rand, num_batches)\n",
    "        \n",
    "        objval = 0 # accumulate the objective values\n",
    "        for i in range(num_batches):\n",
    "            xi = x_batch_split[i]\n",
    "            yi = y_batch_split[i]\n",
    "            obj, g = mb_stochastic_objective_gradient(w, xi, yi, lam, b)\n",
    "            objval += obj\n",
    "            w -= stepsize * g\n",
    "        \n",
    "        stepsize *= 0.9 # decrease step size\n",
    "        objval /= n\n",
    "        objvals[t] = objval\n",
    "        print('Objective value at epoch t=' + str(t) + ' is ' + str(objval))\n",
    "      \n",
    "    return w, objvals"
   ]
  },
  {
   "cell_type": "markdown",
   "metadata": {},
   "source": [
    "## 6.3. Run MB-SGD"
   ]
  },
  {
   "cell_type": "code",
   "execution_count": 71,
   "metadata": {},
   "outputs": [
    {
     "output_type": "stream",
     "name": "stdout",
     "text": [
      "Objective value at epoch t=0 is 0.5294653422248212\n",
      "Objective value at epoch t=1 is 0.5071071996714644\n",
      "Objective value at epoch t=2 is 0.509716240702571\n",
      "Objective value at epoch t=3 is 0.49273989553900244\n",
      "Objective value at epoch t=4 is 0.4934004291591787\n",
      "Objective value at epoch t=5 is 0.4908297580832186\n",
      "Objective value at epoch t=6 is 0.4894257522337021\n",
      "Objective value at epoch t=7 is 0.4818028985240215\n",
      "Objective value at epoch t=8 is 0.4819504886934077\n",
      "Objective value at epoch t=9 is 0.4762892481094264\n",
      "Objective value at epoch t=10 is 0.4779893933189451\n",
      "Objective value at epoch t=11 is 0.47792487981574705\n",
      "Objective value at epoch t=12 is 0.4741902263585616\n",
      "Objective value at epoch t=13 is 0.4717038455267339\n",
      "Objective value at epoch t=14 is 0.46967176758855833\n",
      "Objective value at epoch t=15 is 0.4692587897927661\n",
      "Objective value at epoch t=16 is 0.4694023805870594\n",
      "Objective value at epoch t=17 is 0.4681351609403464\n",
      "Objective value at epoch t=18 is 0.46655955546557565\n",
      "Objective value at epoch t=19 is 0.4650131986583504\n",
      "Objective value at epoch t=20 is 0.4643122665251008\n",
      "Objective value at epoch t=21 is 0.46361306910534755\n",
      "Objective value at epoch t=22 is 0.46340468458206485\n",
      "Objective value at epoch t=23 is 0.4637376855528322\n",
      "Objective value at epoch t=24 is 0.46136612553925244\n",
      "Objective value at epoch t=25 is 0.4603872418893354\n",
      "Objective value at epoch t=26 is 0.4613268675939562\n",
      "Objective value at epoch t=27 is 0.46114340760232536\n",
      "Objective value at epoch t=28 is 0.4603877162876855\n",
      "Objective value at epoch t=29 is 0.46006619305732543\n",
      "Objective value at epoch t=30 is 0.4595466089923943\n",
      "Objective value at epoch t=31 is 0.4594564359929162\n",
      "Objective value at epoch t=32 is 0.4590246920902752\n",
      "Objective value at epoch t=33 is 0.45893064816559936\n",
      "Objective value at epoch t=34 is 0.4587820141524558\n",
      "Objective value at epoch t=35 is 0.4586985306905412\n",
      "Objective value at epoch t=36 is 0.4584009542706634\n",
      "Objective value at epoch t=37 is 0.4583540838866713\n",
      "Objective value at epoch t=38 is 0.45803147533063715\n",
      "Objective value at epoch t=39 is 0.4580822123347864\n",
      "Objective value at epoch t=40 is 0.4579309728580115\n",
      "Objective value at epoch t=41 is 0.4579180555032519\n",
      "Objective value at epoch t=42 is 0.45773766146298456\n",
      "Objective value at epoch t=43 is 0.45761717862833723\n",
      "Objective value at epoch t=44 is 0.45758922231391275\n",
      "Objective value at epoch t=45 is 0.4575175632917\n",
      "Objective value at epoch t=46 is 0.4574393386140748\n",
      "Objective value at epoch t=47 is 0.45740542491322034\n",
      "Objective value at epoch t=48 is 0.457364327155966\n",
      "Objective value at epoch t=49 is 0.4573025074409129\n",
      "Objective value at epoch t=50 is 0.45727139063068795\n",
      "Objective value at epoch t=51 is 0.4572489619435894\n",
      "Objective value at epoch t=52 is 0.4572068710857313\n",
      "Objective value at epoch t=53 is 0.4571743809149228\n",
      "Objective value at epoch t=54 is 0.45714511193542584\n",
      "Objective value at epoch t=55 is 0.45713095920351476\n",
      "Objective value at epoch t=56 is 0.45711041965930965\n",
      "Objective value at epoch t=57 is 0.457085280745701\n",
      "Objective value at epoch t=58 is 0.4570439538573088\n",
      "Objective value at epoch t=59 is 0.4570256065554414\n",
      "Objective value at epoch t=60 is 0.4570328964356355\n",
      "Objective value at epoch t=61 is 0.45700523692386313\n",
      "Objective value at epoch t=62 is 0.45700349327648715\n",
      "Objective value at epoch t=63 is 0.4569889632480182\n",
      "Objective value at epoch t=64 is 0.4569824229346991\n",
      "Objective value at epoch t=65 is 0.4569661010464783\n",
      "Objective value at epoch t=66 is 0.4569657438695144\n",
      "Objective value at epoch t=67 is 0.4569548658783186\n",
      "Objective value at epoch t=68 is 0.4569516497047871\n",
      "Objective value at epoch t=69 is 0.4569476418757863\n",
      "Objective value at epoch t=70 is 0.4569365789266947\n",
      "Objective value at epoch t=71 is 0.45693651275537545\n",
      "Objective value at epoch t=72 is 0.4569343085251852\n",
      "Objective value at epoch t=73 is 0.45693123387236917\n",
      "Objective value at epoch t=74 is 0.4569282625812695\n",
      "Objective value at epoch t=75 is 0.45692358805103905\n",
      "Objective value at epoch t=76 is 0.4569192846418909\n",
      "Objective value at epoch t=77 is 0.4569144007194206\n",
      "Objective value at epoch t=78 is 0.4569143885090262\n",
      "Objective value at epoch t=79 is 0.45691032986629204\n",
      "Objective value at epoch t=80 is 0.45690996559865404\n",
      "Objective value at epoch t=81 is 0.4569092872382837\n",
      "Objective value at epoch t=82 is 0.45690788634546575\n",
      "Objective value at epoch t=83 is 0.45690790026899075\n",
      "Objective value at epoch t=84 is 0.4569052929325599\n",
      "Objective value at epoch t=85 is 0.45690490468018546\n",
      "Objective value at epoch t=86 is 0.4569039369789502\n",
      "Objective value at epoch t=87 is 0.45690349159985005\n",
      "Objective value at epoch t=88 is 0.4569016340127547\n",
      "Objective value at epoch t=89 is 0.4569012027108942\n",
      "Objective value at epoch t=90 is 0.4569007863421845\n",
      "Objective value at epoch t=91 is 0.4569004986319431\n",
      "Objective value at epoch t=92 is 0.4568993432262934\n",
      "Objective value at epoch t=93 is 0.45689966664171544\n",
      "Objective value at epoch t=94 is 0.4568991316233103\n",
      "Objective value at epoch t=95 is 0.4568986043491228\n",
      "Objective value at epoch t=96 is 0.45689785973637165\n",
      "Objective value at epoch t=97 is 0.45689800847862055\n",
      "Objective value at epoch t=98 is 0.4568978358019621\n",
      "Objective value at epoch t=99 is 0.45689746712965296\n"
     ]
    }
   ],
   "source": [
    "# MB-SGD with batch size b=8\n",
    "lam = 1E-6 # do not change\n",
    "b = 8 # do not change\n",
    "stepsize = 0.8 # you must tune this parameter\n",
    "\n",
    "w, objvals_mbsgd8 = mb_sgd(x_train, y_train, lam, b, stepsize)"
   ]
  },
  {
   "cell_type": "code",
   "execution_count": 72,
   "metadata": {},
   "outputs": [
    {
     "output_type": "stream",
     "name": "stdout",
     "text": [
      "Objective value at epoch t=0 is 0.5398866660341637\nObjective value at epoch t=1 is 0.4744228028959011\nObjective value at epoch t=2 is 0.4660860305919784\nObjective value at epoch t=3 is 0.46484814030745625\nObjective value at epoch t=4 is 0.46240822875584814\nObjective value at epoch t=5 is 0.46140136287276634\nObjective value at epoch t=6 is 0.46028248189710086\nObjective value at epoch t=7 is 0.46180917610293604\nObjective value at epoch t=8 is 0.4593533618069034\nObjective value at epoch t=9 is 0.4602342901446967\nObjective value at epoch t=10 is 0.45978522394783294\nObjective value at epoch t=11 is 0.45971731365491164\nObjective value at epoch t=12 is 0.45899434489278146\nObjective value at epoch t=13 is 0.45861906699341476\nObjective value at epoch t=14 is 0.4589558843407987\nObjective value at epoch t=15 is 0.45889771221979087\nObjective value at epoch t=16 is 0.45819491757761616\nObjective value at epoch t=17 is 0.45839630430482725\nObjective value at epoch t=18 is 0.4579131437697413\nObjective value at epoch t=19 is 0.4582055012433253\nObjective value at epoch t=20 is 0.45775232720811115\nObjective value at epoch t=21 is 0.4578386818175505\nObjective value at epoch t=22 is 0.45751647861751427\nObjective value at epoch t=23 is 0.4575937325729812\nObjective value at epoch t=24 is 0.45769392561603855\nObjective value at epoch t=25 is 0.4575916480142516\nObjective value at epoch t=26 is 0.457362042838239\nObjective value at epoch t=27 is 0.4573584642868789\nObjective value at epoch t=28 is 0.45744250025852723\nObjective value at epoch t=29 is 0.45730378817441125\nObjective value at epoch t=30 is 0.4572166504168761\nObjective value at epoch t=31 is 0.45734629720475706\nObjective value at epoch t=32 is 0.4571682499276058\nObjective value at epoch t=33 is 0.4572557475938173\nObjective value at epoch t=34 is 0.45712556947628497\nObjective value at epoch t=35 is 0.4571268727956596\nObjective value at epoch t=36 is 0.4571379830792222\nObjective value at epoch t=37 is 0.45703141045443874\nObjective value at epoch t=38 is 0.45702708818270754\nObjective value at epoch t=39 is 0.45705422739499674\nObjective value at epoch t=40 is 0.45704299472790283\nObjective value at epoch t=41 is 0.45701891350426704\nObjective value at epoch t=42 is 0.4569927752104972\nObjective value at epoch t=43 is 0.4570035422259459\nObjective value at epoch t=44 is 0.4569745213604741\nObjective value at epoch t=45 is 0.4569794005197775\nObjective value at epoch t=46 is 0.4569659802287971\nObjective value at epoch t=47 is 0.4569450815435876\nObjective value at epoch t=48 is 0.4569375102883592\nObjective value at epoch t=49 is 0.4569430522533919\nObjective value at epoch t=50 is 0.45693257998818354\nObjective value at epoch t=51 is 0.4569293510361649\nObjective value at epoch t=52 is 0.45692953137721604\nObjective value at epoch t=53 is 0.4569305194355051\nObjective value at epoch t=54 is 0.45692710221775956\nObjective value at epoch t=55 is 0.4569220006105847\nObjective value at epoch t=56 is 0.45691811360617035\nObjective value at epoch t=57 is 0.45691597612947044\nObjective value at epoch t=58 is 0.4569129216454013\nObjective value at epoch t=59 is 0.4569078477861292\nObjective value at epoch t=60 is 0.45690554588252263\nObjective value at epoch t=61 is 0.456911123399163\nObjective value at epoch t=62 is 0.4569064797974973\nObjective value at epoch t=63 is 0.45690619798400905\nObjective value at epoch t=64 is 0.4569057826787953\nObjective value at epoch t=65 is 0.45690571338353025\nObjective value at epoch t=66 is 0.4569023607804287\nObjective value at epoch t=67 is 0.45690275848389933\nObjective value at epoch t=68 is 0.4569014465304349\nObjective value at epoch t=69 is 0.45690227836078245\nObjective value at epoch t=70 is 0.4569006473244904\nObjective value at epoch t=71 is 0.45690131345354235\nObjective value at epoch t=72 is 0.45690022573204764\nObjective value at epoch t=73 is 0.4568999695945033\nObjective value at epoch t=74 is 0.4569003662391061\nObjective value at epoch t=75 is 0.456898390567133\nObjective value at epoch t=76 is 0.45689786713571634\nObjective value at epoch t=77 is 0.4568977971313452\nObjective value at epoch t=78 is 0.45689791233410687\nObjective value at epoch t=79 is 0.4568980686747436\nObjective value at epoch t=80 is 0.4568978609695775\nObjective value at epoch t=81 is 0.4568976796293457\nObjective value at epoch t=82 is 0.4568979055296644\nObjective value at epoch t=83 is 0.45689777100478385\nObjective value at epoch t=84 is 0.456897167995664\nObjective value at epoch t=85 is 0.45689731270773226\nObjective value at epoch t=86 is 0.4568970907893416\nObjective value at epoch t=87 is 0.4568968398683369\nObjective value at epoch t=88 is 0.45689697555903425\nObjective value at epoch t=89 is 0.45689683730234376\nObjective value at epoch t=90 is 0.45689661109096846\nObjective value at epoch t=91 is 0.45689657843820275\nObjective value at epoch t=92 is 0.4568965478490984\nObjective value at epoch t=93 is 0.4568963222598196\nObjective value at epoch t=94 is 0.45689640520218966\nObjective value at epoch t=95 is 0.4568963950220614\nObjective value at epoch t=96 is 0.456896377951123\nObjective value at epoch t=97 is 0.45689635985574323\nObjective value at epoch t=98 is 0.45689634269185964\nObjective value at epoch t=99 is 0.456896281361075\n"
     ]
    }
   ],
   "source": [
    "# MB-SGD with batch size b=64\n",
    "lam = 1E-6 # do not change\n",
    "b = 64 # do not change\n",
    "stepsize = 0.8 # you must tune this parameter\n",
    "\n",
    "w, objvals_mbsgd64 = mb_sgd(x_train, y_train, lam, b, stepsize)"
   ]
  },
  {
   "cell_type": "markdown",
   "metadata": {},
   "source": [
    "# 7. Plot and compare GD, SGD, and MB-SGD"
   ]
  },
  {
   "cell_type": "markdown",
   "metadata": {},
   "source": [
    "You are required to compare the following algorithms:\n",
    "\n",
    "- Gradient descent (GD)\n",
    "\n",
    "- SGD\n",
    "\n",
    "- MB-SGD with b=8\n",
    "\n",
    "- MB-SGD with b=64\n",
    "\n",
    "Follow the code in Section 4 to plot ```objective function value``` against ```epochs```. There should be four curves in the plot; each curve corresponds to one algorithm."
   ]
  },
  {
   "cell_type": "markdown",
   "metadata": {},
   "source": [
    "Hint: Logistic regression with $\\ell_2$-norm regularization is a strongly convex optimization problem. All the algorithms will converge to the same solution. **In the end, the ``objective function value`` of the 4 algorithms will be the same. If not the same, your implementation must be wrong. Do NOT submit wrong code and wrong result!**"
   ]
  },
  {
   "cell_type": "code",
   "execution_count": 73,
   "metadata": {},
   "outputs": [
    {
     "output_type": "display_data",
     "data": {
      "text/plain": "<Figure size 432x288 with 1 Axes>",
      "image/svg+xml": "<?xml version=\"1.0\" encoding=\"utf-8\" standalone=\"no\"?>\n<!DOCTYPE svg PUBLIC \"-//W3C//DTD SVG 1.1//EN\"\n  \"http://www.w3.org/Graphics/SVG/1.1/DTD/svg11.dtd\">\n<!-- Created with matplotlib (https://matplotlib.org/) -->\n<svg height=\"281.679734pt\" version=\"1.1\" viewBox=\"0 0 425.107805 281.679734\" width=\"425.107805pt\" xmlns=\"http://www.w3.org/2000/svg\" xmlns:xlink=\"http://www.w3.org/1999/xlink\">\n <metadata>\n  <rdf:RDF xmlns:cc=\"http://creativecommons.org/ns#\" xmlns:dc=\"http://purl.org/dc/elements/1.1/\" xmlns:rdf=\"http://www.w3.org/1999/02/22-rdf-syntax-ns#\">\n   <cc:Work>\n    <dc:type rdf:resource=\"http://purl.org/dc/dcmitype/StillImage\"/>\n    <dc:date>2021-03-07T17:23:42.113122</dc:date>\n    <dc:format>image/svg+xml</dc:format>\n    <dc:creator>\n     <cc:Agent>\n      <dc:title>Matplotlib v3.3.2, https://matplotlib.org/</dc:title>\n     </cc:Agent>\n    </dc:creator>\n   </cc:Work>\n  </rdf:RDF>\n </metadata>\n <defs>\n  <style type=\"text/css\">*{stroke-linecap:butt;stroke-linejoin:round;}</style>\n </defs>\n <g id=\"figure_1\">\n  <g id=\"patch_1\">\n   <path d=\"M 0 281.679734 \nL 425.107805 281.679734 \nL 425.107805 0 \nL 0 0 \nz\n\" style=\"fill:none;\"/>\n  </g>\n  <g id=\"axes_1\">\n   <g id=\"patch_2\">\n    <path d=\"M 73.18125 228.638484 \nL 415.037552 228.638484 \nL 415.037552 9.088648 \nL 73.18125 9.088648 \nz\n\" style=\"fill:#ffffff;\"/>\n   </g>\n   <g id=\"matplotlib.axis_1\">\n    <g id=\"xtick_1\">\n     <g id=\"line2d_1\">\n      <defs>\n       <path d=\"M 0 0 \nL 0 3.5 \n\" id=\"m34747a04cd\" style=\"stroke:#000000;stroke-width:0.8;\"/>\n      </defs>\n      <g>\n       <use style=\"stroke:#000000;stroke-width:0.8;\" x=\"88.720173\" xlink:href=\"#m34747a04cd\" y=\"228.638484\"/>\n      </g>\n     </g>\n     <g id=\"text_1\">\n      <!-- 0 -->\n      <g transform=\"translate(83.630173 247.795984)scale(0.16 -0.16)\">\n       <defs>\n        <path d=\"M 31.78125 66.40625 \nQ 24.171875 66.40625 20.328125 58.90625 \nQ 16.5 51.421875 16.5 36.375 \nQ 16.5 21.390625 20.328125 13.890625 \nQ 24.171875 6.390625 31.78125 6.390625 \nQ 39.453125 6.390625 43.28125 13.890625 \nQ 47.125 21.390625 47.125 36.375 \nQ 47.125 51.421875 43.28125 58.90625 \nQ 39.453125 66.40625 31.78125 66.40625 \nz\nM 31.78125 74.21875 \nQ 44.046875 74.21875 50.515625 64.515625 \nQ 56.984375 54.828125 56.984375 36.375 \nQ 56.984375 17.96875 50.515625 8.265625 \nQ 44.046875 -1.421875 31.78125 -1.421875 \nQ 19.53125 -1.421875 13.0625 8.265625 \nQ 6.59375 17.96875 6.59375 36.375 \nQ 6.59375 54.828125 13.0625 64.515625 \nQ 19.53125 74.21875 31.78125 74.21875 \nz\n\" id=\"DejaVuSans-48\"/>\n       </defs>\n       <use xlink:href=\"#DejaVuSans-48\"/>\n      </g>\n     </g>\n    </g>\n    <g id=\"xtick_2\">\n     <g id=\"line2d_2\">\n      <g>\n       <use style=\"stroke:#000000;stroke-width:0.8;\" x=\"151.503699\" xlink:href=\"#m34747a04cd\" y=\"228.638484\"/>\n      </g>\n     </g>\n     <g id=\"text_2\">\n      <!-- 20 -->\n      <g transform=\"translate(141.323699 247.795984)scale(0.16 -0.16)\">\n       <defs>\n        <path d=\"M 19.1875 8.296875 \nL 53.609375 8.296875 \nL 53.609375 0 \nL 7.328125 0 \nL 7.328125 8.296875 \nQ 12.9375 14.109375 22.625 23.890625 \nQ 32.328125 33.6875 34.8125 36.53125 \nQ 39.546875 41.84375 41.421875 45.53125 \nQ 43.3125 49.21875 43.3125 52.78125 \nQ 43.3125 58.59375 39.234375 62.25 \nQ 35.15625 65.921875 28.609375 65.921875 \nQ 23.96875 65.921875 18.8125 64.3125 \nQ 13.671875 62.703125 7.8125 59.421875 \nL 7.8125 69.390625 \nQ 13.765625 71.78125 18.9375 73 \nQ 24.125 74.21875 28.421875 74.21875 \nQ 39.75 74.21875 46.484375 68.546875 \nQ 53.21875 62.890625 53.21875 53.421875 \nQ 53.21875 48.921875 51.53125 44.890625 \nQ 49.859375 40.875 45.40625 35.40625 \nQ 44.1875 33.984375 37.640625 27.21875 \nQ 31.109375 20.453125 19.1875 8.296875 \nz\n\" id=\"DejaVuSans-50\"/>\n       </defs>\n       <use xlink:href=\"#DejaVuSans-50\"/>\n       <use x=\"63.623047\" xlink:href=\"#DejaVuSans-48\"/>\n      </g>\n     </g>\n    </g>\n    <g id=\"xtick_3\">\n     <g id=\"line2d_3\">\n      <g>\n       <use style=\"stroke:#000000;stroke-width:0.8;\" x=\"214.287226\" xlink:href=\"#m34747a04cd\" y=\"228.638484\"/>\n      </g>\n     </g>\n     <g id=\"text_3\">\n      <!-- 40 -->\n      <g transform=\"translate(204.107226 247.795984)scale(0.16 -0.16)\">\n       <defs>\n        <path d=\"M 37.796875 64.3125 \nL 12.890625 25.390625 \nL 37.796875 25.390625 \nz\nM 35.203125 72.90625 \nL 47.609375 72.90625 \nL 47.609375 25.390625 \nL 58.015625 25.390625 \nL 58.015625 17.1875 \nL 47.609375 17.1875 \nL 47.609375 0 \nL 37.796875 0 \nL 37.796875 17.1875 \nL 4.890625 17.1875 \nL 4.890625 26.703125 \nz\n\" id=\"DejaVuSans-52\"/>\n       </defs>\n       <use xlink:href=\"#DejaVuSans-52\"/>\n       <use x=\"63.623047\" xlink:href=\"#DejaVuSans-48\"/>\n      </g>\n     </g>\n    </g>\n    <g id=\"xtick_4\">\n     <g id=\"line2d_4\">\n      <g>\n       <use style=\"stroke:#000000;stroke-width:0.8;\" x=\"277.070752\" xlink:href=\"#m34747a04cd\" y=\"228.638484\"/>\n      </g>\n     </g>\n     <g id=\"text_4\">\n      <!-- 60 -->\n      <g transform=\"translate(266.890752 247.795984)scale(0.16 -0.16)\">\n       <defs>\n        <path d=\"M 33.015625 40.375 \nQ 26.375 40.375 22.484375 35.828125 \nQ 18.609375 31.296875 18.609375 23.390625 \nQ 18.609375 15.53125 22.484375 10.953125 \nQ 26.375 6.390625 33.015625 6.390625 \nQ 39.65625 6.390625 43.53125 10.953125 \nQ 47.40625 15.53125 47.40625 23.390625 \nQ 47.40625 31.296875 43.53125 35.828125 \nQ 39.65625 40.375 33.015625 40.375 \nz\nM 52.59375 71.296875 \nL 52.59375 62.3125 \nQ 48.875 64.0625 45.09375 64.984375 \nQ 41.3125 65.921875 37.59375 65.921875 \nQ 27.828125 65.921875 22.671875 59.328125 \nQ 17.53125 52.734375 16.796875 39.40625 \nQ 19.671875 43.65625 24.015625 45.921875 \nQ 28.375 48.1875 33.59375 48.1875 \nQ 44.578125 48.1875 50.953125 41.515625 \nQ 57.328125 34.859375 57.328125 23.390625 \nQ 57.328125 12.15625 50.6875 5.359375 \nQ 44.046875 -1.421875 33.015625 -1.421875 \nQ 20.359375 -1.421875 13.671875 8.265625 \nQ 6.984375 17.96875 6.984375 36.375 \nQ 6.984375 53.65625 15.1875 63.9375 \nQ 23.390625 74.21875 37.203125 74.21875 \nQ 40.921875 74.21875 44.703125 73.484375 \nQ 48.484375 72.75 52.59375 71.296875 \nz\n\" id=\"DejaVuSans-54\"/>\n       </defs>\n       <use xlink:href=\"#DejaVuSans-54\"/>\n       <use x=\"63.623047\" xlink:href=\"#DejaVuSans-48\"/>\n      </g>\n     </g>\n    </g>\n    <g id=\"xtick_5\">\n     <g id=\"line2d_5\">\n      <g>\n       <use style=\"stroke:#000000;stroke-width:0.8;\" x=\"339.854279\" xlink:href=\"#m34747a04cd\" y=\"228.638484\"/>\n      </g>\n     </g>\n     <g id=\"text_5\">\n      <!-- 80 -->\n      <g transform=\"translate(329.674279 247.795984)scale(0.16 -0.16)\">\n       <defs>\n        <path d=\"M 31.78125 34.625 \nQ 24.75 34.625 20.71875 30.859375 \nQ 16.703125 27.09375 16.703125 20.515625 \nQ 16.703125 13.921875 20.71875 10.15625 \nQ 24.75 6.390625 31.78125 6.390625 \nQ 38.8125 6.390625 42.859375 10.171875 \nQ 46.921875 13.96875 46.921875 20.515625 \nQ 46.921875 27.09375 42.890625 30.859375 \nQ 38.875 34.625 31.78125 34.625 \nz\nM 21.921875 38.8125 \nQ 15.578125 40.375 12.03125 44.71875 \nQ 8.5 49.078125 8.5 55.328125 \nQ 8.5 64.0625 14.71875 69.140625 \nQ 20.953125 74.21875 31.78125 74.21875 \nQ 42.671875 74.21875 48.875 69.140625 \nQ 55.078125 64.0625 55.078125 55.328125 \nQ 55.078125 49.078125 51.53125 44.71875 \nQ 48 40.375 41.703125 38.8125 \nQ 48.828125 37.15625 52.796875 32.3125 \nQ 56.78125 27.484375 56.78125 20.515625 \nQ 56.78125 9.90625 50.3125 4.234375 \nQ 43.84375 -1.421875 31.78125 -1.421875 \nQ 19.734375 -1.421875 13.25 4.234375 \nQ 6.78125 9.90625 6.78125 20.515625 \nQ 6.78125 27.484375 10.78125 32.3125 \nQ 14.796875 37.15625 21.921875 38.8125 \nz\nM 18.3125 54.390625 \nQ 18.3125 48.734375 21.84375 45.5625 \nQ 25.390625 42.390625 31.78125 42.390625 \nQ 38.140625 42.390625 41.71875 45.5625 \nQ 45.3125 48.734375 45.3125 54.390625 \nQ 45.3125 60.0625 41.71875 63.234375 \nQ 38.140625 66.40625 31.78125 66.40625 \nQ 25.390625 66.40625 21.84375 63.234375 \nQ 18.3125 60.0625 18.3125 54.390625 \nz\n\" id=\"DejaVuSans-56\"/>\n       </defs>\n       <use xlink:href=\"#DejaVuSans-56\"/>\n       <use x=\"63.623047\" xlink:href=\"#DejaVuSans-48\"/>\n      </g>\n     </g>\n    </g>\n    <g id=\"xtick_6\">\n     <g id=\"line2d_6\">\n      <g>\n       <use style=\"stroke:#000000;stroke-width:0.8;\" x=\"402.637805\" xlink:href=\"#m34747a04cd\" y=\"228.638484\"/>\n      </g>\n     </g>\n     <g id=\"text_6\">\n      <!-- 100 -->\n      <g transform=\"translate(387.367805 247.795984)scale(0.16 -0.16)\">\n       <defs>\n        <path d=\"M 12.40625 8.296875 \nL 28.515625 8.296875 \nL 28.515625 63.921875 \nL 10.984375 60.40625 \nL 10.984375 69.390625 \nL 28.421875 72.90625 \nL 38.28125 72.90625 \nL 38.28125 8.296875 \nL 54.390625 8.296875 \nL 54.390625 0 \nL 12.40625 0 \nz\n\" id=\"DejaVuSans-49\"/>\n       </defs>\n       <use xlink:href=\"#DejaVuSans-49\"/>\n       <use x=\"63.623047\" xlink:href=\"#DejaVuSans-48\"/>\n       <use x=\"127.246094\" xlink:href=\"#DejaVuSans-48\"/>\n      </g>\n     </g>\n    </g>\n    <g id=\"text_7\">\n     <!-- Epochs -->\n     <g transform=\"translate(208.278151 270.320359)scale(0.2 -0.2)\">\n      <defs>\n       <path d=\"M 9.8125 72.90625 \nL 55.90625 72.90625 \nL 55.90625 64.59375 \nL 19.671875 64.59375 \nL 19.671875 43.015625 \nL 54.390625 43.015625 \nL 54.390625 34.71875 \nL 19.671875 34.71875 \nL 19.671875 8.296875 \nL 56.78125 8.296875 \nL 56.78125 0 \nL 9.8125 0 \nz\n\" id=\"DejaVuSans-69\"/>\n       <path d=\"M 18.109375 8.203125 \nL 18.109375 -20.796875 \nL 9.078125 -20.796875 \nL 9.078125 54.6875 \nL 18.109375 54.6875 \nL 18.109375 46.390625 \nQ 20.953125 51.265625 25.265625 53.625 \nQ 29.59375 56 35.59375 56 \nQ 45.5625 56 51.78125 48.09375 \nQ 58.015625 40.1875 58.015625 27.296875 \nQ 58.015625 14.40625 51.78125 6.484375 \nQ 45.5625 -1.421875 35.59375 -1.421875 \nQ 29.59375 -1.421875 25.265625 0.953125 \nQ 20.953125 3.328125 18.109375 8.203125 \nz\nM 48.6875 27.296875 \nQ 48.6875 37.203125 44.609375 42.84375 \nQ 40.53125 48.484375 33.40625 48.484375 \nQ 26.265625 48.484375 22.1875 42.84375 \nQ 18.109375 37.203125 18.109375 27.296875 \nQ 18.109375 17.390625 22.1875 11.75 \nQ 26.265625 6.109375 33.40625 6.109375 \nQ 40.53125 6.109375 44.609375 11.75 \nQ 48.6875 17.390625 48.6875 27.296875 \nz\n\" id=\"DejaVuSans-112\"/>\n       <path d=\"M 30.609375 48.390625 \nQ 23.390625 48.390625 19.1875 42.75 \nQ 14.984375 37.109375 14.984375 27.296875 \nQ 14.984375 17.484375 19.15625 11.84375 \nQ 23.34375 6.203125 30.609375 6.203125 \nQ 37.796875 6.203125 41.984375 11.859375 \nQ 46.1875 17.53125 46.1875 27.296875 \nQ 46.1875 37.015625 41.984375 42.703125 \nQ 37.796875 48.390625 30.609375 48.390625 \nz\nM 30.609375 56 \nQ 42.328125 56 49.015625 48.375 \nQ 55.71875 40.765625 55.71875 27.296875 \nQ 55.71875 13.875 49.015625 6.21875 \nQ 42.328125 -1.421875 30.609375 -1.421875 \nQ 18.84375 -1.421875 12.171875 6.21875 \nQ 5.515625 13.875 5.515625 27.296875 \nQ 5.515625 40.765625 12.171875 48.375 \nQ 18.84375 56 30.609375 56 \nz\n\" id=\"DejaVuSans-111\"/>\n       <path d=\"M 48.78125 52.59375 \nL 48.78125 44.1875 \nQ 44.96875 46.296875 41.140625 47.34375 \nQ 37.3125 48.390625 33.40625 48.390625 \nQ 24.65625 48.390625 19.8125 42.84375 \nQ 14.984375 37.3125 14.984375 27.296875 \nQ 14.984375 17.28125 19.8125 11.734375 \nQ 24.65625 6.203125 33.40625 6.203125 \nQ 37.3125 6.203125 41.140625 7.25 \nQ 44.96875 8.296875 48.78125 10.40625 \nL 48.78125 2.09375 \nQ 45.015625 0.34375 40.984375 -0.53125 \nQ 36.96875 -1.421875 32.421875 -1.421875 \nQ 20.0625 -1.421875 12.78125 6.34375 \nQ 5.515625 14.109375 5.515625 27.296875 \nQ 5.515625 40.671875 12.859375 48.328125 \nQ 20.21875 56 33.015625 56 \nQ 37.15625 56 41.109375 55.140625 \nQ 45.0625 54.296875 48.78125 52.59375 \nz\n\" id=\"DejaVuSans-99\"/>\n       <path d=\"M 54.890625 33.015625 \nL 54.890625 0 \nL 45.90625 0 \nL 45.90625 32.71875 \nQ 45.90625 40.484375 42.875 44.328125 \nQ 39.84375 48.1875 33.796875 48.1875 \nQ 26.515625 48.1875 22.3125 43.546875 \nQ 18.109375 38.921875 18.109375 30.90625 \nL 18.109375 0 \nL 9.078125 0 \nL 9.078125 75.984375 \nL 18.109375 75.984375 \nL 18.109375 46.1875 \nQ 21.34375 51.125 25.703125 53.5625 \nQ 30.078125 56 35.796875 56 \nQ 45.21875 56 50.046875 50.171875 \nQ 54.890625 44.34375 54.890625 33.015625 \nz\n\" id=\"DejaVuSans-104\"/>\n       <path d=\"M 44.28125 53.078125 \nL 44.28125 44.578125 \nQ 40.484375 46.53125 36.375 47.5 \nQ 32.28125 48.484375 27.875 48.484375 \nQ 21.1875 48.484375 17.84375 46.4375 \nQ 14.5 44.390625 14.5 40.28125 \nQ 14.5 37.15625 16.890625 35.375 \nQ 19.28125 33.59375 26.515625 31.984375 \nL 29.59375 31.296875 \nQ 39.15625 29.25 43.1875 25.515625 \nQ 47.21875 21.78125 47.21875 15.09375 \nQ 47.21875 7.46875 41.1875 3.015625 \nQ 35.15625 -1.421875 24.609375 -1.421875 \nQ 20.21875 -1.421875 15.453125 -0.5625 \nQ 10.6875 0.296875 5.421875 2 \nL 5.421875 11.28125 \nQ 10.40625 8.6875 15.234375 7.390625 \nQ 20.0625 6.109375 24.8125 6.109375 \nQ 31.15625 6.109375 34.5625 8.28125 \nQ 37.984375 10.453125 37.984375 14.40625 \nQ 37.984375 18.0625 35.515625 20.015625 \nQ 33.0625 21.96875 24.703125 23.78125 \nL 21.578125 24.515625 \nQ 13.234375 26.265625 9.515625 29.90625 \nQ 5.8125 33.546875 5.8125 39.890625 \nQ 5.8125 47.609375 11.28125 51.796875 \nQ 16.75 56 26.8125 56 \nQ 31.78125 56 36.171875 55.265625 \nQ 40.578125 54.546875 44.28125 53.078125 \nz\n\" id=\"DejaVuSans-115\"/>\n      </defs>\n      <use xlink:href=\"#DejaVuSans-69\"/>\n      <use x=\"63.183594\" xlink:href=\"#DejaVuSans-112\"/>\n      <use x=\"126.660156\" xlink:href=\"#DejaVuSans-111\"/>\n      <use x=\"187.841797\" xlink:href=\"#DejaVuSans-99\"/>\n      <use x=\"242.822266\" xlink:href=\"#DejaVuSans-104\"/>\n      <use x=\"306.201172\" xlink:href=\"#DejaVuSans-115\"/>\n     </g>\n    </g>\n   </g>\n   <g id=\"matplotlib.axis_2\">\n    <g id=\"ytick_1\">\n     <g id=\"line2d_7\">\n      <defs>\n       <path d=\"M 0 0 \nL -3.5 0 \n\" id=\"md0118c6790\" style=\"stroke:#000000;stroke-width:0.8;\"/>\n      </defs>\n      <g>\n       <use style=\"stroke:#000000;stroke-width:0.8;\" x=\"73.18125\" xlink:href=\"#md0118c6790\" y=\"224.485099\"/>\n      </g>\n     </g>\n     <g id=\"text_8\">\n      <!-- 0.45 -->\n      <g transform=\"translate(30.55625 230.563849)scale(0.16 -0.16)\">\n       <defs>\n        <path d=\"M 10.6875 12.40625 \nL 21 12.40625 \nL 21 0 \nL 10.6875 0 \nz\n\" id=\"DejaVuSans-46\"/>\n        <path d=\"M 10.796875 72.90625 \nL 49.515625 72.90625 \nL 49.515625 64.59375 \nL 19.828125 64.59375 \nL 19.828125 46.734375 \nQ 21.96875 47.46875 24.109375 47.828125 \nQ 26.265625 48.1875 28.421875 48.1875 \nQ 40.625 48.1875 47.75 41.5 \nQ 54.890625 34.8125 54.890625 23.390625 \nQ 54.890625 11.625 47.5625 5.09375 \nQ 40.234375 -1.421875 26.90625 -1.421875 \nQ 22.3125 -1.421875 17.546875 -0.640625 \nQ 12.796875 0.140625 7.71875 1.703125 \nL 7.71875 11.625 \nQ 12.109375 9.234375 16.796875 8.0625 \nQ 21.484375 6.890625 26.703125 6.890625 \nQ 35.15625 6.890625 40.078125 11.328125 \nQ 45.015625 15.765625 45.015625 23.390625 \nQ 45.015625 31 40.078125 35.4375 \nQ 35.15625 39.890625 26.703125 39.890625 \nQ 22.75 39.890625 18.8125 39.015625 \nQ 14.890625 38.140625 10.796875 36.28125 \nz\n\" id=\"DejaVuSans-53\"/>\n       </defs>\n       <use xlink:href=\"#DejaVuSans-48\"/>\n       <use x=\"63.623047\" xlink:href=\"#DejaVuSans-46\"/>\n       <use x=\"95.410156\" xlink:href=\"#DejaVuSans-52\"/>\n       <use x=\"159.033203\" xlink:href=\"#DejaVuSans-53\"/>\n      </g>\n     </g>\n    </g>\n    <g id=\"ytick_2\">\n     <g id=\"line2d_8\">\n      <g>\n       <use style=\"stroke:#000000;stroke-width:0.8;\" x=\"73.18125\" xlink:href=\"#md0118c6790\" y=\"182.24383\"/>\n      </g>\n     </g>\n     <g id=\"text_9\">\n      <!-- 0.50 -->\n      <g transform=\"translate(30.55625 188.32258)scale(0.16 -0.16)\">\n       <use xlink:href=\"#DejaVuSans-48\"/>\n       <use x=\"63.623047\" xlink:href=\"#DejaVuSans-46\"/>\n       <use x=\"95.410156\" xlink:href=\"#DejaVuSans-53\"/>\n       <use x=\"159.033203\" xlink:href=\"#DejaVuSans-48\"/>\n      </g>\n     </g>\n    </g>\n    <g id=\"ytick_3\">\n     <g id=\"line2d_9\">\n      <g>\n       <use style=\"stroke:#000000;stroke-width:0.8;\" x=\"73.18125\" xlink:href=\"#md0118c6790\" y=\"140.00256\"/>\n      </g>\n     </g>\n     <g id=\"text_10\">\n      <!-- 0.55 -->\n      <g transform=\"translate(30.55625 146.08131)scale(0.16 -0.16)\">\n       <use xlink:href=\"#DejaVuSans-48\"/>\n       <use x=\"63.623047\" xlink:href=\"#DejaVuSans-46\"/>\n       <use x=\"95.410156\" xlink:href=\"#DejaVuSans-53\"/>\n       <use x=\"159.033203\" xlink:href=\"#DejaVuSans-53\"/>\n      </g>\n     </g>\n    </g>\n    <g id=\"ytick_4\">\n     <g id=\"line2d_10\">\n      <g>\n       <use style=\"stroke:#000000;stroke-width:0.8;\" x=\"73.18125\" xlink:href=\"#md0118c6790\" y=\"97.76129\"/>\n      </g>\n     </g>\n     <g id=\"text_11\">\n      <!-- 0.60 -->\n      <g transform=\"translate(30.55625 103.84004)scale(0.16 -0.16)\">\n       <use xlink:href=\"#DejaVuSans-48\"/>\n       <use x=\"63.623047\" xlink:href=\"#DejaVuSans-46\"/>\n       <use x=\"95.410156\" xlink:href=\"#DejaVuSans-54\"/>\n       <use x=\"159.033203\" xlink:href=\"#DejaVuSans-48\"/>\n      </g>\n     </g>\n    </g>\n    <g id=\"ytick_5\">\n     <g id=\"line2d_11\">\n      <g>\n       <use style=\"stroke:#000000;stroke-width:0.8;\" x=\"73.18125\" xlink:href=\"#md0118c6790\" y=\"55.52002\"/>\n      </g>\n     </g>\n     <g id=\"text_12\">\n      <!-- 0.65 -->\n      <g transform=\"translate(30.55625 61.59877)scale(0.16 -0.16)\">\n       <use xlink:href=\"#DejaVuSans-48\"/>\n       <use x=\"63.623047\" xlink:href=\"#DejaVuSans-46\"/>\n       <use x=\"95.410156\" xlink:href=\"#DejaVuSans-54\"/>\n       <use x=\"159.033203\" xlink:href=\"#DejaVuSans-53\"/>\n      </g>\n     </g>\n    </g>\n    <g id=\"ytick_6\">\n     <g id=\"line2d_12\">\n      <g>\n       <use style=\"stroke:#000000;stroke-width:0.8;\" x=\"73.18125\" xlink:href=\"#md0118c6790\" y=\"13.27875\"/>\n      </g>\n     </g>\n     <g id=\"text_13\">\n      <!-- 0.70 -->\n      <g transform=\"translate(30.55625 19.3575)scale(0.16 -0.16)\">\n       <defs>\n        <path d=\"M 8.203125 72.90625 \nL 55.078125 72.90625 \nL 55.078125 68.703125 \nL 28.609375 0 \nL 18.3125 0 \nL 43.21875 64.59375 \nL 8.203125 64.59375 \nz\n\" id=\"DejaVuSans-55\"/>\n       </defs>\n       <use xlink:href=\"#DejaVuSans-48\"/>\n       <use x=\"63.623047\" xlink:href=\"#DejaVuSans-46\"/>\n       <use x=\"95.410156\" xlink:href=\"#DejaVuSans-55\"/>\n       <use x=\"159.033203\" xlink:href=\"#DejaVuSans-48\"/>\n      </g>\n     </g>\n    </g>\n    <g id=\"text_14\">\n     <!-- Objective Value -->\n     <g transform=\"translate(22.396875 196.924503)rotate(-90)scale(0.2 -0.2)\">\n      <defs>\n       <path d=\"M 39.40625 66.21875 \nQ 28.65625 66.21875 22.328125 58.203125 \nQ 16.015625 50.203125 16.015625 36.375 \nQ 16.015625 22.609375 22.328125 14.59375 \nQ 28.65625 6.59375 39.40625 6.59375 \nQ 50.140625 6.59375 56.421875 14.59375 \nQ 62.703125 22.609375 62.703125 36.375 \nQ 62.703125 50.203125 56.421875 58.203125 \nQ 50.140625 66.21875 39.40625 66.21875 \nz\nM 39.40625 74.21875 \nQ 54.734375 74.21875 63.90625 63.9375 \nQ 73.09375 53.65625 73.09375 36.375 \nQ 73.09375 19.140625 63.90625 8.859375 \nQ 54.734375 -1.421875 39.40625 -1.421875 \nQ 24.03125 -1.421875 14.8125 8.828125 \nQ 5.609375 19.09375 5.609375 36.375 \nQ 5.609375 53.65625 14.8125 63.9375 \nQ 24.03125 74.21875 39.40625 74.21875 \nz\n\" id=\"DejaVuSans-79\"/>\n       <path d=\"M 48.6875 27.296875 \nQ 48.6875 37.203125 44.609375 42.84375 \nQ 40.53125 48.484375 33.40625 48.484375 \nQ 26.265625 48.484375 22.1875 42.84375 \nQ 18.109375 37.203125 18.109375 27.296875 \nQ 18.109375 17.390625 22.1875 11.75 \nQ 26.265625 6.109375 33.40625 6.109375 \nQ 40.53125 6.109375 44.609375 11.75 \nQ 48.6875 17.390625 48.6875 27.296875 \nz\nM 18.109375 46.390625 \nQ 20.953125 51.265625 25.265625 53.625 \nQ 29.59375 56 35.59375 56 \nQ 45.5625 56 51.78125 48.09375 \nQ 58.015625 40.1875 58.015625 27.296875 \nQ 58.015625 14.40625 51.78125 6.484375 \nQ 45.5625 -1.421875 35.59375 -1.421875 \nQ 29.59375 -1.421875 25.265625 0.953125 \nQ 20.953125 3.328125 18.109375 8.203125 \nL 18.109375 0 \nL 9.078125 0 \nL 9.078125 75.984375 \nL 18.109375 75.984375 \nz\n\" id=\"DejaVuSans-98\"/>\n       <path d=\"M 9.421875 54.6875 \nL 18.40625 54.6875 \nL 18.40625 -0.984375 \nQ 18.40625 -11.421875 14.421875 -16.109375 \nQ 10.453125 -20.796875 1.609375 -20.796875 \nL -1.8125 -20.796875 \nL -1.8125 -13.1875 \nL 0.59375 -13.1875 \nQ 5.71875 -13.1875 7.5625 -10.8125 \nQ 9.421875 -8.453125 9.421875 -0.984375 \nz\nM 9.421875 75.984375 \nL 18.40625 75.984375 \nL 18.40625 64.59375 \nL 9.421875 64.59375 \nz\n\" id=\"DejaVuSans-106\"/>\n       <path d=\"M 56.203125 29.59375 \nL 56.203125 25.203125 \nL 14.890625 25.203125 \nQ 15.484375 15.921875 20.484375 11.0625 \nQ 25.484375 6.203125 34.421875 6.203125 \nQ 39.59375 6.203125 44.453125 7.46875 \nQ 49.3125 8.734375 54.109375 11.28125 \nL 54.109375 2.78125 \nQ 49.265625 0.734375 44.1875 -0.34375 \nQ 39.109375 -1.421875 33.890625 -1.421875 \nQ 20.796875 -1.421875 13.15625 6.1875 \nQ 5.515625 13.8125 5.515625 26.8125 \nQ 5.515625 40.234375 12.765625 48.109375 \nQ 20.015625 56 32.328125 56 \nQ 43.359375 56 49.78125 48.890625 \nQ 56.203125 41.796875 56.203125 29.59375 \nz\nM 47.21875 32.234375 \nQ 47.125 39.59375 43.09375 43.984375 \nQ 39.0625 48.390625 32.421875 48.390625 \nQ 24.90625 48.390625 20.390625 44.140625 \nQ 15.875 39.890625 15.1875 32.171875 \nz\n\" id=\"DejaVuSans-101\"/>\n       <path d=\"M 18.3125 70.21875 \nL 18.3125 54.6875 \nL 36.8125 54.6875 \nL 36.8125 47.703125 \nL 18.3125 47.703125 \nL 18.3125 18.015625 \nQ 18.3125 11.328125 20.140625 9.421875 \nQ 21.96875 7.515625 27.59375 7.515625 \nL 36.8125 7.515625 \nL 36.8125 0 \nL 27.59375 0 \nQ 17.1875 0 13.234375 3.875 \nQ 9.28125 7.765625 9.28125 18.015625 \nL 9.28125 47.703125 \nL 2.6875 47.703125 \nL 2.6875 54.6875 \nL 9.28125 54.6875 \nL 9.28125 70.21875 \nz\n\" id=\"DejaVuSans-116\"/>\n       <path d=\"M 9.421875 54.6875 \nL 18.40625 54.6875 \nL 18.40625 0 \nL 9.421875 0 \nz\nM 9.421875 75.984375 \nL 18.40625 75.984375 \nL 18.40625 64.59375 \nL 9.421875 64.59375 \nz\n\" id=\"DejaVuSans-105\"/>\n       <path d=\"M 2.984375 54.6875 \nL 12.5 54.6875 \nL 29.59375 8.796875 \nL 46.6875 54.6875 \nL 56.203125 54.6875 \nL 35.6875 0 \nL 23.484375 0 \nz\n\" id=\"DejaVuSans-118\"/>\n       <path id=\"DejaVuSans-32\"/>\n       <path d=\"M 28.609375 0 \nL 0.78125 72.90625 \nL 11.078125 72.90625 \nL 34.1875 11.53125 \nL 57.328125 72.90625 \nL 67.578125 72.90625 \nL 39.796875 0 \nz\n\" id=\"DejaVuSans-86\"/>\n       <path d=\"M 34.28125 27.484375 \nQ 23.390625 27.484375 19.1875 25 \nQ 14.984375 22.515625 14.984375 16.5 \nQ 14.984375 11.71875 18.140625 8.90625 \nQ 21.296875 6.109375 26.703125 6.109375 \nQ 34.1875 6.109375 38.703125 11.40625 \nQ 43.21875 16.703125 43.21875 25.484375 \nL 43.21875 27.484375 \nz\nM 52.203125 31.203125 \nL 52.203125 0 \nL 43.21875 0 \nL 43.21875 8.296875 \nQ 40.140625 3.328125 35.546875 0.953125 \nQ 30.953125 -1.421875 24.3125 -1.421875 \nQ 15.921875 -1.421875 10.953125 3.296875 \nQ 6 8.015625 6 15.921875 \nQ 6 25.140625 12.171875 29.828125 \nQ 18.359375 34.515625 30.609375 34.515625 \nL 43.21875 34.515625 \nL 43.21875 35.40625 \nQ 43.21875 41.609375 39.140625 45 \nQ 35.0625 48.390625 27.6875 48.390625 \nQ 23 48.390625 18.546875 47.265625 \nQ 14.109375 46.140625 10.015625 43.890625 \nL 10.015625 52.203125 \nQ 14.9375 54.109375 19.578125 55.046875 \nQ 24.21875 56 28.609375 56 \nQ 40.484375 56 46.34375 49.84375 \nQ 52.203125 43.703125 52.203125 31.203125 \nz\n\" id=\"DejaVuSans-97\"/>\n       <path d=\"M 9.421875 75.984375 \nL 18.40625 75.984375 \nL 18.40625 0 \nL 9.421875 0 \nz\n\" id=\"DejaVuSans-108\"/>\n       <path d=\"M 8.5 21.578125 \nL 8.5 54.6875 \nL 17.484375 54.6875 \nL 17.484375 21.921875 \nQ 17.484375 14.15625 20.5 10.265625 \nQ 23.53125 6.390625 29.59375 6.390625 \nQ 36.859375 6.390625 41.078125 11.03125 \nQ 45.3125 15.671875 45.3125 23.6875 \nL 45.3125 54.6875 \nL 54.296875 54.6875 \nL 54.296875 0 \nL 45.3125 0 \nL 45.3125 8.40625 \nQ 42.046875 3.421875 37.71875 1 \nQ 33.40625 -1.421875 27.6875 -1.421875 \nQ 18.265625 -1.421875 13.375 4.4375 \nQ 8.5 10.296875 8.5 21.578125 \nz\nM 31.109375 56 \nz\n\" id=\"DejaVuSans-117\"/>\n      </defs>\n      <use xlink:href=\"#DejaVuSans-79\"/>\n      <use x=\"78.710938\" xlink:href=\"#DejaVuSans-98\"/>\n      <use x=\"142.1875\" xlink:href=\"#DejaVuSans-106\"/>\n      <use x=\"169.970703\" xlink:href=\"#DejaVuSans-101\"/>\n      <use x=\"231.494141\" xlink:href=\"#DejaVuSans-99\"/>\n      <use x=\"286.474609\" xlink:href=\"#DejaVuSans-116\"/>\n      <use x=\"325.683594\" xlink:href=\"#DejaVuSans-105\"/>\n      <use x=\"353.466797\" xlink:href=\"#DejaVuSans-118\"/>\n      <use x=\"412.646484\" xlink:href=\"#DejaVuSans-101\"/>\n      <use x=\"474.169922\" xlink:href=\"#DejaVuSans-32\"/>\n      <use x=\"505.957031\" xlink:href=\"#DejaVuSans-86\"/>\n      <use x=\"566.615234\" xlink:href=\"#DejaVuSans-97\"/>\n      <use x=\"627.894531\" xlink:href=\"#DejaVuSans-108\"/>\n      <use x=\"655.677734\" xlink:href=\"#DejaVuSans-117\"/>\n      <use x=\"719.056641\" xlink:href=\"#DejaVuSans-101\"/>\n     </g>\n    </g>\n   </g>\n   <g id=\"line2d_13\">\n    <path clip-path=\"url(#p1547f680b2)\" d=\"M 88.720173 19.068186 \nL 91.859349 110.615169 \nL 94.998525 148.357691 \nL 98.137702 168.782962 \nL 101.276878 181.572271 \nL 104.416054 190.251923 \nL 107.555231 196.442773 \nL 110.694407 201.010079 \nL 113.833583 204.463899 \nL 116.97276 207.126103 \nL 120.111936 209.20995 \nL 123.251112 210.861985 \nL 126.390289 212.18583 \nL 129.529465 213.256466 \nL 132.668641 214.129221 \nL 135.807818 214.845599 \nL 138.946994 215.43719 \nL 142.08617 215.928346 \nL 145.225347 216.338051 \nL 148.364523 216.681254 \nL 151.503699 216.969833 \nL 154.642876 217.213304 \nL 157.782052 217.419344 \nL 160.921228 217.594188 \nL 164.060405 217.74293 \nL 167.199581 217.869755 \nL 170.338757 217.978116 \nL 173.477934 218.070878 \nL 176.61711 218.150425 \nL 179.756286 218.218748 \nL 182.895463 218.277519 \nL 186.034639 218.328141 \nL 189.173815 218.371801 \nL 192.312991 218.409499 \nL 195.452168 218.442086 \nL 198.591344 218.470283 \nL 201.73052 218.494706 \nL 204.869697 218.515877 \nL 208.008873 218.534246 \nL 211.148049 218.550196 \nL 214.287226 218.564055 \nL 217.426402 218.576107 \nL 220.565578 218.586593 \nL 223.704755 218.595723 \nL 226.843931 218.603676 \nL 229.983107 218.610609 \nL 233.122284 218.616656 \nL 236.26146 218.621931 \nL 239.400636 218.626537 \nL 242.539813 218.630559 \nL 245.678989 218.634074 \nL 248.818165 218.637146 \nL 251.957342 218.639833 \nL 255.096518 218.642183 \nL 258.235694 218.644239 \nL 261.374871 218.64604 \nL 264.514047 218.647616 \nL 267.653223 218.648997 \nL 270.7924 218.650208 \nL 273.931576 218.651268 \nL 277.070752 218.652198 \nL 280.209929 218.653014 \nL 283.349105 218.65373 \nL 286.488281 218.654358 \nL 289.627458 218.654909 \nL 292.766634 218.655392 \nL 295.90581 218.655817 \nL 299.044986 218.65619 \nL 302.184163 218.656518 \nL 305.323339 218.656806 \nL 308.462515 218.657059 \nL 311.601692 218.657282 \nL 314.740868 218.657478 \nL 317.880044 218.65765 \nL 321.019221 218.657801 \nL 324.158397 218.657934 \nL 327.297573 218.658051 \nL 330.43675 218.658154 \nL 333.575926 218.658245 \nL 336.715102 218.658325 \nL 339.854279 218.658395 \nL 342.993455 218.658457 \nL 346.132631 218.658512 \nL 349.271808 218.65856 \nL 352.410984 218.658602 \nL 355.55016 218.658639 \nL 358.689337 218.658672 \nL 361.828513 218.658701 \nL 364.967689 218.658727 \nL 368.106866 218.658749 \nL 371.246042 218.658769 \nL 374.385218 218.658786 \nL 377.524395 218.658802 \nL 380.663571 218.658815 \nL 383.802747 218.658827 \nL 386.941924 218.658838 \nL 390.0811 218.658847 \nL 393.220276 218.658855 \nL 396.359453 218.658863 \nL 399.498629 218.658869 \n\" style=\"fill:none;stroke:#0000ff;stroke-dasharray:14.8,6.4;stroke-dashoffset:0;stroke-width:4;\"/>\n   </g>\n   <g id=\"line2d_14\">\n    <path clip-path=\"url(#p1547f680b2)\" d=\"M 88.720173 168.315076 \nL 91.859349 175.773411 \nL 94.998525 177.171468 \nL 98.137702 193.510944 \nL 101.276878 186.847848 \nL 104.416054 194.456503 \nL 107.555231 197.020938 \nL 110.694407 195.295965 \nL 113.833583 199.773769 \nL 116.97276 200.063641 \nL 120.111936 201.461091 \nL 123.251112 202.767171 \nL 126.390289 205.270341 \nL 129.529465 204.550899 \nL 132.668641 207.443518 \nL 135.807818 207.525661 \nL 138.946994 209.473387 \nL 142.08617 210.203361 \nL 145.225347 210.745841 \nL 148.364523 211.017327 \nL 151.503699 212.46587 \nL 154.642876 212.404856 \nL 157.782052 213.55816 \nL 160.921228 213.271215 \nL 164.060405 214.288932 \nL 167.199581 214.503466 \nL 170.338757 214.896296 \nL 173.477934 215.201304 \nL 176.61711 215.552506 \nL 179.756286 215.892269 \nL 182.895463 216.079854 \nL 186.034639 216.453495 \nL 189.173815 216.648423 \nL 192.312991 216.872012 \nL 195.452168 216.988075 \nL 198.591344 217.1619 \nL 201.73052 217.28527 \nL 204.869697 217.415408 \nL 208.008873 217.532392 \nL 211.148049 217.655342 \nL 214.287226 217.765347 \nL 217.426402 217.838574 \nL 220.565578 217.930752 \nL 223.704755 217.985354 \nL 226.843931 218.065124 \nL 229.983107 218.124154 \nL 233.122284 218.170876 \nL 236.26146 218.23669 \nL 239.400636 218.264224 \nL 242.539813 218.302643 \nL 245.678989 218.33911 \nL 248.818165 218.369762 \nL 251.957342 218.401713 \nL 255.096518 218.424938 \nL 258.235694 218.448305 \nL 261.374871 218.469653 \nL 264.514047 218.487875 \nL 267.653223 218.50535 \nL 270.7924 218.520389 \nL 273.931576 218.534043 \nL 277.070752 218.546506 \nL 280.209929 218.558325 \nL 283.349105 218.567836 \nL 286.488281 218.57688 \nL 289.627458 218.585148 \nL 292.766634 218.592427 \nL 295.90581 218.599103 \nL 299.044986 218.604977 \nL 302.184163 218.610372 \nL 305.323339 218.615228 \nL 308.462515 218.61959 \nL 311.601692 218.623486 \nL 314.740868 218.627012 \nL 317.880044 218.630181 \nL 321.019221 218.633061 \nL 324.158397 218.635625 \nL 327.297573 218.637951 \nL 330.43675 218.640017 \nL 333.575926 218.641892 \nL 336.715102 218.64358 \nL 339.854279 218.645099 \nL 342.993455 218.646467 \nL 346.132631 218.647699 \nL 349.271808 218.648806 \nL 352.410984 218.649805 \nL 355.55016 218.650705 \nL 358.689337 218.651513 \nL 361.828513 218.652238 \nL 364.967689 218.65289 \nL 368.106866 218.653479 \nL 371.246042 218.654009 \nL 374.385218 218.654486 \nL 377.524395 218.654916 \nL 380.663571 218.655302 \nL 383.802747 218.65565 \nL 386.941924 218.655963 \nL 390.0811 218.656245 \nL 393.220276 218.656498 \nL 396.359453 218.656726 \nL 399.498629 218.656932 \n\" style=\"fill:none;stroke:#ff0000;stroke-linecap:square;stroke-width:2;\"/>\n   </g>\n   <g id=\"line2d_15\">\n    <path clip-path=\"url(#p1547f680b2)\" d=\"M 88.720173 157.35076 \nL 91.859349 176.239487 \nL 94.998525 174.035303 \nL 98.137702 188.37735 \nL 101.276878 187.819315 \nL 104.416054 189.991083 \nL 107.555231 191.177223 \nL 110.694407 197.617203 \nL 113.833583 197.492515 \nL 116.97276 202.275275 \nL 120.111936 200.838949 \nL 123.251112 200.893452 \nL 126.390289 204.048582 \nL 129.529465 206.14914 \nL 132.668641 207.865891 \nL 135.807818 208.214785 \nL 138.946994 208.093476 \nL 142.08617 209.164055 \nL 145.225347 210.495166 \nL 148.364523 211.801568 \nL 151.503699 212.393733 \nL 154.642876 212.984433 \nL 157.782052 213.160482 \nL 160.921228 212.879154 \nL 164.060405 214.882708 \nL 167.199581 215.709694 \nL 170.338757 214.915874 \nL 173.477934 215.070866 \nL 176.61711 215.709293 \nL 179.756286 215.980924 \nL 182.895463 216.419882 \nL 186.034639 216.496062 \nL 189.173815 216.86081 \nL 192.312991 216.940261 \nL 195.452168 217.065831 \nL 198.591344 217.13636 \nL 201.73052 217.38776 \nL 204.869697 217.427357 \nL 208.008873 217.699905 \nL 211.148049 217.657041 \nL 214.287226 217.784812 \nL 217.426402 217.795725 \nL 220.565578 217.948127 \nL 223.704755 218.049914 \nL 226.843931 218.073532 \nL 229.983107 218.134071 \nL 233.122284 218.200157 \nL 236.26146 218.228808 \nL 239.400636 218.263529 \nL 242.539813 218.315756 \nL 245.678989 218.342044 \nL 248.818165 218.360992 \nL 251.957342 218.396552 \nL 255.096518 218.424 \nL 258.235694 218.448727 \nL 261.374871 218.460684 \nL 264.514047 218.478036 \nL 267.653223 218.499274 \nL 270.7924 218.534188 \nL 273.931576 218.549689 \nL 277.070752 218.54353 \nL 280.209929 218.566897 \nL 283.349105 218.56837 \nL 286.488281 218.580646 \nL 289.627458 218.586171 \nL 292.766634 218.59996 \nL 295.90581 218.600262 \nL 299.044986 218.609452 \nL 302.184163 218.612169 \nL 305.323339 218.615555 \nL 308.462515 218.624901 \nL 311.601692 218.624957 \nL 314.740868 218.62682 \nL 317.880044 218.629417 \nL 321.019221 218.631927 \nL 324.158397 218.635876 \nL 327.297573 218.639512 \nL 330.43675 218.643638 \nL 333.575926 218.643648 \nL 336.715102 218.647077 \nL 339.854279 218.647385 \nL 342.993455 218.647958 \nL 346.132631 218.649142 \nL 349.271808 218.64913 \nL 352.410984 218.651333 \nL 355.55016 218.651661 \nL 358.689337 218.652478 \nL 361.828513 218.652854 \nL 364.967689 218.654424 \nL 368.106866 218.654788 \nL 371.246042 218.65514 \nL 374.385218 218.655383 \nL 377.524395 218.656359 \nL 380.663571 218.656086 \nL 383.802747 218.656538 \nL 386.941924 218.656983 \nL 390.0811 218.657612 \nL 393.220276 218.657487 \nL 396.359453 218.657633 \nL 399.498629 218.657944 \n\" style=\"fill:none;stroke:#008000;stroke-linecap:square;stroke-width:2;\"/>\n   </g>\n   <g id=\"line2d_16\">\n    <path clip-path=\"url(#p1547f680b2)\" d=\"M 88.720173 148.546561 \nL 91.859349 203.852095 \nL 94.998525 210.895212 \nL 98.137702 211.941013 \nL 101.276878 214.002313 \nL 104.416054 214.852939 \nL 107.555231 215.798198 \nL 110.694407 214.508408 \nL 113.833583 216.583142 \nL 116.97276 215.838911 \nL 120.111936 216.218294 \nL 123.251112 216.275666 \nL 126.390289 216.886448 \nL 129.529465 217.203493 \nL 132.668641 216.918941 \nL 135.807818 216.968086 \nL 138.946994 217.561825 \nL 142.08617 217.391688 \nL 145.225347 217.799875 \nL 148.364523 217.552884 \nL 151.503699 217.935737 \nL 154.642876 217.862782 \nL 157.782052 218.134987 \nL 160.921228 218.069721 \nL 164.060405 217.985076 \nL 167.199581 218.071482 \nL 170.338757 218.265459 \nL 173.477934 218.268482 \nL 176.61711 218.197486 \nL 179.756286 218.314674 \nL 182.895463 218.38829 \nL 186.034639 218.278761 \nL 189.173815 218.42918 \nL 192.312991 218.35526 \nL 195.452168 218.465237 \nL 198.591344 218.464136 \nL 201.73052 218.45475 \nL 204.869697 218.544785 \nL 208.008873 218.548437 \nL 211.148049 218.525509 \nL 214.287226 218.534999 \nL 217.426402 218.555343 \nL 220.565578 218.577425 \nL 223.704755 218.568329 \nL 226.843931 218.592847 \nL 229.983107 218.588725 \nL 233.122284 218.600062 \nL 236.26146 218.617718 \nL 239.400636 218.624115 \nL 242.539813 218.619433 \nL 245.678989 218.62828 \nL 248.818165 218.631008 \nL 251.957342 218.630855 \nL 255.096518 218.630021 \nL 258.235694 218.632908 \nL 261.374871 218.637218 \nL 264.514047 218.640501 \nL 267.653223 218.642307 \nL 270.7924 218.644888 \nL 273.931576 218.649174 \nL 277.070752 218.651119 \nL 280.209929 218.646407 \nL 283.349105 218.65033 \nL 286.488281 218.650568 \nL 289.627458 218.650919 \nL 292.766634 218.650977 \nL 295.90581 218.65381 \nL 299.044986 218.653474 \nL 302.184163 218.654582 \nL 305.323339 218.653879 \nL 308.462515 218.655257 \nL 311.601692 218.654695 \nL 314.740868 218.655614 \nL 317.880044 218.65583 \nL 321.019221 218.655495 \nL 324.158397 218.657164 \nL 327.297573 218.657606 \nL 330.43675 218.657665 \nL 333.575926 218.657568 \nL 336.715102 218.657436 \nL 339.854279 218.657611 \nL 342.993455 218.657765 \nL 346.132631 218.657574 \nL 349.271808 218.657687 \nL 352.410984 218.658197 \nL 355.55016 218.658075 \nL 358.689337 218.658262 \nL 361.828513 218.658474 \nL 364.967689 218.658359 \nL 368.106866 218.658476 \nL 371.246042 218.658667 \nL 374.385218 218.658695 \nL 377.524395 218.658721 \nL 380.663571 218.658911 \nL 383.802747 218.658841 \nL 386.941924 218.65885 \nL 390.0811 218.658864 \nL 393.220276 218.65888 \nL 396.359453 218.658894 \nL 399.498629 218.658946 \n\" style=\"fill:none;stroke:#bfbf00;stroke-linecap:square;stroke-width:2;\"/>\n   </g>\n   <g id=\"patch_3\">\n    <path d=\"M 73.18125 228.638484 \nL 73.18125 9.088648 \n\" style=\"fill:none;stroke:#000000;stroke-linecap:square;stroke-linejoin:miter;stroke-width:0.8;\"/>\n   </g>\n   <g id=\"patch_4\">\n    <path d=\"M 415.037552 228.638484 \nL 415.037552 9.088648 \n\" style=\"fill:none;stroke:#000000;stroke-linecap:square;stroke-linejoin:miter;stroke-width:0.8;\"/>\n   </g>\n   <g id=\"patch_5\">\n    <path d=\"M 73.18125 228.638484 \nL 415.037552 228.638484 \n\" style=\"fill:none;stroke:#000000;stroke-linecap:square;stroke-linejoin:miter;stroke-width:0.8;\"/>\n   </g>\n   <g id=\"patch_6\">\n    <path d=\"M 73.18125 9.088648 \nL 415.037552 9.088648 \n\" style=\"fill:none;stroke:#000000;stroke-linecap:square;stroke-linejoin:miter;stroke-width:0.8;\"/>\n   </g>\n   <g id=\"legend_1\">\n    <g id=\"patch_7\">\n     <path d=\"M 237.365677 142.513648 \nL 401.037552 142.513648 \nQ 405.037552 142.513648 405.037552 138.513648 \nL 405.037552 23.088648 \nQ 405.037552 19.088648 401.037552 19.088648 \nL 237.365677 19.088648 \nQ 233.365677 19.088648 233.365677 23.088648 \nL 233.365677 138.513648 \nQ 233.365677 142.513648 237.365677 142.513648 \nz\n\" style=\"fill:#ffffff;opacity:0.8;stroke:#cccccc;stroke-linejoin:miter;\"/>\n    </g>\n    <g id=\"line2d_17\">\n     <path d=\"M 241.365677 35.285523 \nL 281.365677 35.285523 \n\" style=\"fill:none;stroke:#0000ff;stroke-dasharray:14.8,6.4;stroke-dashoffset:0;stroke-width:4;\"/>\n    </g>\n    <g id=\"line2d_18\"/>\n    <g id=\"text_15\">\n     <!-- GD -->\n     <g transform=\"translate(297.365677 42.285523)scale(0.2 -0.2)\">\n      <defs>\n       <path d=\"M 59.515625 10.40625 \nL 59.515625 29.984375 \nL 43.40625 29.984375 \nL 43.40625 38.09375 \nL 69.28125 38.09375 \nL 69.28125 6.78125 \nQ 63.578125 2.734375 56.6875 0.65625 \nQ 49.8125 -1.421875 42 -1.421875 \nQ 24.90625 -1.421875 15.25 8.5625 \nQ 5.609375 18.5625 5.609375 36.375 \nQ 5.609375 54.25 15.25 64.234375 \nQ 24.90625 74.21875 42 74.21875 \nQ 49.125 74.21875 55.546875 72.453125 \nQ 61.96875 70.703125 67.390625 67.28125 \nL 67.390625 56.78125 \nQ 61.921875 61.421875 55.765625 63.765625 \nQ 49.609375 66.109375 42.828125 66.109375 \nQ 29.4375 66.109375 22.71875 58.640625 \nQ 16.015625 51.171875 16.015625 36.375 \nQ 16.015625 21.625 22.71875 14.15625 \nQ 29.4375 6.6875 42.828125 6.6875 \nQ 48.046875 6.6875 52.140625 7.59375 \nQ 56.25 8.5 59.515625 10.40625 \nz\n\" id=\"DejaVuSans-71\"/>\n       <path d=\"M 19.671875 64.796875 \nL 19.671875 8.109375 \nL 31.59375 8.109375 \nQ 46.6875 8.109375 53.6875 14.9375 \nQ 60.6875 21.78125 60.6875 36.53125 \nQ 60.6875 51.171875 53.6875 57.984375 \nQ 46.6875 64.796875 31.59375 64.796875 \nz\nM 9.8125 72.90625 \nL 30.078125 72.90625 \nQ 51.265625 72.90625 61.171875 64.09375 \nQ 71.09375 55.28125 71.09375 36.53125 \nQ 71.09375 17.671875 61.125 8.828125 \nQ 51.171875 0 30.078125 0 \nL 9.8125 0 \nz\n\" id=\"DejaVuSans-68\"/>\n      </defs>\n      <use xlink:href=\"#DejaVuSans-71\"/>\n      <use x=\"77.490234\" xlink:href=\"#DejaVuSans-68\"/>\n     </g>\n    </g>\n    <g id=\"line2d_19\">\n     <path d=\"M 241.365677 64.641773 \nL 281.365677 64.641773 \n\" style=\"fill:none;stroke:#ff0000;stroke-linecap:square;stroke-width:2;\"/>\n    </g>\n    <g id=\"line2d_20\"/>\n    <g id=\"text_16\">\n     <!-- SGD -->\n     <g transform=\"translate(297.365677 71.641773)scale(0.2 -0.2)\">\n      <defs>\n       <path d=\"M 53.515625 70.515625 \nL 53.515625 60.890625 \nQ 47.90625 63.578125 42.921875 64.890625 \nQ 37.9375 66.21875 33.296875 66.21875 \nQ 25.25 66.21875 20.875 63.09375 \nQ 16.5 59.96875 16.5 54.203125 \nQ 16.5 49.359375 19.40625 46.890625 \nQ 22.3125 44.4375 30.421875 42.921875 \nL 36.375 41.703125 \nQ 47.40625 39.59375 52.65625 34.296875 \nQ 57.90625 29 57.90625 20.125 \nQ 57.90625 9.515625 50.796875 4.046875 \nQ 43.703125 -1.421875 29.984375 -1.421875 \nQ 24.8125 -1.421875 18.96875 -0.25 \nQ 13.140625 0.921875 6.890625 3.21875 \nL 6.890625 13.375 \nQ 12.890625 10.015625 18.65625 8.296875 \nQ 24.421875 6.59375 29.984375 6.59375 \nQ 38.421875 6.59375 43.015625 9.90625 \nQ 47.609375 13.234375 47.609375 19.390625 \nQ 47.609375 24.75 44.3125 27.78125 \nQ 41.015625 30.8125 33.5 32.328125 \nL 27.484375 33.5 \nQ 16.453125 35.6875 11.515625 40.375 \nQ 6.59375 45.0625 6.59375 53.421875 \nQ 6.59375 63.09375 13.40625 68.65625 \nQ 20.21875 74.21875 32.171875 74.21875 \nQ 37.3125 74.21875 42.625 73.28125 \nQ 47.953125 72.359375 53.515625 70.515625 \nz\n\" id=\"DejaVuSans-83\"/>\n      </defs>\n      <use xlink:href=\"#DejaVuSans-83\"/>\n      <use x=\"63.476562\" xlink:href=\"#DejaVuSans-71\"/>\n      <use x=\"140.966797\" xlink:href=\"#DejaVuSans-68\"/>\n     </g>\n    </g>\n    <g id=\"line2d_21\">\n     <path d=\"M 241.365677 93.998023 \nL 281.365677 93.998023 \n\" style=\"fill:none;stroke:#008000;stroke-linecap:square;stroke-width:2;\"/>\n    </g>\n    <g id=\"line2d_22\"/>\n    <g id=\"text_17\">\n     <!-- MBSGD8 -->\n     <g transform=\"translate(297.365677 100.998023)scale(0.2 -0.2)\">\n      <defs>\n       <path d=\"M 9.8125 72.90625 \nL 24.515625 72.90625 \nL 43.109375 23.296875 \nL 61.8125 72.90625 \nL 76.515625 72.90625 \nL 76.515625 0 \nL 66.890625 0 \nL 66.890625 64.015625 \nL 48.09375 14.015625 \nL 38.1875 14.015625 \nL 19.390625 64.015625 \nL 19.390625 0 \nL 9.8125 0 \nz\n\" id=\"DejaVuSans-77\"/>\n       <path d=\"M 19.671875 34.8125 \nL 19.671875 8.109375 \nL 35.5 8.109375 \nQ 43.453125 8.109375 47.28125 11.40625 \nQ 51.125 14.703125 51.125 21.484375 \nQ 51.125 28.328125 47.28125 31.5625 \nQ 43.453125 34.8125 35.5 34.8125 \nz\nM 19.671875 64.796875 \nL 19.671875 42.828125 \nL 34.28125 42.828125 \nQ 41.5 42.828125 45.03125 45.53125 \nQ 48.578125 48.25 48.578125 53.8125 \nQ 48.578125 59.328125 45.03125 62.0625 \nQ 41.5 64.796875 34.28125 64.796875 \nz\nM 9.8125 72.90625 \nL 35.015625 72.90625 \nQ 46.296875 72.90625 52.390625 68.21875 \nQ 58.5 63.53125 58.5 54.890625 \nQ 58.5 48.1875 55.375 44.234375 \nQ 52.25 40.28125 46.1875 39.3125 \nQ 53.46875 37.75 57.5 32.78125 \nQ 61.53125 27.828125 61.53125 20.40625 \nQ 61.53125 10.640625 54.890625 5.3125 \nQ 48.25 0 35.984375 0 \nL 9.8125 0 \nz\n\" id=\"DejaVuSans-66\"/>\n      </defs>\n      <use xlink:href=\"#DejaVuSans-77\"/>\n      <use x=\"86.279297\" xlink:href=\"#DejaVuSans-66\"/>\n      <use x=\"153.132812\" xlink:href=\"#DejaVuSans-83\"/>\n      <use x=\"216.609375\" xlink:href=\"#DejaVuSans-71\"/>\n      <use x=\"294.099609\" xlink:href=\"#DejaVuSans-68\"/>\n      <use x=\"371.101562\" xlink:href=\"#DejaVuSans-56\"/>\n     </g>\n    </g>\n    <g id=\"line2d_23\">\n     <path d=\"M 241.365677 123.354273 \nL 281.365677 123.354273 \n\" style=\"fill:none;stroke:#bfbf00;stroke-linecap:square;stroke-width:2;\"/>\n    </g>\n    <g id=\"line2d_24\"/>\n    <g id=\"text_18\">\n     <!-- MBSGD64 -->\n     <g transform=\"translate(297.365677 130.354273)scale(0.2 -0.2)\">\n      <use xlink:href=\"#DejaVuSans-77\"/>\n      <use x=\"86.279297\" xlink:href=\"#DejaVuSans-66\"/>\n      <use x=\"153.132812\" xlink:href=\"#DejaVuSans-83\"/>\n      <use x=\"216.609375\" xlink:href=\"#DejaVuSans-71\"/>\n      <use x=\"294.099609\" xlink:href=\"#DejaVuSans-68\"/>\n      <use x=\"371.101562\" xlink:href=\"#DejaVuSans-54\"/>\n      <use x=\"434.724609\" xlink:href=\"#DejaVuSans-52\"/>\n     </g>\n    </g>\n   </g>\n  </g>\n </g>\n <defs>\n  <clipPath id=\"p1547f680b2\">\n   <rect height=\"219.549836\" width=\"341.856302\" x=\"73.18125\" y=\"9.088648\"/>\n  </clipPath>\n </defs>\n</svg>\n",
      "image/png": "[encoded data removed]"
     },
     "metadata": {
      "needs_background": "light"
     }
    }
   ],
   "source": [
    "# plot the 4 curves:\n",
    "import matplotlib.pyplot as plt\n",
    "%matplotlib inline\n",
    "\n",
    "fig = plt.figure(figsize=(6, 4))\n",
    "\n",
    "epochs_gd = range(len(objvals_gd))\n",
    "epochs_sgd = range(len(objvals_sgd))\n",
    "epochs_mbsgd8 = range(len(objvals_mbsgd8))\n",
    "epochs_mbsgd64 = range(len(objvals_mbsgd64))\n",
    "\n",
    "line0, = plt.plot(epochs_gd, objvals_gd, '--b', LineWidth=4)\n",
    "line1, = plt.plot(epochs_sgd, objvals_sgd, '-r', LineWidth=2)\n",
    "line2, = plt.plot(epochs_mbsgd8, objvals_mbsgd8, '-g', LineWidth=2)\n",
    "line3, = plt.plot(epochs_mbsgd64, objvals_mbsgd64, '-y', LineWidth=2)\n",
    "plt.xlabel('Epochs', FontSize=20)\n",
    "plt.ylabel('Objective Value', FontSize=20)\n",
    "plt.xticks(FontSize=16)\n",
    "plt.yticks(FontSize=16)\n",
    "plt.legend([line0, line1, line2, line3], ['GD', 'SGD', 'MBSGD8', 'MBSGD64'], fontsize=20)\n",
    "plt.tight_layout()\n",
    "plt.show()\n",
    "fig.savefig('compare_gd_sgd_mgsgd.pdf', format='pdf', dpi=1200)"
   ]
  },
  {
   "cell_type": "markdown",
   "metadata": {},
   "source": []
  }
 ],
 "metadata": {
  "kernelspec": {
   "display_name": "Python 3",
   "language": "python",
   "name": "python3"
  },
  "language_info": {
   "codemirror_mode": {
    "name": "ipython",
    "version": 3
   },
   "file_extension": ".py",
   "mimetype": "text/x-python",
   "name": "python",
   "nbconvert_exporter": "python",
   "pygments_lexer": "ipython3",
   "version": "3.8.5-final"
  }
 },
 "nbformat": 4,
 "nbformat_minor": 2
}