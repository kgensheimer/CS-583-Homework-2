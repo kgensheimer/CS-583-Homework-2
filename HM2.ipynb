{
 "cells": [
  {
   "source": [
    "# HM2: Numerical Optimization for Logistic Regression.\n",
    "\n",
    "### Name: Kyle Gensheimer\n"
   ],
   "cell_type": "markdown",
   "metadata": {}
  },
  {
   "source": [
    "## 0. You will do the following:\n",
    "\n",
    "1. Read the lecture note: [click here](https://github.com/wangshusen/DeepLearning/blob/master/LectureNotes/Logistic/paper/logistic.pdf)\n",
    "\n",
    "2. Read, complete, and run my code.\n",
    "\n",
    "3. **Implement mini-batch SGD** and evaluate the performance.\n",
    "\n",
    "4. Convert the .IPYNB file to .HTML file.\n",
    "\n",
    "    * The HTML file must contain **the code** and **the output after execution**.\n",
    "    \n",
    "    * Missing **the output after execution** will not be graded.\n",
    "    \n",
    "5. Upload this .HTML file to your Google Drive, Dropbox, or your Github repo.  (If you submit the file to Google Drive or Dropbox, you must make the file \"open-access\". The delay caused by \"deny of access\" may result in late penalty.)\n",
    "\n",
    "6. Submit the link to this .HTML file to Canvas.\n",
    "\n",
    "    * Example: https://github.com/wangshusen/CS583-2020S/blob/master/homework/HM2/HM2.html\n",
    "\n",
    "\n",
    "## Grading criteria:\n",
    "\n",
    "1. When computing the ```gradient``` and ```objective function value``` using a batch of samples, use **matrix-vector multiplication** rather than a FOR LOOP of **vector-vector multiplications**.\n",
    "\n",
    "2. Plot ```objective function value``` against ```epochs```. In the plot, compare GD, SGD, and MB-SGD (with $b=8$ and $b=64$). The plot must look reasonable."
   ],
   "cell_type": "markdown",
   "metadata": {}
  },
  {
   "source": [],
   "cell_type": "markdown",
   "metadata": {}
  },
  {
   "cell_type": "markdown",
   "metadata": {},
   "source": [
    "# 1. Data processing\n",
    "\n",
    "- Download the Diabete dataset from https://www.csie.ntu.edu.tw/~cjlin/libsvmtools/datasets/binary/diabetes\n",
    "- Load the data using sklearn.\n",
    "- Preprocess the data."
   ]
  },
  {
   "source": [
    "## 1.1. Load the data"
   ],
   "cell_type": "markdown",
   "metadata": {}
  },
  {
   "cell_type": "code",
   "execution_count": 1,
   "metadata": {},
   "outputs": [
    {
     "output_type": "stream",
     "name": "stdout",
     "text": [
      "Shape of x: (768, 8)\nShape of y: (768,)\n"
     ]
    }
   ],
   "source": [
    "from sklearn import datasets\n",
    "import numpy\n",
    "\n",
    "x_sparse, y = datasets.load_svmlight_file('diabetes')\n",
    "x = x_sparse.todense()\n",
    "\n",
    "print('Shape of x: ' + str(x.shape))\n",
    "print('Shape of y: ' + str(y.shape))"
   ]
  },
  {
   "source": [
    "## 1.2. Partition to training and test sets"
   ],
   "cell_type": "markdown",
   "metadata": {}
  },
  {
   "source": [
    "# partition the data to training and test sets\n",
    "n = x.shape[0]\n",
    "n_train = 640\n",
    "n_test = n - n_train\n",
    "\n",
    "rand_indices = numpy.random.permutation(n)\n",
    "train_indices = rand_indices[0:n_train]\n",
    "test_indices = rand_indices[n_train:n]\n",
    "\n",
    "x_train = x[train_indices, :]\n",
    "x_test = x[test_indices, :]\n",
    "y_train = y[train_indices].reshape(n_train, 1)\n",
    "y_test = y[test_indices].reshape(n_test, 1)\n",
    "\n",
    "print('Shape of x_train: ' + str(x_train.shape))\n",
    "print('Shape of x_test: ' + str(x_test.shape))\n",
    "print('Shape of y_train: ' + str(y_train.shape))\n",
    "print('Shape of y_test: ' + str(y_test.shape))"
   ],
   "cell_type": "code",
   "metadata": {},
   "execution_count": 2,
   "outputs": [
    {
     "output_type": "stream",
     "name": "stdout",
     "text": [
      "Shape of x_train: (640, 8)\nShape of x_test: (128, 8)\nShape of y_train: (640, 1)\nShape of y_test: (128, 1)\n"
     ]
    }
   ]
  },
  {
   "cell_type": "markdown",
   "metadata": {},
   "source": [
    "## 1.3. Feature scaling"
   ]
  },
  {
   "cell_type": "markdown",
   "metadata": {},
   "source": [
    "Use the standardization to trainsform both training and test features"
   ]
  },
  {
   "cell_type": "code",
   "execution_count": 3,
   "metadata": {},
   "outputs": [
    {
     "output_type": "stream",
     "name": "stdout",
     "text": [
      "test mean = \n[[-0.01988726 -0.16774321 -0.00840181  0.10221691 -0.16184346 -0.04494315\n   0.02950663 -0.15401975]]\ntest std = \n[[0.98007078 0.88093177 0.94206709 1.01229996 0.81504571 1.04966401\n  0.92505371 0.83390256]]\n"
     ]
    }
   ],
   "source": [
    "# Standardization\n",
    "import numpy\n",
    "\n",
    "# calculate mu and sig using the training set\n",
    "d = x_train.shape[1]\n",
    "mu = numpy.mean(x_train, axis=0).reshape(1, d)\n",
    "sig = numpy.std(x_train, axis=0).reshape(1, d)\n",
    "\n",
    "# transform the training features\n",
    "x_train = (x_train - mu) / (sig + 1E-6)\n",
    "\n",
    "# transform the test features\n",
    "x_test = (x_test - mu) / (sig + 1E-6)\n",
    "\n",
    "print('test mean = ')\n",
    "print(numpy.mean(x_test, axis=0))\n",
    "\n",
    "print('test std = ')\n",
    "print(numpy.std(x_test, axis=0))"
   ]
  },
  {
   "cell_type": "markdown",
   "metadata": {},
   "source": [
    "## 1.4. Add a dimension of all ones"
   ]
  },
  {
   "cell_type": "code",
   "execution_count": 4,
   "metadata": {},
   "outputs": [
    {
     "output_type": "stream",
     "name": "stdout",
     "text": [
      "Shape of x_train: (640, 9)\nShape of x_test: (128, 9)\n"
     ]
    }
   ],
   "source": [
    "n_train, d = x_train.shape\n",
    "x_train = numpy.concatenate((x_train, numpy.ones((n_train, 1))), axis=1)\n",
    "\n",
    "n_test, d = x_test.shape\n",
    "x_test = numpy.concatenate((x_test, numpy.ones((n_test, 1))), axis=1)\n",
    "\n",
    "print('Shape of x_train: ' + str(x_train.shape))\n",
    "print('Shape of x_test: ' + str(x_test.shape))"
   ]
  },
  {
   "cell_type": "markdown",
   "metadata": {},
   "source": [
    "# 2. Logistic regression model\n",
    "\n",
    "The objective function is $Q (w; X, y) = \\frac{1}{n} \\sum_{i=1}^n \\log \\Big( 1 + \\exp \\big( - y_i x_i^T w \\big) \\Big) + \\frac{\\lambda}{2} \\| w \\|_2^2 $."
   ]
  },
  {
   "cell_type": "code",
   "execution_count": 5,
   "metadata": {},
   "outputs": [],
   "source": [
    "# Calculate the objective function value\n",
    "# Inputs:\n",
    "#     w: d-by-1 matrix\n",
    "#     x: n-by-d matrix\n",
    "#     y: n-by-1 matrix\n",
    "#     lam: scalar, the regularization parameter\n",
    "# Return:\n",
    "#     objective function value (scalar)\n",
    "def objective(w, x, y, lam):\n",
    "    n, d = x.shape\n",
    "    yx = numpy.multiply(y, x) # n-by-d matrix\n",
    "    yxw = numpy.dot(yx, w) # n-by-1 matrix\n",
    "    vec1 = numpy.exp(-yxw) # n-by-1 matrix\n",
    "    vec2 = numpy.log(1 + vec1) # n-by-1 matrix\n",
    "    loss = numpy.mean(vec2) # scalar\n",
    "    reg = lam / 2 * numpy.sum(w * w) # scalar\n",
    "    return loss + reg\n",
    "    "
   ]
  },
  {
   "cell_type": "code",
   "execution_count": 6,
   "metadata": {},
   "outputs": [
    {
     "output_type": "stream",
     "name": "stdout",
     "text": [
      "Initial objective function value = 0.6931471805599453\n"
     ]
    }
   ],
   "source": [
    "# initialize w\n",
    "d = x_train.shape[1]\n",
    "w = numpy.zeros((d, 1))\n",
    "\n",
    "# evaluate the objective function value at w\n",
    "lam = 1E-6\n",
    "objval0 = objective(w, x_train, y_train, lam)\n",
    "print('Initial objective function value = ' + str(objval0))"
   ]
  },
  {
   "cell_type": "markdown",
   "metadata": {},
   "source": [
    "# 3. Numerical optimization"
   ]
  },
  {
   "cell_type": "markdown",
   "metadata": {},
   "source": [
    "## 3.1. Gradient descent\n"
   ]
  },
  {
   "cell_type": "markdown",
   "metadata": {},
   "source": [
    "The gradient at $w$ is $g = - \\frac{1}{n} \\sum_{i=1}^n \\frac{y_i x_i }{1 + \\exp ( y_i x_i^T w)} + \\lambda w$"
   ]
  },
  {
   "cell_type": "code",
   "execution_count": 7,
   "metadata": {},
   "outputs": [],
   "source": [
    "# Calculate the gradient\n",
    "# Inputs:\n",
    "#     w: d-by-1 matrix\n",
    "#     x: n-by-d matrix\n",
    "#     y: n-by-1 matrix\n",
    "#     lam: scalar, the regularization parameter\n",
    "# Return:\n",
    "#     g: g: d-by-1 matrix, full gradient\n",
    "def gradient(w, x, y, lam):\n",
    "    n, d = x.shape\n",
    "    yx = numpy.multiply(y, x) # n-by-d matrix\n",
    "    yxw = numpy.dot(yx, w) # n-by-1 matrix\n",
    "    vec1 = numpy.exp(yxw) # n-by-1 matrix\n",
    "    vec2 = numpy.divide(yx, 1+vec1) # n-by-d matrix\n",
    "    vec3 = -numpy.mean(vec2, axis=0).reshape(d, 1) # d-by-1 matrix\n",
    "    g = vec3 + lam * w\n",
    "    return g"
   ]
  },
  {
   "cell_type": "code",
   "execution_count": 8,
   "metadata": {},
   "outputs": [],
   "source": [
    "# Gradient descent for solving logistic regression\n",
    "# Inputs:\n",
    "#     x: n-by-d matrix\n",
    "#     y: n-by-1 matrix\n",
    "#     lam: scalar, the regularization parameter\n",
    "#     stepsize: scalar\n",
    "#     max_iter: integer, the maximal iterations\n",
    "#     w: d-by-1 matrix, initialization of w\n",
    "# Return:\n",
    "#     w: d-by-1 matrix, the solution\n",
    "#     objvals: a record of each iteration's objective value\n",
    "def grad_descent(x, y, lam, stepsize, max_iter=100, w=None):\n",
    "    n, d = x.shape\n",
    "    objvals = numpy.zeros(max_iter) # store the objective values\n",
    "    if w is None:\n",
    "        w = numpy.zeros((d, 1)) # zero initialization\n",
    "    \n",
    "    for t in range(max_iter):\n",
    "        objval = objective(w, x, y, lam)\n",
    "        objvals[t] = objval\n",
    "        print('Objective value at t=' + str(t) + ' is ' + str(objval))\n",
    "        g = gradient(w, x, y, lam)\n",
    "        w -= stepsize * g\n",
    "    \n",
    "    return w, objvals"
   ]
  },
  {
   "cell_type": "markdown",
   "metadata": {},
   "source": [
    "Run gradient descent."
   ]
  },
  {
   "cell_type": "code",
   "execution_count": 9,
   "metadata": {},
   "outputs": [
    {
     "output_type": "stream",
     "name": "stdout",
     "text": [
      "Objective value at t=0 is 0.6931471805599453\n",
      "Objective value at t=1 is 0.5909880451889337\n",
      "Objective value at t=2 is 0.5488550222100603\n",
      "Objective value at t=3 is 0.526079946929515\n",
      "Objective value at t=4 is 0.5118767494345523\n",
      "Objective value at t=5 is 0.5022924645932886\n",
      "Objective value at t=6 is 0.49550115205354145\n",
      "Objective value at t=7 is 0.4905260672222635\n",
      "Objective value at t=8 is 0.48679155808632024\n",
      "Objective value at t=9 is 0.48393494954388544\n",
      "Objective value at t=10 is 0.48171651930973686\n",
      "Objective value at t=11 is 0.47997200091120334\n",
      "Objective value at t=12 is 0.4785856120785495\n",
      "Objective value at t=13 is 0.4774738549266755\n",
      "Objective value at t=14 is 0.4765753524696126\n",
      "Objective value at t=15 is 0.4758442471804754\n",
      "Objective value at t=16 is 0.4752457899139384\n",
      "Objective value at t=17 is 0.47475332152101773\n",
      "Objective value at t=18 is 0.47434616488415066\n",
      "Objective value at t=19 is 0.4740081262775222\n",
      "Objective value at t=20 is 0.4737264129332884\n",
      "Objective value at t=21 is 0.47349084005568487\n",
      "Objective value at t=22 is 0.4732932423898366\n",
      "Objective value at t=23 is 0.4731270324652107\n",
      "Objective value at t=24 is 0.47298686541209595\n",
      "Objective value at t=25 is 0.47286838215832444\n",
      "Objective value at t=26 is 0.47276801091857945\n",
      "Objective value at t=27 is 0.4726828124857129\n",
      "Objective value at t=28 is 0.4726103587506972\n",
      "Objective value at t=29 is 0.47254863665353014\n",
      "Objective value at t=30 is 0.4724959717571313\n",
      "Objective value at t=31 is 0.4724509670780168\n",
      "Objective value at t=32 is 0.4724124538628843\n",
      "Objective value at t=33 is 0.47237945178010765\n",
      "Objective value at t=34 is 0.47235113657660754\n",
      "Objective value at t=35 is 0.47232681368778323\n",
      "Objective value at t=36 is 0.4723058966195424\n",
      "Objective value at t=37 is 0.4722878891744878\n",
      "Objective value at t=38 is 0.4722723707888681\n",
      "Objective value at t=39 is 0.4722589843975129\n",
      "Objective value at t=40 is 0.4722474263612774\n",
      "Objective value at t=41 is 0.47223743808343793\n",
      "Objective value at t=42 is 0.472228799013908\n",
      "Objective value at t=43 is 0.4722213207975012\n",
      "Objective value at t=44 is 0.47221484236812444\n",
      "Objective value at t=45 is 0.4722092258273052\n",
      "Objective value at t=46 is 0.47220435297476876\n",
      "Objective value at t=47 is 0.4722001223824468\n",
      "Objective value at t=48 is 0.4721964469224405\n",
      "Objective value at t=49 is 0.4721932516750267\n",
      "Objective value at t=50 is 0.4721904721554865\n",
      "Objective value at t=51 is 0.4721880528089172\n",
      "Objective value at t=52 is 0.47218594573071193\n",
      "Objective value at t=53 is 0.4721841095773992\n",
      "Objective value at t=54 is 0.4721825086383299\n",
      "Objective value at t=55 is 0.47218111204348023\n",
      "Objective value at t=56 is 0.4721798930866198\n",
      "Objective value at t=57 is 0.47217882864639005\n",
      "Objective value at t=58 is 0.47217789869059607\n",
      "Objective value at t=59 is 0.47217708585130796\n",
      "Objective value at t=60 is 0.47217637506029475\n",
      "Objective value at t=61 is 0.4721757532359218\n",
      "Objective value at t=62 is 0.4721752090139978\n",
      "Objective value at t=63 is 0.4721747325161939\n",
      "Objective value at t=64 is 0.4721743151506204\n",
      "Objective value at t=65 is 0.4721739494399472\n",
      "Objective value at t=66 is 0.47217362887314707\n",
      "Objective value at t=67 is 0.47217334777751196\n",
      "Objective value at t=68 is 0.47217310120808853\n",
      "Objective value at t=69 is 0.4721728848520881\n",
      "Objective value at t=70 is 0.47217269494618436\n",
      "Objective value at t=71 is 0.4721725282049144\n",
      "Objective value at t=72 is 0.4721723817586442\n",
      "Objective value at t=73 is 0.47217225309979066\n",
      "Objective value at t=74 is 0.47217214003616836\n",
      "Objective value at t=75 is 0.4721720406504925\n",
      "Objective value at t=76 is 0.4721719532652045\n",
      "Objective value at t=77 is 0.47217187641190217\n",
      "Objective value at t=78 is 0.47217180880475546\n",
      "Objective value at t=79 is 0.47217174931737776\n",
      "Objective value at t=80 is 0.47217169696268924\n",
      "Objective value at t=81 is 0.47217165087537755\n",
      "Objective value at t=82 is 0.4721716102966137\n",
      "Objective value at t=83 is 0.47217157456072356\n",
      "Objective value at t=84 is 0.4721715430835628\n",
      "Objective value at t=85 is 0.47217151535236906\n",
      "Objective value at t=86 is 0.47217149091690186\n",
      "Objective value at t=87 is 0.4721714693817025\n",
      "Objective value at t=88 is 0.47217145039933006\n",
      "Objective value at t=89 is 0.47217143366444553\n",
      "Objective value at t=90 is 0.47217141890863884\n",
      "Objective value at t=91 is 0.47217140589590234\n",
      "Objective value at t=92 is 0.47217139441866635\n",
      "Objective value at t=93 is 0.47217138429432937\n",
      "Objective value at t=94 is 0.47217137536221676\n",
      "Objective value at t=95 is 0.47217136748091665\n",
      "Objective value at t=96 is 0.4721713605259429\n",
      "Objective value at t=97 is 0.4721713543876872\n",
      "Objective value at t=98 is 0.47217134896962054\n",
      "Objective value at t=99 is 0.47217134418671686\n"
     ]
    }
   ],
   "source": [
    "lam = 1E-6\n",
    "stepsize = 1.0\n",
    "w, objvals_gd = grad_descent(x_train, y_train, lam, stepsize)"
   ]
  },
  {
   "cell_type": "markdown",
   "metadata": {},
   "source": [
    "## 3.2. Stochastic gradient descent (SGD)\n",
    "\n",
    "Define $Q_i (w) = \\log \\Big( 1 + \\exp \\big( - y_i x_i^T w \\big) \\Big) + \\frac{\\lambda}{2} \\| w \\|_2^2 $.\n",
    "\n",
    "The stochastic gradient at $w$ is $g_i = \\frac{\\partial Q_i }{ \\partial w} = -\\frac{y_i x_i }{1 + \\exp ( y_i x_i^T w)} + \\lambda w$."
   ]
  },
  {
   "cell_type": "code",
   "execution_count": 10,
   "metadata": {},
   "outputs": [],
   "source": [
    "# Calculate the objective Q_i and the gradient of Q_i\n",
    "# Inputs:\n",
    "#     w: d-by-1 matrix\n",
    "#     xi: 1-by-d matrix\n",
    "#     yi: scalar\n",
    "#     lam: scalar, the regularization parameter\n",
    "# Return:\n",
    "#     obj: scalar, the objective Q_i\n",
    "#     g: d-by-1 matrix, gradient of Q_i\n",
    "def stochastic_objective_gradient(w, xi, yi, lam):\n",
    "    d = xi.shape[0]\n",
    "    yx = yi * xi # 1-by-d matrix\n",
    "    yxw = float(numpy.dot(yx, w)) # scalar\n",
    "    \n",
    "    # calculate objective function Q_i\n",
    "    loss = numpy.log(1 + numpy.exp(-yxw)) # scalar\n",
    "    reg = lam / 2 * numpy.sum(w * w) # scalar\n",
    "    obj = loss + reg\n",
    "    \n",
    "    # calculate stochastic gradient\n",
    "    g_loss = -yx.T / (1 + numpy.exp(yxw)) # d-by-1 matrix\n",
    "    g = g_loss + lam * w # d-by-1 matrix\n",
    "    \n",
    "    return obj, g"
   ]
  },
  {
   "cell_type": "code",
   "execution_count": 11,
   "metadata": {},
   "outputs": [],
   "source": [
    "# SGD for solving logistic regression\n",
    "# Inputs:\n",
    "#     x: n-by-d matrix\n",
    "#     y: n-by-1 matrix\n",
    "#     lam: scalar, the regularization parameter\n",
    "#     stepsize: scalar\n",
    "#     max_epoch: integer, the maximal epochs\n",
    "#     w: d-by-1 matrix, initialization of w\n",
    "# Return:\n",
    "#     w: the solution\n",
    "#     objvals: record of each iteration's objective value\n",
    "def sgd(x, y, lam, stepsize, max_epoch=100, w=None):\n",
    "    n, d = x.shape\n",
    "    objvals = numpy.zeros(max_epoch) # store the objective values\n",
    "    if w is None:\n",
    "        w = numpy.zeros((d, 1)) # zero initialization\n",
    "    \n",
    "    for t in range(max_epoch):\n",
    "        # randomly shuffle the samples\n",
    "        rand_indices = numpy.random.permutation(n)\n",
    "        x_rand = x[rand_indices, :]\n",
    "        y_rand = y[rand_indices, :]\n",
    "        \n",
    "        objval = 0 # accumulate the objective values\n",
    "        for i in range(n):\n",
    "            xi = x_rand[i, :] # 1-by-d matrix\n",
    "            yi = float(y_rand[i, :]) # scalar\n",
    "            obj, g = stochastic_objective_gradient(w, xi, yi, lam)\n",
    "            objval += obj\n",
    "            w -= stepsize * g\n",
    "        \n",
    "        stepsize *= 0.9 # decrease step size\n",
    "        objval /= n\n",
    "        objvals[t] = objval\n",
    "        print('Objective value at epoch t=' + str(t) + ' is ' + str(objval))\n",
    "    \n",
    "    return w, objvals"
   ]
  },
  {
   "source": [
    "Run SGD."
   ],
   "cell_type": "markdown",
   "metadata": {}
  },
  {
   "cell_type": "code",
   "execution_count": 12,
   "metadata": {},
   "outputs": [
    {
     "output_type": "stream",
     "name": "stdout",
     "text": [
      "Objective value at epoch t=0 is 0.5403843599522284\n",
      "Objective value at epoch t=1 is 0.5241544780133005\n",
      "Objective value at epoch t=2 is 0.5209690588924485\n",
      "Objective value at epoch t=3 is 0.5059358770346927\n",
      "Objective value at epoch t=4 is 0.5082777636903888\n",
      "Objective value at epoch t=5 is 0.502594825946524\n",
      "Objective value at epoch t=6 is 0.49740039195614916\n",
      "Objective value at epoch t=7 is 0.49921198671952316\n",
      "Objective value at epoch t=8 is 0.49591045355952346\n",
      "Objective value at epoch t=9 is 0.49460724665074485\n",
      "Objective value at epoch t=10 is 0.48762307175276104\n",
      "Objective value at epoch t=11 is 0.4935689351585274\n",
      "Objective value at epoch t=12 is 0.49012735684701453\n",
      "Objective value at epoch t=13 is 0.48518410922461774\n",
      "Objective value at epoch t=14 is 0.4879468736954424\n",
      "Objective value at epoch t=15 is 0.48395079408761604\n",
      "Objective value at epoch t=16 is 0.4834448355812996\n",
      "Objective value at epoch t=17 is 0.4830502623411294\n",
      "Objective value at epoch t=18 is 0.48220987486548783\n",
      "Objective value at epoch t=19 is 0.48047435513330755\n",
      "Objective value at epoch t=20 is 0.4793812139564517\n",
      "Objective value at epoch t=21 is 0.4794657607534688\n",
      "Objective value at epoch t=22 is 0.4783527035180207\n",
      "Objective value at epoch t=23 is 0.4782924067697111\n",
      "Objective value at epoch t=24 is 0.47760130383356236\n",
      "Objective value at epoch t=25 is 0.47715335405077186\n",
      "Objective value at epoch t=26 is 0.4764471045453217\n",
      "Objective value at epoch t=27 is 0.47628231347010486\n",
      "Objective value at epoch t=28 is 0.47591281153477494\n",
      "Objective value at epoch t=29 is 0.47527229191060927\n",
      "Objective value at epoch t=30 is 0.47522777622279494\n",
      "Objective value at epoch t=31 is 0.4748581141157532\n",
      "Objective value at epoch t=32 is 0.47449643881960457\n",
      "Objective value at epoch t=33 is 0.47440862098356923\n",
      "Objective value at epoch t=34 is 0.4741403701307079\n",
      "Objective value at epoch t=35 is 0.4739783831012917\n",
      "Objective value at epoch t=36 is 0.4737650617991064\n",
      "Objective value at epoch t=37 is 0.4736483136839035\n",
      "Objective value at epoch t=38 is 0.47351524474469125\n",
      "Objective value at epoch t=39 is 0.4733472154685587\n",
      "Objective value at epoch t=40 is 0.47321225338551026\n",
      "Objective value at epoch t=41 is 0.4731232438774474\n",
      "Objective value at epoch t=42 is 0.47303570277344625\n",
      "Objective value at epoch t=43 is 0.4729698940873076\n",
      "Objective value at epoch t=44 is 0.47288943366656977\n",
      "Objective value at epoch t=45 is 0.4728232294684515\n",
      "Objective value at epoch t=46 is 0.47275746579012906\n",
      "Objective value at epoch t=47 is 0.4727005429286124\n",
      "Objective value at epoch t=48 is 0.4726480155768308\n",
      "Objective value at epoch t=49 is 0.4726003062758319\n",
      "Objective value at epoch t=50 is 0.47255577376445645\n",
      "Objective value at epoch t=51 is 0.47251867454217544\n",
      "Objective value at epoch t=52 is 0.4724842711007435\n",
      "Objective value at epoch t=53 is 0.4724529507777776\n",
      "Objective value at epoch t=54 is 0.4724230119386517\n",
      "Objective value at epoch t=55 is 0.4724002220784584\n",
      "Objective value at epoch t=56 is 0.4723775178757729\n",
      "Objective value at epoch t=57 is 0.472355787680923\n",
      "Objective value at epoch t=58 is 0.4723379633967035\n",
      "Objective value at epoch t=59 is 0.47232179511524974\n",
      "Objective value at epoch t=60 is 0.47230681316836076\n",
      "Objective value at epoch t=61 is 0.4722930184830285\n",
      "Objective value at epoch t=62 is 0.47228098844084193\n",
      "Objective value at epoch t=63 is 0.4722702287655903\n",
      "Objective value at epoch t=64 is 0.472260450239881\n",
      "Objective value at epoch t=65 is 0.47225154641046824\n",
      "Objective value at epoch t=66 is 0.47224364159777965\n",
      "Objective value at epoch t=67 is 0.4722364396042641\n",
      "Objective value at epoch t=68 is 0.47222997880617834\n",
      "Objective value at epoch t=69 is 0.47222412848707085\n",
      "Objective value at epoch t=70 is 0.4722189537444403\n",
      "Objective value at epoch t=71 is 0.4722142051704137\n",
      "Objective value at epoch t=72 is 0.47220999869463764\n",
      "Objective value at epoch t=73 is 0.47220619226957394\n",
      "Objective value at epoch t=74 is 0.4722027433289944\n",
      "Objective value at epoch t=75 is 0.4721996656909104\n",
      "Objective value at epoch t=76 is 0.47219688706654595\n",
      "Objective value at epoch t=77 is 0.47219438365224164\n",
      "Objective value at epoch t=78 is 0.47219213281584305\n",
      "Objective value at epoch t=79 is 0.47219010132974437\n",
      "Objective value at epoch t=80 is 0.47218827975293565\n",
      "Objective value at epoch t=81 is 0.4721866373994453\n",
      "Objective value at epoch t=82 is 0.4721851582669549\n",
      "Objective value at epoch t=83 is 0.472183828363832\n",
      "Objective value at epoch t=84 is 0.4721826304295799\n",
      "Objective value at epoch t=85 is 0.47218155209979384\n",
      "Objective value at epoch t=86 is 0.4721805829973806\n",
      "Objective value at epoch t=87 is 0.47217970961627354\n",
      "Objective value at epoch t=88 is 0.47217892274789647\n",
      "Objective value at epoch t=89 is 0.4721782148112689\n",
      "Objective value at epoch t=90 is 0.4721775794530652\n",
      "Objective value at epoch t=91 is 0.4721770063072981\n",
      "Objective value at epoch t=92 is 0.4721764908165314\n",
      "Objective value at epoch t=93 is 0.4721760267241611\n",
      "Objective value at epoch t=94 is 0.4721756090664123\n",
      "Objective value at epoch t=95 is 0.47217523314811605\n",
      "Objective value at epoch t=96 is 0.47217489465930207\n",
      "Objective value at epoch t=97 is 0.4721745901523593\n",
      "Objective value at epoch t=98 is 0.4721743160452806\n",
      "Objective value at epoch t=99 is 0.47217406947505547\n"
     ]
    }
   ],
   "source": [
    "lam = 1E-6\n",
    "stepsize = 0.1\n",
    "w, objvals_sgd = sgd(x_train, y_train, lam, stepsize)"
   ]
  },
  {
   "cell_type": "markdown",
   "metadata": {},
   "source": [
    "# 4. Compare GD with SGD\n",
    "\n",
    "Plot objective function values against epochs."
   ]
  },
  {
   "cell_type": "code",
   "execution_count": 13,
   "metadata": {},
   "outputs": [
    {
     "output_type": "display_data",
     "data": {
      "text/plain": "<Figure size 432x288 with 1 Axes>",
      "image/svg+xml": "<?xml version=\"1.0\" encoding=\"utf-8\" standalone=\"no\"?>\n<!DOCTYPE svg PUBLIC \"-//W3C//DTD SVG 1.1//EN\"\n  \"http://www.w3.org/Graphics/SVG/1.1/DTD/svg11.dtd\">\n<!-- Created with matplotlib (https://matplotlib.org/) -->\n<svg height=\"281.690422pt\" version=\"1.1\" viewBox=\"0 0 425.107805 281.690422\" width=\"425.107805pt\" xmlns=\"http://www.w3.org/2000/svg\" xmlns:xlink=\"http://www.w3.org/1999/xlink\">\n <metadata>\n  <rdf:RDF xmlns:cc=\"http://creativecommons.org/ns#\" xmlns:dc=\"http://purl.org/dc/elements/1.1/\" xmlns:rdf=\"http://www.w3.org/1999/02/22-rdf-syntax-ns#\">\n   <cc:Work>\n    <dc:type rdf:resource=\"http://purl.org/dc/dcmitype/StillImage\"/>\n    <dc:date>2021-03-07T18:52:42.243411</dc:date>\n    <dc:format>image/svg+xml</dc:format>\n    <dc:creator>\n     <cc:Agent>\n      <dc:title>Matplotlib v3.3.2, https://matplotlib.org/</dc:title>\n     </cc:Agent>\n    </dc:creator>\n   </cc:Work>\n  </rdf:RDF>\n </metadata>\n <defs>\n  <style type=\"text/css\">*{stroke-linecap:butt;stroke-linejoin:round;}</style>\n </defs>\n <g id=\"figure_1\">\n  <g id=\"patch_1\">\n   <path d=\"M 0 281.690422 \nL 425.107805 281.690422 \nL 425.107805 0 \nL 0 0 \nz\n\" style=\"fill:none;\"/>\n  </g>\n  <g id=\"axes_1\">\n   <g id=\"patch_2\">\n    <path d=\"M 73.18125 228.649172 \nL 415.037552 228.649172 \nL 415.037552 9.495687 \nL 73.18125 9.495687 \nz\n\" style=\"fill:#ffffff;\"/>\n   </g>\n   <g id=\"matplotlib.axis_1\">\n    <g id=\"xtick_1\">\n     <g id=\"line2d_1\">\n      <defs>\n       <path d=\"M 0 0 \nL 0 3.5 \n\" id=\"mff673a2257\" style=\"stroke:#000000;stroke-width:0.8;\"/>\n      </defs>\n      <g>\n       <use style=\"stroke:#000000;stroke-width:0.8;\" x=\"88.720173\" xlink:href=\"#mff673a2257\" y=\"228.649172\"/>\n      </g>\n     </g>\n     <g id=\"text_1\">\n      <!-- 0 -->\n      <g transform=\"translate(83.630173 247.806672)scale(0.16 -0.16)\">\n       <defs>\n        <path d=\"M 31.78125 66.40625 \nQ 24.171875 66.40625 20.328125 58.90625 \nQ 16.5 51.421875 16.5 36.375 \nQ 16.5 21.390625 20.328125 13.890625 \nQ 24.171875 6.390625 31.78125 6.390625 \nQ 39.453125 6.390625 43.28125 13.890625 \nQ 47.125 21.390625 47.125 36.375 \nQ 47.125 51.421875 43.28125 58.90625 \nQ 39.453125 66.40625 31.78125 66.40625 \nz\nM 31.78125 74.21875 \nQ 44.046875 74.21875 50.515625 64.515625 \nQ 56.984375 54.828125 56.984375 36.375 \nQ 56.984375 17.96875 50.515625 8.265625 \nQ 44.046875 -1.421875 31.78125 -1.421875 \nQ 19.53125 -1.421875 13.0625 8.265625 \nQ 6.59375 17.96875 6.59375 36.375 \nQ 6.59375 54.828125 13.0625 64.515625 \nQ 19.53125 74.21875 31.78125 74.21875 \nz\n\" id=\"DejaVuSans-48\"/>\n       </defs>\n       <use xlink:href=\"#DejaVuSans-48\"/>\n      </g>\n     </g>\n    </g>\n    <g id=\"xtick_2\">\n     <g id=\"line2d_2\">\n      <g>\n       <use style=\"stroke:#000000;stroke-width:0.8;\" x=\"151.503699\" xlink:href=\"#mff673a2257\" y=\"228.649172\"/>\n      </g>\n     </g>\n     <g id=\"text_2\">\n      <!-- 20 -->\n      <g transform=\"translate(141.323699 247.806672)scale(0.16 -0.16)\">\n       <defs>\n        <path d=\"M 19.1875 8.296875 \nL 53.609375 8.296875 \nL 53.609375 0 \nL 7.328125 0 \nL 7.328125 8.296875 \nQ 12.9375 14.109375 22.625 23.890625 \nQ 32.328125 33.6875 34.8125 36.53125 \nQ 39.546875 41.84375 41.421875 45.53125 \nQ 43.3125 49.21875 43.3125 52.78125 \nQ 43.3125 58.59375 39.234375 62.25 \nQ 35.15625 65.921875 28.609375 65.921875 \nQ 23.96875 65.921875 18.8125 64.3125 \nQ 13.671875 62.703125 7.8125 59.421875 \nL 7.8125 69.390625 \nQ 13.765625 71.78125 18.9375 73 \nQ 24.125 74.21875 28.421875 74.21875 \nQ 39.75 74.21875 46.484375 68.546875 \nQ 53.21875 62.890625 53.21875 53.421875 \nQ 53.21875 48.921875 51.53125 44.890625 \nQ 49.859375 40.875 45.40625 35.40625 \nQ 44.1875 33.984375 37.640625 27.21875 \nQ 31.109375 20.453125 19.1875 8.296875 \nz\n\" id=\"DejaVuSans-50\"/>\n       </defs>\n       <use xlink:href=\"#DejaVuSans-50\"/>\n       <use x=\"63.623047\" xlink:href=\"#DejaVuSans-48\"/>\n      </g>\n     </g>\n    </g>\n    <g id=\"xtick_3\">\n     <g id=\"line2d_3\">\n      <g>\n       <use style=\"stroke:#000000;stroke-width:0.8;\" x=\"214.287226\" xlink:href=\"#mff673a2257\" y=\"228.649172\"/>\n      </g>\n     </g>\n     <g id=\"text_3\">\n      <!-- 40 -->\n      <g transform=\"translate(204.107226 247.806672)scale(0.16 -0.16)\">\n       <defs>\n        <path d=\"M 37.796875 64.3125 \nL 12.890625 25.390625 \nL 37.796875 25.390625 \nz\nM 35.203125 72.90625 \nL 47.609375 72.90625 \nL 47.609375 25.390625 \nL 58.015625 25.390625 \nL 58.015625 17.1875 \nL 47.609375 17.1875 \nL 47.609375 0 \nL 37.796875 0 \nL 37.796875 17.1875 \nL 4.890625 17.1875 \nL 4.890625 26.703125 \nz\n\" id=\"DejaVuSans-52\"/>\n       </defs>\n       <use xlink:href=\"#DejaVuSans-52\"/>\n       <use x=\"63.623047\" xlink:href=\"#DejaVuSans-48\"/>\n      </g>\n     </g>\n    </g>\n    <g id=\"xtick_4\">\n     <g id=\"line2d_4\">\n      <g>\n       <use style=\"stroke:#000000;stroke-width:0.8;\" x=\"277.070752\" xlink:href=\"#mff673a2257\" y=\"228.649172\"/>\n      </g>\n     </g>\n     <g id=\"text_4\">\n      <!-- 60 -->\n      <g transform=\"translate(266.890752 247.806672)scale(0.16 -0.16)\">\n       <defs>\n        <path d=\"M 33.015625 40.375 \nQ 26.375 40.375 22.484375 35.828125 \nQ 18.609375 31.296875 18.609375 23.390625 \nQ 18.609375 15.53125 22.484375 10.953125 \nQ 26.375 6.390625 33.015625 6.390625 \nQ 39.65625 6.390625 43.53125 10.953125 \nQ 47.40625 15.53125 47.40625 23.390625 \nQ 47.40625 31.296875 43.53125 35.828125 \nQ 39.65625 40.375 33.015625 40.375 \nz\nM 52.59375 71.296875 \nL 52.59375 62.3125 \nQ 48.875 64.0625 45.09375 64.984375 \nQ 41.3125 65.921875 37.59375 65.921875 \nQ 27.828125 65.921875 22.671875 59.328125 \nQ 17.53125 52.734375 16.796875 39.40625 \nQ 19.671875 43.65625 24.015625 45.921875 \nQ 28.375 48.1875 33.59375 48.1875 \nQ 44.578125 48.1875 50.953125 41.515625 \nQ 57.328125 34.859375 57.328125 23.390625 \nQ 57.328125 12.15625 50.6875 5.359375 \nQ 44.046875 -1.421875 33.015625 -1.421875 \nQ 20.359375 -1.421875 13.671875 8.265625 \nQ 6.984375 17.96875 6.984375 36.375 \nQ 6.984375 53.65625 15.1875 63.9375 \nQ 23.390625 74.21875 37.203125 74.21875 \nQ 40.921875 74.21875 44.703125 73.484375 \nQ 48.484375 72.75 52.59375 71.296875 \nz\n\" id=\"DejaVuSans-54\"/>\n       </defs>\n       <use xlink:href=\"#DejaVuSans-54\"/>\n       <use x=\"63.623047\" xlink:href=\"#DejaVuSans-48\"/>\n      </g>\n     </g>\n    </g>\n    <g id=\"xtick_5\">\n     <g id=\"line2d_5\">\n      <g>\n       <use style=\"stroke:#000000;stroke-width:0.8;\" x=\"339.854279\" xlink:href=\"#mff673a2257\" y=\"228.649172\"/>\n      </g>\n     </g>\n     <g id=\"text_5\">\n      <!-- 80 -->\n      <g transform=\"translate(329.674279 247.806672)scale(0.16 -0.16)\">\n       <defs>\n        <path d=\"M 31.78125 34.625 \nQ 24.75 34.625 20.71875 30.859375 \nQ 16.703125 27.09375 16.703125 20.515625 \nQ 16.703125 13.921875 20.71875 10.15625 \nQ 24.75 6.390625 31.78125 6.390625 \nQ 38.8125 6.390625 42.859375 10.171875 \nQ 46.921875 13.96875 46.921875 20.515625 \nQ 46.921875 27.09375 42.890625 30.859375 \nQ 38.875 34.625 31.78125 34.625 \nz\nM 21.921875 38.8125 \nQ 15.578125 40.375 12.03125 44.71875 \nQ 8.5 49.078125 8.5 55.328125 \nQ 8.5 64.0625 14.71875 69.140625 \nQ 20.953125 74.21875 31.78125 74.21875 \nQ 42.671875 74.21875 48.875 69.140625 \nQ 55.078125 64.0625 55.078125 55.328125 \nQ 55.078125 49.078125 51.53125 44.71875 \nQ 48 40.375 41.703125 38.8125 \nQ 48.828125 37.15625 52.796875 32.3125 \nQ 56.78125 27.484375 56.78125 20.515625 \nQ 56.78125 9.90625 50.3125 4.234375 \nQ 43.84375 -1.421875 31.78125 -1.421875 \nQ 19.734375 -1.421875 13.25 4.234375 \nQ 6.78125 9.90625 6.78125 20.515625 \nQ 6.78125 27.484375 10.78125 32.3125 \nQ 14.796875 37.15625 21.921875 38.8125 \nz\nM 18.3125 54.390625 \nQ 18.3125 48.734375 21.84375 45.5625 \nQ 25.390625 42.390625 31.78125 42.390625 \nQ 38.140625 42.390625 41.71875 45.5625 \nQ 45.3125 48.734375 45.3125 54.390625 \nQ 45.3125 60.0625 41.71875 63.234375 \nQ 38.140625 66.40625 31.78125 66.40625 \nQ 25.390625 66.40625 21.84375 63.234375 \nQ 18.3125 60.0625 18.3125 54.390625 \nz\n\" id=\"DejaVuSans-56\"/>\n       </defs>\n       <use xlink:href=\"#DejaVuSans-56\"/>\n       <use x=\"63.623047\" xlink:href=\"#DejaVuSans-48\"/>\n      </g>\n     </g>\n    </g>\n    <g id=\"xtick_6\">\n     <g id=\"line2d_6\">\n      <g>\n       <use style=\"stroke:#000000;stroke-width:0.8;\" x=\"402.637805\" xlink:href=\"#mff673a2257\" y=\"228.649172\"/>\n      </g>\n     </g>\n     <g id=\"text_6\">\n      <!-- 100 -->\n      <g transform=\"translate(387.367805 247.806672)scale(0.16 -0.16)\">\n       <defs>\n        <path d=\"M 12.40625 8.296875 \nL 28.515625 8.296875 \nL 28.515625 63.921875 \nL 10.984375 60.40625 \nL 10.984375 69.390625 \nL 28.421875 72.90625 \nL 38.28125 72.90625 \nL 38.28125 8.296875 \nL 54.390625 8.296875 \nL 54.390625 0 \nL 12.40625 0 \nz\n\" id=\"DejaVuSans-49\"/>\n       </defs>\n       <use xlink:href=\"#DejaVuSans-49\"/>\n       <use x=\"63.623047\" xlink:href=\"#DejaVuSans-48\"/>\n       <use x=\"127.246094\" xlink:href=\"#DejaVuSans-48\"/>\n      </g>\n     </g>\n    </g>\n    <g id=\"text_7\">\n     <!-- Epochs -->\n     <g transform=\"translate(208.278151 270.331047)scale(0.2 -0.2)\">\n      <defs>\n       <path d=\"M 9.8125 72.90625 \nL 55.90625 72.90625 \nL 55.90625 64.59375 \nL 19.671875 64.59375 \nL 19.671875 43.015625 \nL 54.390625 43.015625 \nL 54.390625 34.71875 \nL 19.671875 34.71875 \nL 19.671875 8.296875 \nL 56.78125 8.296875 \nL 56.78125 0 \nL 9.8125 0 \nz\n\" id=\"DejaVuSans-69\"/>\n       <path d=\"M 18.109375 8.203125 \nL 18.109375 -20.796875 \nL 9.078125 -20.796875 \nL 9.078125 54.6875 \nL 18.109375 54.6875 \nL 18.109375 46.390625 \nQ 20.953125 51.265625 25.265625 53.625 \nQ 29.59375 56 35.59375 56 \nQ 45.5625 56 51.78125 48.09375 \nQ 58.015625 40.1875 58.015625 27.296875 \nQ 58.015625 14.40625 51.78125 6.484375 \nQ 45.5625 -1.421875 35.59375 -1.421875 \nQ 29.59375 -1.421875 25.265625 0.953125 \nQ 20.953125 3.328125 18.109375 8.203125 \nz\nM 48.6875 27.296875 \nQ 48.6875 37.203125 44.609375 42.84375 \nQ 40.53125 48.484375 33.40625 48.484375 \nQ 26.265625 48.484375 22.1875 42.84375 \nQ 18.109375 37.203125 18.109375 27.296875 \nQ 18.109375 17.390625 22.1875 11.75 \nQ 26.265625 6.109375 33.40625 6.109375 \nQ 40.53125 6.109375 44.609375 11.75 \nQ 48.6875 17.390625 48.6875 27.296875 \nz\n\" id=\"DejaVuSans-112\"/>\n       <path d=\"M 30.609375 48.390625 \nQ 23.390625 48.390625 19.1875 42.75 \nQ 14.984375 37.109375 14.984375 27.296875 \nQ 14.984375 17.484375 19.15625 11.84375 \nQ 23.34375 6.203125 30.609375 6.203125 \nQ 37.796875 6.203125 41.984375 11.859375 \nQ 46.1875 17.53125 46.1875 27.296875 \nQ 46.1875 37.015625 41.984375 42.703125 \nQ 37.796875 48.390625 30.609375 48.390625 \nz\nM 30.609375 56 \nQ 42.328125 56 49.015625 48.375 \nQ 55.71875 40.765625 55.71875 27.296875 \nQ 55.71875 13.875 49.015625 6.21875 \nQ 42.328125 -1.421875 30.609375 -1.421875 \nQ 18.84375 -1.421875 12.171875 6.21875 \nQ 5.515625 13.875 5.515625 27.296875 \nQ 5.515625 40.765625 12.171875 48.375 \nQ 18.84375 56 30.609375 56 \nz\n\" id=\"DejaVuSans-111\"/>\n       <path d=\"M 48.78125 52.59375 \nL 48.78125 44.1875 \nQ 44.96875 46.296875 41.140625 47.34375 \nQ 37.3125 48.390625 33.40625 48.390625 \nQ 24.65625 48.390625 19.8125 42.84375 \nQ 14.984375 37.3125 14.984375 27.296875 \nQ 14.984375 17.28125 19.8125 11.734375 \nQ 24.65625 6.203125 33.40625 6.203125 \nQ 37.3125 6.203125 41.140625 7.25 \nQ 44.96875 8.296875 48.78125 10.40625 \nL 48.78125 2.09375 \nQ 45.015625 0.34375 40.984375 -0.53125 \nQ 36.96875 -1.421875 32.421875 -1.421875 \nQ 20.0625 -1.421875 12.78125 6.34375 \nQ 5.515625 14.109375 5.515625 27.296875 \nQ 5.515625 40.671875 12.859375 48.328125 \nQ 20.21875 56 33.015625 56 \nQ 37.15625 56 41.109375 55.140625 \nQ 45.0625 54.296875 48.78125 52.59375 \nz\n\" id=\"DejaVuSans-99\"/>\n       <path d=\"M 54.890625 33.015625 \nL 54.890625 0 \nL 45.90625 0 \nL 45.90625 32.71875 \nQ 45.90625 40.484375 42.875 44.328125 \nQ 39.84375 48.1875 33.796875 48.1875 \nQ 26.515625 48.1875 22.3125 43.546875 \nQ 18.109375 38.921875 18.109375 30.90625 \nL 18.109375 0 \nL 9.078125 0 \nL 9.078125 75.984375 \nL 18.109375 75.984375 \nL 18.109375 46.1875 \nQ 21.34375 51.125 25.703125 53.5625 \nQ 30.078125 56 35.796875 56 \nQ 45.21875 56 50.046875 50.171875 \nQ 54.890625 44.34375 54.890625 33.015625 \nz\n\" id=\"DejaVuSans-104\"/>\n       <path d=\"M 44.28125 53.078125 \nL 44.28125 44.578125 \nQ 40.484375 46.53125 36.375 47.5 \nQ 32.28125 48.484375 27.875 48.484375 \nQ 21.1875 48.484375 17.84375 46.4375 \nQ 14.5 44.390625 14.5 40.28125 \nQ 14.5 37.15625 16.890625 35.375 \nQ 19.28125 33.59375 26.515625 31.984375 \nL 29.59375 31.296875 \nQ 39.15625 29.25 43.1875 25.515625 \nQ 47.21875 21.78125 47.21875 15.09375 \nQ 47.21875 7.46875 41.1875 3.015625 \nQ 35.15625 -1.421875 24.609375 -1.421875 \nQ 20.21875 -1.421875 15.453125 -0.5625 \nQ 10.6875 0.296875 5.421875 2 \nL 5.421875 11.28125 \nQ 10.40625 8.6875 15.234375 7.390625 \nQ 20.0625 6.109375 24.8125 6.109375 \nQ 31.15625 6.109375 34.5625 8.28125 \nQ 37.984375 10.453125 37.984375 14.40625 \nQ 37.984375 18.0625 35.515625 20.015625 \nQ 33.0625 21.96875 24.703125 23.78125 \nL 21.578125 24.515625 \nQ 13.234375 26.265625 9.515625 29.90625 \nQ 5.8125 33.546875 5.8125 39.890625 \nQ 5.8125 47.609375 11.28125 51.796875 \nQ 16.75 56 26.8125 56 \nQ 31.78125 56 36.171875 55.265625 \nQ 40.578125 54.546875 44.28125 53.078125 \nz\n\" id=\"DejaVuSans-115\"/>\n      </defs>\n      <use xlink:href=\"#DejaVuSans-69\"/>\n      <use x=\"63.183594\" xlink:href=\"#DejaVuSans-112\"/>\n      <use x=\"126.660156\" xlink:href=\"#DejaVuSans-111\"/>\n      <use x=\"187.841797\" xlink:href=\"#DejaVuSans-99\"/>\n      <use x=\"242.822266\" xlink:href=\"#DejaVuSans-104\"/>\n      <use x=\"306.201172\" xlink:href=\"#DejaVuSans-115\"/>\n     </g>\n    </g>\n   </g>\n   <g id=\"matplotlib.axis_2\">\n    <g id=\"ytick_1\">\n     <g id=\"line2d_7\">\n      <defs>\n       <path d=\"M 0 0 \nL -3.5 0 \n\" id=\"mda672331d6\" style=\"stroke:#000000;stroke-width:0.8;\"/>\n      </defs>\n      <g>\n       <use style=\"stroke:#000000;stroke-width:0.8;\" x=\"73.18125\" xlink:href=\"#mda672331d6\" y=\"193.597506\"/>\n      </g>\n     </g>\n     <g id=\"text_8\">\n      <!-- 0.50 -->\n      <g transform=\"translate(30.55625 199.676256)scale(0.16 -0.16)\">\n       <defs>\n        <path d=\"M 10.6875 12.40625 \nL 21 12.40625 \nL 21 0 \nL 10.6875 0 \nz\n\" id=\"DejaVuSans-46\"/>\n        <path d=\"M 10.796875 72.90625 \nL 49.515625 72.90625 \nL 49.515625 64.59375 \nL 19.828125 64.59375 \nL 19.828125 46.734375 \nQ 21.96875 47.46875 24.109375 47.828125 \nQ 26.265625 48.1875 28.421875 48.1875 \nQ 40.625 48.1875 47.75 41.5 \nQ 54.890625 34.8125 54.890625 23.390625 \nQ 54.890625 11.625 47.5625 5.09375 \nQ 40.234375 -1.421875 26.90625 -1.421875 \nQ 22.3125 -1.421875 17.546875 -0.640625 \nQ 12.796875 0.140625 7.71875 1.703125 \nL 7.71875 11.625 \nQ 12.109375 9.234375 16.796875 8.0625 \nQ 21.484375 6.890625 26.703125 6.890625 \nQ 35.15625 6.890625 40.078125 11.328125 \nQ 45.015625 15.765625 45.015625 23.390625 \nQ 45.015625 31 40.078125 35.4375 \nQ 35.15625 39.890625 26.703125 39.890625 \nQ 22.75 39.890625 18.8125 39.015625 \nQ 14.890625 38.140625 10.796875 36.28125 \nz\n\" id=\"DejaVuSans-53\"/>\n       </defs>\n       <use xlink:href=\"#DejaVuSans-48\"/>\n       <use x=\"63.623047\" xlink:href=\"#DejaVuSans-46\"/>\n       <use x=\"95.410156\" xlink:href=\"#DejaVuSans-53\"/>\n       <use x=\"159.033203\" xlink:href=\"#DejaVuSans-48\"/>\n      </g>\n     </g>\n    </g>\n    <g id=\"ytick_2\">\n     <g id=\"line2d_8\">\n      <g>\n       <use style=\"stroke:#000000;stroke-width:0.8;\" x=\"73.18125\" xlink:href=\"#mda672331d6\" y=\"148.517817\"/>\n      </g>\n     </g>\n     <g id=\"text_9\">\n      <!-- 0.55 -->\n      <g transform=\"translate(30.55625 154.596567)scale(0.16 -0.16)\">\n       <use xlink:href=\"#DejaVuSans-48\"/>\n       <use x=\"63.623047\" xlink:href=\"#DejaVuSans-46\"/>\n       <use x=\"95.410156\" xlink:href=\"#DejaVuSans-53\"/>\n       <use x=\"159.033203\" xlink:href=\"#DejaVuSans-53\"/>\n      </g>\n     </g>\n    </g>\n    <g id=\"ytick_3\">\n     <g id=\"line2d_9\">\n      <g>\n       <use style=\"stroke:#000000;stroke-width:0.8;\" x=\"73.18125\" xlink:href=\"#mda672331d6\" y=\"103.438128\"/>\n      </g>\n     </g>\n     <g id=\"text_10\">\n      <!-- 0.60 -->\n      <g transform=\"translate(30.55625 109.516878)scale(0.16 -0.16)\">\n       <use xlink:href=\"#DejaVuSans-48\"/>\n       <use x=\"63.623047\" xlink:href=\"#DejaVuSans-46\"/>\n       <use x=\"95.410156\" xlink:href=\"#DejaVuSans-54\"/>\n       <use x=\"159.033203\" xlink:href=\"#DejaVuSans-48\"/>\n      </g>\n     </g>\n    </g>\n    <g id=\"ytick_4\">\n     <g id=\"line2d_10\">\n      <g>\n       <use style=\"stroke:#000000;stroke-width:0.8;\" x=\"73.18125\" xlink:href=\"#mda672331d6\" y=\"58.358439\"/>\n      </g>\n     </g>\n     <g id=\"text_11\">\n      <!-- 0.65 -->\n      <g transform=\"translate(30.55625 64.437189)scale(0.16 -0.16)\">\n       <use xlink:href=\"#DejaVuSans-48\"/>\n       <use x=\"63.623047\" xlink:href=\"#DejaVuSans-46\"/>\n       <use x=\"95.410156\" xlink:href=\"#DejaVuSans-54\"/>\n       <use x=\"159.033203\" xlink:href=\"#DejaVuSans-53\"/>\n      </g>\n     </g>\n    </g>\n    <g id=\"ytick_5\">\n     <g id=\"line2d_11\">\n      <g>\n       <use style=\"stroke:#000000;stroke-width:0.8;\" x=\"73.18125\" xlink:href=\"#mda672331d6\" y=\"13.27875\"/>\n      </g>\n     </g>\n     <g id=\"text_12\">\n      <!-- 0.70 -->\n      <g transform=\"translate(30.55625 19.3575)scale(0.16 -0.16)\">\n       <defs>\n        <path d=\"M 8.203125 72.90625 \nL 55.078125 72.90625 \nL 55.078125 68.703125 \nL 28.609375 0 \nL 18.3125 0 \nL 43.21875 64.59375 \nL 8.203125 64.59375 \nz\n\" id=\"DejaVuSans-55\"/>\n       </defs>\n       <use xlink:href=\"#DejaVuSans-48\"/>\n       <use x=\"63.623047\" xlink:href=\"#DejaVuSans-46\"/>\n       <use x=\"95.410156\" xlink:href=\"#DejaVuSans-55\"/>\n       <use x=\"159.033203\" xlink:href=\"#DejaVuSans-48\"/>\n      </g>\n     </g>\n    </g>\n    <g id=\"text_13\">\n     <!-- Objective Value -->\n     <g transform=\"translate(22.396875 197.133367)rotate(-90)scale(0.2 -0.2)\">\n      <defs>\n       <path d=\"M 39.40625 66.21875 \nQ 28.65625 66.21875 22.328125 58.203125 \nQ 16.015625 50.203125 16.015625 36.375 \nQ 16.015625 22.609375 22.328125 14.59375 \nQ 28.65625 6.59375 39.40625 6.59375 \nQ 50.140625 6.59375 56.421875 14.59375 \nQ 62.703125 22.609375 62.703125 36.375 \nQ 62.703125 50.203125 56.421875 58.203125 \nQ 50.140625 66.21875 39.40625 66.21875 \nz\nM 39.40625 74.21875 \nQ 54.734375 74.21875 63.90625 63.9375 \nQ 73.09375 53.65625 73.09375 36.375 \nQ 73.09375 19.140625 63.90625 8.859375 \nQ 54.734375 -1.421875 39.40625 -1.421875 \nQ 24.03125 -1.421875 14.8125 8.828125 \nQ 5.609375 19.09375 5.609375 36.375 \nQ 5.609375 53.65625 14.8125 63.9375 \nQ 24.03125 74.21875 39.40625 74.21875 \nz\n\" id=\"DejaVuSans-79\"/>\n       <path d=\"M 48.6875 27.296875 \nQ 48.6875 37.203125 44.609375 42.84375 \nQ 40.53125 48.484375 33.40625 48.484375 \nQ 26.265625 48.484375 22.1875 42.84375 \nQ 18.109375 37.203125 18.109375 27.296875 \nQ 18.109375 17.390625 22.1875 11.75 \nQ 26.265625 6.109375 33.40625 6.109375 \nQ 40.53125 6.109375 44.609375 11.75 \nQ 48.6875 17.390625 48.6875 27.296875 \nz\nM 18.109375 46.390625 \nQ 20.953125 51.265625 25.265625 53.625 \nQ 29.59375 56 35.59375 56 \nQ 45.5625 56 51.78125 48.09375 \nQ 58.015625 40.1875 58.015625 27.296875 \nQ 58.015625 14.40625 51.78125 6.484375 \nQ 45.5625 -1.421875 35.59375 -1.421875 \nQ 29.59375 -1.421875 25.265625 0.953125 \nQ 20.953125 3.328125 18.109375 8.203125 \nL 18.109375 0 \nL 9.078125 0 \nL 9.078125 75.984375 \nL 18.109375 75.984375 \nz\n\" id=\"DejaVuSans-98\"/>\n       <path d=\"M 9.421875 54.6875 \nL 18.40625 54.6875 \nL 18.40625 -0.984375 \nQ 18.40625 -11.421875 14.421875 -16.109375 \nQ 10.453125 -20.796875 1.609375 -20.796875 \nL -1.8125 -20.796875 \nL -1.8125 -13.1875 \nL 0.59375 -13.1875 \nQ 5.71875 -13.1875 7.5625 -10.8125 \nQ 9.421875 -8.453125 9.421875 -0.984375 \nz\nM 9.421875 75.984375 \nL 18.40625 75.984375 \nL 18.40625 64.59375 \nL 9.421875 64.59375 \nz\n\" id=\"DejaVuSans-106\"/>\n       <path d=\"M 56.203125 29.59375 \nL 56.203125 25.203125 \nL 14.890625 25.203125 \nQ 15.484375 15.921875 20.484375 11.0625 \nQ 25.484375 6.203125 34.421875 6.203125 \nQ 39.59375 6.203125 44.453125 7.46875 \nQ 49.3125 8.734375 54.109375 11.28125 \nL 54.109375 2.78125 \nQ 49.265625 0.734375 44.1875 -0.34375 \nQ 39.109375 -1.421875 33.890625 -1.421875 \nQ 20.796875 -1.421875 13.15625 6.1875 \nQ 5.515625 13.8125 5.515625 26.8125 \nQ 5.515625 40.234375 12.765625 48.109375 \nQ 20.015625 56 32.328125 56 \nQ 43.359375 56 49.78125 48.890625 \nQ 56.203125 41.796875 56.203125 29.59375 \nz\nM 47.21875 32.234375 \nQ 47.125 39.59375 43.09375 43.984375 \nQ 39.0625 48.390625 32.421875 48.390625 \nQ 24.90625 48.390625 20.390625 44.140625 \nQ 15.875 39.890625 15.1875 32.171875 \nz\n\" id=\"DejaVuSans-101\"/>\n       <path d=\"M 18.3125 70.21875 \nL 18.3125 54.6875 \nL 36.8125 54.6875 \nL 36.8125 47.703125 \nL 18.3125 47.703125 \nL 18.3125 18.015625 \nQ 18.3125 11.328125 20.140625 9.421875 \nQ 21.96875 7.515625 27.59375 7.515625 \nL 36.8125 7.515625 \nL 36.8125 0 \nL 27.59375 0 \nQ 17.1875 0 13.234375 3.875 \nQ 9.28125 7.765625 9.28125 18.015625 \nL 9.28125 47.703125 \nL 2.6875 47.703125 \nL 2.6875 54.6875 \nL 9.28125 54.6875 \nL 9.28125 70.21875 \nz\n\" id=\"DejaVuSans-116\"/>\n       <path d=\"M 9.421875 54.6875 \nL 18.40625 54.6875 \nL 18.40625 0 \nL 9.421875 0 \nz\nM 9.421875 75.984375 \nL 18.40625 75.984375 \nL 18.40625 64.59375 \nL 9.421875 64.59375 \nz\n\" id=\"DejaVuSans-105\"/>\n       <path d=\"M 2.984375 54.6875 \nL 12.5 54.6875 \nL 29.59375 8.796875 \nL 46.6875 54.6875 \nL 56.203125 54.6875 \nL 35.6875 0 \nL 23.484375 0 \nz\n\" id=\"DejaVuSans-118\"/>\n       <path id=\"DejaVuSans-32\"/>\n       <path d=\"M 28.609375 0 \nL 0.78125 72.90625 \nL 11.078125 72.90625 \nL 34.1875 11.53125 \nL 57.328125 72.90625 \nL 67.578125 72.90625 \nL 39.796875 0 \nz\n\" id=\"DejaVuSans-86\"/>\n       <path d=\"M 34.28125 27.484375 \nQ 23.390625 27.484375 19.1875 25 \nQ 14.984375 22.515625 14.984375 16.5 \nQ 14.984375 11.71875 18.140625 8.90625 \nQ 21.296875 6.109375 26.703125 6.109375 \nQ 34.1875 6.109375 38.703125 11.40625 \nQ 43.21875 16.703125 43.21875 25.484375 \nL 43.21875 27.484375 \nz\nM 52.203125 31.203125 \nL 52.203125 0 \nL 43.21875 0 \nL 43.21875 8.296875 \nQ 40.140625 3.328125 35.546875 0.953125 \nQ 30.953125 -1.421875 24.3125 -1.421875 \nQ 15.921875 -1.421875 10.953125 3.296875 \nQ 6 8.015625 6 15.921875 \nQ 6 25.140625 12.171875 29.828125 \nQ 18.359375 34.515625 30.609375 34.515625 \nL 43.21875 34.515625 \nL 43.21875 35.40625 \nQ 43.21875 41.609375 39.140625 45 \nQ 35.0625 48.390625 27.6875 48.390625 \nQ 23 48.390625 18.546875 47.265625 \nQ 14.109375 46.140625 10.015625 43.890625 \nL 10.015625 52.203125 \nQ 14.9375 54.109375 19.578125 55.046875 \nQ 24.21875 56 28.609375 56 \nQ 40.484375 56 46.34375 49.84375 \nQ 52.203125 43.703125 52.203125 31.203125 \nz\n\" id=\"DejaVuSans-97\"/>\n       <path d=\"M 9.421875 75.984375 \nL 18.40625 75.984375 \nL 18.40625 0 \nL 9.421875 0 \nz\n\" id=\"DejaVuSans-108\"/>\n       <path d=\"M 8.5 21.578125 \nL 8.5 54.6875 \nL 17.484375 54.6875 \nL 17.484375 21.921875 \nQ 17.484375 14.15625 20.5 10.265625 \nQ 23.53125 6.390625 29.59375 6.390625 \nQ 36.859375 6.390625 41.078125 11.03125 \nQ 45.3125 15.671875 45.3125 23.6875 \nL 45.3125 54.6875 \nL 54.296875 54.6875 \nL 54.296875 0 \nL 45.3125 0 \nL 45.3125 8.40625 \nQ 42.046875 3.421875 37.71875 1 \nQ 33.40625 -1.421875 27.6875 -1.421875 \nQ 18.265625 -1.421875 13.375 4.4375 \nQ 8.5 10.296875 8.5 21.578125 \nz\nM 31.109375 56 \nz\n\" id=\"DejaVuSans-117\"/>\n      </defs>\n      <use xlink:href=\"#DejaVuSans-79\"/>\n      <use x=\"78.710938\" xlink:href=\"#DejaVuSans-98\"/>\n      <use x=\"142.1875\" xlink:href=\"#DejaVuSans-106\"/>\n      <use x=\"169.970703\" xlink:href=\"#DejaVuSans-101\"/>\n      <use x=\"231.494141\" xlink:href=\"#DejaVuSans-99\"/>\n      <use x=\"286.474609\" xlink:href=\"#DejaVuSans-116\"/>\n      <use x=\"325.683594\" xlink:href=\"#DejaVuSans-105\"/>\n      <use x=\"353.466797\" xlink:href=\"#DejaVuSans-118\"/>\n      <use x=\"412.646484\" xlink:href=\"#DejaVuSans-101\"/>\n      <use x=\"474.169922\" xlink:href=\"#DejaVuSans-32\"/>\n      <use x=\"505.957031\" xlink:href=\"#DejaVuSans-86\"/>\n      <use x=\"566.615234\" xlink:href=\"#DejaVuSans-97\"/>\n      <use x=\"627.894531\" xlink:href=\"#DejaVuSans-108\"/>\n      <use x=\"655.677734\" xlink:href=\"#DejaVuSans-117\"/>\n      <use x=\"719.056641\" xlink:href=\"#DejaVuSans-101\"/>\n     </g>\n    </g>\n   </g>\n   <g id=\"line2d_12\">\n    <path clip-path=\"url(#p63b31dbb8f)\" d=\"M 88.720173 19.457209 \nL 91.859349 111.563251 \nL 94.998525 149.550122 \nL 98.137702 170.083988 \nL 101.276878 182.889503 \nL 104.416054 191.530635 \nL 107.555231 197.65364 \nL 110.694407 202.139145 \nL 113.833583 205.506156 \nL 116.97276 208.081656 \nL 120.111936 210.081779 \nL 123.251112 211.654626 \nL 126.390289 212.904586 \nL 129.529465 213.906939 \nL 132.668641 214.717023 \nL 135.807818 215.376183 \nL 138.946994 215.915748 \nL 142.08617 216.359755 \nL 145.225347 216.726845 \nL 148.364523 217.031618 \nL 151.503699 217.285609 \nL 154.642876 217.498 \nL 157.782052 217.676153 \nL 160.921228 217.826007 \nL 164.060405 217.952381 \nL 167.199581 218.059204 \nL 170.338757 218.149699 \nL 173.477934 218.226513 \nL 176.61711 218.291837 \nL 179.756286 218.347485 \nL 182.895463 218.394967 \nL 186.034639 218.435543 \nL 189.173815 218.470267 \nL 192.312991 218.500021 \nL 195.452168 218.52555 \nL 198.591344 218.547479 \nL 201.73052 218.566338 \nL 204.869697 218.582573 \nL 208.008873 218.596565 \nL 211.148049 218.608634 \nL 214.287226 218.619054 \nL 217.426402 218.62806 \nL 220.565578 218.635849 \nL 223.704755 218.642591 \nL 226.843931 218.648432 \nL 229.983107 218.653496 \nL 233.122284 218.657889 \nL 236.26146 218.661703 \nL 239.400636 218.665017 \nL 242.539813 218.667898 \nL 245.678989 218.670404 \nL 248.818165 218.672585 \nL 251.957342 218.674485 \nL 255.096518 218.67614 \nL 258.235694 218.677584 \nL 261.374871 218.678843 \nL 264.514047 218.679942 \nL 267.653223 218.680902 \nL 270.7924 218.68174 \nL 273.931576 218.682473 \nL 277.070752 218.683114 \nL 280.209929 218.683674 \nL 283.349105 218.684165 \nL 286.488281 218.684595 \nL 289.627458 218.684971 \nL 292.766634 218.685301 \nL 295.90581 218.68559 \nL 299.044986 218.685843 \nL 302.184163 218.686065 \nL 305.323339 218.68626 \nL 308.462515 218.686432 \nL 311.601692 218.686582 \nL 314.740868 218.686714 \nL 317.880044 218.68683 \nL 321.019221 218.686932 \nL 324.158397 218.687022 \nL 327.297573 218.6871 \nL 330.43675 218.68717 \nL 333.575926 218.687231 \nL 336.715102 218.687284 \nL 339.854279 218.687331 \nL 342.993455 218.687373 \nL 346.132631 218.68741 \nL 349.271808 218.687442 \nL 352.410984 218.68747 \nL 355.55016 218.687495 \nL 358.689337 218.687517 \nL 361.828513 218.687537 \nL 364.967689 218.687554 \nL 368.106866 218.687569 \nL 371.246042 218.687582 \nL 374.385218 218.687594 \nL 377.524395 218.687604 \nL 380.663571 218.687613 \nL 383.802747 218.687621 \nL 386.941924 218.687629 \nL 390.0811 218.687635 \nL 393.220276 218.68764 \nL 396.359453 218.687645 \nL 399.498629 218.68765 \n\" style=\"fill:none;stroke:#0000ff;stroke-dasharray:14.8,6.4;stroke-dashoffset:0;stroke-width:4;\"/>\n   </g>\n   <g id=\"line2d_13\">\n    <path clip-path=\"url(#p63b31dbb8f)\" d=\"M 88.720173 157.187219 \nL 91.859349 171.819979 \nL 94.998525 174.691933 \nL 98.137702 188.245757 \nL 101.276878 186.134326 \nL 104.416054 191.258028 \nL 107.555231 195.941297 \nL 110.694407 194.307974 \nL 113.833583 197.284616 \nL 116.97276 198.459579 \nL 120.111936 204.756468 \nL 123.251112 199.395715 \nL 126.390289 202.49862 \nL 129.529465 206.955422 \nL 132.668641 204.46453 \nL 135.807818 208.067371 \nL 138.946994 208.52354 \nL 142.08617 208.879285 \nL 145.225347 209.636973 \nL 148.364523 211.201707 \nL 151.503699 212.187276 \nL 154.642876 212.111049 \nL 157.782052 213.114574 \nL 160.921228 213.168938 \nL 164.060405 213.792032 \nL 167.199581 214.1959 \nL 170.338757 214.832651 \nL 173.477934 214.981225 \nL 176.61711 215.314366 \nL 179.756286 215.891854 \nL 182.895463 215.931989 \nL 186.034639 216.265274 \nL 189.173815 216.591359 \nL 192.312991 216.670535 \nL 195.452168 216.912388 \nL 198.591344 217.058435 \nL 201.73052 217.250764 \nL 204.869697 217.356023 \nL 208.008873 217.475997 \nL 211.148049 217.627491 \nL 214.287226 217.749172 \nL 217.426402 217.829423 \nL 220.565578 217.908349 \nL 223.704755 217.967682 \nL 226.843931 218.040225 \nL 229.983107 218.099914 \nL 233.122284 218.159206 \nL 236.26146 218.210527 \nL 239.400636 218.257886 \nL 242.539813 218.3009 \nL 245.678989 218.34105 \nL 248.818165 218.374499 \nL 251.957342 218.405517 \nL 255.096518 218.433755 \nL 258.235694 218.460747 \nL 261.374871 218.481295 \nL 264.514047 218.501765 \nL 267.653223 218.521356 \nL 270.7924 218.537427 \nL 273.931576 218.552004 \nL 277.070752 218.565512 \nL 280.209929 218.577949 \nL 283.349105 218.588795 \nL 286.488281 218.598496 \nL 289.627458 218.607312 \nL 292.766634 218.61534 \nL 295.90581 218.622467 \nL 299.044986 218.62896 \nL 302.184163 218.634785 \nL 305.323339 218.64006 \nL 308.462515 218.644725 \nL 311.601692 218.649006 \nL 314.740868 218.652799 \nL 317.880044 218.656231 \nL 321.019221 218.65934 \nL 324.158397 218.662115 \nL 327.297573 218.66462 \nL 330.43675 218.666877 \nL 333.575926 218.668907 \nL 336.715102 218.670738 \nL 339.854279 218.672381 \nL 342.993455 218.673861 \nL 346.132631 218.675195 \nL 349.271808 218.676394 \nL 352.410984 218.677474 \nL 355.55016 218.678446 \nL 358.689337 218.67932 \nL 361.828513 218.680107 \nL 364.967689 218.680817 \nL 368.106866 218.681455 \nL 371.246042 218.682028 \nL 374.385218 218.682545 \nL 377.524395 218.683009 \nL 380.663571 218.683428 \nL 383.802747 218.683804 \nL 386.941924 218.684143 \nL 390.0811 218.684448 \nL 393.220276 218.684723 \nL 396.359453 218.68497 \nL 399.498629 218.685192 \n\" style=\"fill:none;stroke:#ff0000;stroke-linecap:square;stroke-width:2;\"/>\n   </g>\n   <g id=\"patch_3\">\n    <path d=\"M 73.18125 228.649172 \nL 73.18125 9.495687 \n\" style=\"fill:none;stroke:#000000;stroke-linecap:square;stroke-linejoin:miter;stroke-width:0.8;\"/>\n   </g>\n   <g id=\"patch_4\">\n    <path d=\"M 415.037552 228.649172 \nL 415.037552 9.495687 \n\" style=\"fill:none;stroke:#000000;stroke-linecap:square;stroke-linejoin:miter;stroke-width:0.8;\"/>\n   </g>\n   <g id=\"patch_5\">\n    <path d=\"M 73.18125 228.649172 \nL 415.037552 228.649172 \n\" style=\"fill:none;stroke:#000000;stroke-linecap:square;stroke-linejoin:miter;stroke-width:0.8;\"/>\n   </g>\n   <g id=\"patch_6\">\n    <path d=\"M 73.18125 9.495687 \nL 415.037552 9.495687 \n\" style=\"fill:none;stroke:#000000;stroke-linecap:square;stroke-linejoin:miter;stroke-width:0.8;\"/>\n   </g>\n   <g id=\"legend_1\">\n    <g id=\"patch_7\">\n     <path d=\"M 293.443802 84.208187 \nL 401.037552 84.208187 \nQ 405.037552 84.208187 405.037552 80.208187 \nL 405.037552 23.495687 \nQ 405.037552 19.495687 401.037552 19.495687 \nL 293.443802 19.495687 \nQ 289.443802 19.495687 289.443802 23.495687 \nL 289.443802 80.208187 \nQ 289.443802 84.208187 293.443802 84.208187 \nz\n\" style=\"fill:#ffffff;opacity:0.8;stroke:#cccccc;stroke-linejoin:miter;\"/>\n    </g>\n    <g id=\"line2d_14\">\n     <path d=\"M 297.443802 35.692562 \nL 337.443802 35.692562 \n\" style=\"fill:none;stroke:#0000ff;stroke-dasharray:14.8,6.4;stroke-dashoffset:0;stroke-width:4;\"/>\n    </g>\n    <g id=\"line2d_15\"/>\n    <g id=\"text_14\">\n     <!-- GD -->\n     <g transform=\"translate(353.443802 42.692562)scale(0.2 -0.2)\">\n      <defs>\n       <path d=\"M 59.515625 10.40625 \nL 59.515625 29.984375 \nL 43.40625 29.984375 \nL 43.40625 38.09375 \nL 69.28125 38.09375 \nL 69.28125 6.78125 \nQ 63.578125 2.734375 56.6875 0.65625 \nQ 49.8125 -1.421875 42 -1.421875 \nQ 24.90625 -1.421875 15.25 8.5625 \nQ 5.609375 18.5625 5.609375 36.375 \nQ 5.609375 54.25 15.25 64.234375 \nQ 24.90625 74.21875 42 74.21875 \nQ 49.125 74.21875 55.546875 72.453125 \nQ 61.96875 70.703125 67.390625 67.28125 \nL 67.390625 56.78125 \nQ 61.921875 61.421875 55.765625 63.765625 \nQ 49.609375 66.109375 42.828125 66.109375 \nQ 29.4375 66.109375 22.71875 58.640625 \nQ 16.015625 51.171875 16.015625 36.375 \nQ 16.015625 21.625 22.71875 14.15625 \nQ 29.4375 6.6875 42.828125 6.6875 \nQ 48.046875 6.6875 52.140625 7.59375 \nQ 56.25 8.5 59.515625 10.40625 \nz\n\" id=\"DejaVuSans-71\"/>\n       <path d=\"M 19.671875 64.796875 \nL 19.671875 8.109375 \nL 31.59375 8.109375 \nQ 46.6875 8.109375 53.6875 14.9375 \nQ 60.6875 21.78125 60.6875 36.53125 \nQ 60.6875 51.171875 53.6875 57.984375 \nQ 46.6875 64.796875 31.59375 64.796875 \nz\nM 9.8125 72.90625 \nL 30.078125 72.90625 \nQ 51.265625 72.90625 61.171875 64.09375 \nQ 71.09375 55.28125 71.09375 36.53125 \nQ 71.09375 17.671875 61.125 8.828125 \nQ 51.171875 0 30.078125 0 \nL 9.8125 0 \nz\n\" id=\"DejaVuSans-68\"/>\n      </defs>\n      <use xlink:href=\"#DejaVuSans-71\"/>\n      <use x=\"77.490234\" xlink:href=\"#DejaVuSans-68\"/>\n     </g>\n    </g>\n    <g id=\"line2d_16\">\n     <path d=\"M 297.443802 65.048812 \nL 337.443802 65.048812 \n\" style=\"fill:none;stroke:#ff0000;stroke-linecap:square;stroke-width:2;\"/>\n    </g>\n    <g id=\"line2d_17\"/>\n    <g id=\"text_15\">\n     <!-- SGD -->\n     <g transform=\"translate(353.443802 72.048812)scale(0.2 -0.2)\">\n      <defs>\n       <path d=\"M 53.515625 70.515625 \nL 53.515625 60.890625 \nQ 47.90625 63.578125 42.921875 64.890625 \nQ 37.9375 66.21875 33.296875 66.21875 \nQ 25.25 66.21875 20.875 63.09375 \nQ 16.5 59.96875 16.5 54.203125 \nQ 16.5 49.359375 19.40625 46.890625 \nQ 22.3125 44.4375 30.421875 42.921875 \nL 36.375 41.703125 \nQ 47.40625 39.59375 52.65625 34.296875 \nQ 57.90625 29 57.90625 20.125 \nQ 57.90625 9.515625 50.796875 4.046875 \nQ 43.703125 -1.421875 29.984375 -1.421875 \nQ 24.8125 -1.421875 18.96875 -0.25 \nQ 13.140625 0.921875 6.890625 3.21875 \nL 6.890625 13.375 \nQ 12.890625 10.015625 18.65625 8.296875 \nQ 24.421875 6.59375 29.984375 6.59375 \nQ 38.421875 6.59375 43.015625 9.90625 \nQ 47.609375 13.234375 47.609375 19.390625 \nQ 47.609375 24.75 44.3125 27.78125 \nQ 41.015625 30.8125 33.5 32.328125 \nL 27.484375 33.5 \nQ 16.453125 35.6875 11.515625 40.375 \nQ 6.59375 45.0625 6.59375 53.421875 \nQ 6.59375 63.09375 13.40625 68.65625 \nQ 20.21875 74.21875 32.171875 74.21875 \nQ 37.3125 74.21875 42.625 73.28125 \nQ 47.953125 72.359375 53.515625 70.515625 \nz\n\" id=\"DejaVuSans-83\"/>\n      </defs>\n      <use xlink:href=\"#DejaVuSans-83\"/>\n      <use x=\"63.476562\" xlink:href=\"#DejaVuSans-71\"/>\n      <use x=\"140.966797\" xlink:href=\"#DejaVuSans-68\"/>\n     </g>\n    </g>\n   </g>\n  </g>\n </g>\n <defs>\n  <clipPath id=\"p63b31dbb8f\">\n   <rect height=\"219.153484\" width=\"341.856302\" x=\"73.18125\" y=\"9.495687\"/>\n  </clipPath>\n </defs>\n</svg>\n",
      "image/png": "[encoded data removed]"
     },
     "metadata": {
      "needs_background": "light"
     }
    }
   ],
   "source": [
    "import matplotlib.pyplot as plt\n",
    "%matplotlib inline\n",
    "\n",
    "fig = plt.figure(figsize=(6, 4))\n",
    "\n",
    "epochs_gd = range(len(objvals_gd))\n",
    "epochs_sgd = range(len(objvals_sgd))\n",
    "\n",
    "line0, = plt.plot(epochs_gd, objvals_gd, '--b', LineWidth=4)\n",
    "line1, = plt.plot(epochs_sgd, objvals_sgd, '-r', LineWidth=2)\n",
    "plt.xlabel('Epochs', FontSize=20)\n",
    "plt.ylabel('Objective Value', FontSize=20)\n",
    "plt.xticks(FontSize=16)\n",
    "plt.yticks(FontSize=16)\n",
    "plt.legend([line0, line1], ['GD', 'SGD'], fontsize=20)\n",
    "plt.tight_layout()\n",
    "plt.show()\n",
    "fig.savefig('compare_gd_sgd.pdf', format='pdf', dpi=1200)"
   ]
  },
  {
   "cell_type": "markdown",
   "metadata": {},
   "source": [
    "# 5. Prediction"
   ]
  },
  {
   "cell_type": "code",
   "execution_count": 14,
   "metadata": {},
   "outputs": [],
   "source": [
    "# Predict class label\n",
    "# Inputs:\n",
    "#     w: d-by-1 matrix\n",
    "#     X: m-by-d matrix\n",
    "# Return:\n",
    "#     f: m-by-1 matrix, the predictions\n",
    "def predict(w, X):\n",
    "    xw = numpy.dot(X, w)\n",
    "    f = numpy.sign(xw)\n",
    "    return f"
   ]
  },
  {
   "cell_type": "code",
   "execution_count": 15,
   "metadata": {},
   "outputs": [
    {
     "output_type": "stream",
     "name": "stdout",
     "text": [
      "Training classification error is 0.2203125\n"
     ]
    }
   ],
   "source": [
    "# evaluate training error\n",
    "f_train = predict(w, x_train)\n",
    "diff = numpy.abs(f_train - y_train) / 2\n",
    "error_train = numpy.mean(diff)\n",
    "print('Training classification error is ' + str(error_train))"
   ]
  },
  {
   "cell_type": "code",
   "execution_count": 16,
   "metadata": {},
   "outputs": [
    {
     "output_type": "stream",
     "name": "stdout",
     "text": [
      "Test classification error is 0.2265625\n"
     ]
    }
   ],
   "source": [
    "# evaluate test error\n",
    "f_test = predict(w, x_test)\n",
    "diff = numpy.abs(f_test - y_test) / 2\n",
    "error_test = numpy.mean(diff)\n",
    "print('Test classification error is ' + str(error_test))"
   ]
  },
  {
   "cell_type": "markdown",
   "metadata": {},
   "source": [
    "# 6. Mini-batch SGD (fill the code)\n",
    "\n"
   ]
  },
  {
   "cell_type": "markdown",
   "metadata": {},
   "source": [
    "## 6.1. Compute the objective $Q_I$ and its gradient using a batch of samples\n",
    "\n",
    "Define $Q_I (w) = \\frac{1}{b} \\sum_{i \\in I} \\log \\Big( 1 + \\exp \\big( - y_i x_i^T w \\big) \\Big) + \\frac{\\lambda}{2} \\| w \\|_2^2 $, where $I$ is a set containing $b$ indices randomly drawn from $\\{ 1, \\cdots , n \\}$ without replacement.\n",
    "\n",
    "The stochastic gradient at $w$ is $g_I = \\frac{\\partial Q_I }{ \\partial w} = \\frac{1}{b} \\sum_{i \\in I} \\frac{- y_i x_i }{1 + \\exp ( y_i x_i^T w)} + \\lambda w$."
   ]
  },
  {
   "cell_type": "code",
   "execution_count": 17,
   "metadata": {},
   "outputs": [],
   "source": [
    "# Calculate the objective Q_I and the gradient of Q_I\n",
    "# Inputs:\n",
    "#     w: d-by-1 matrix\n",
    "#     xi: b-by-d matrix\n",
    "#     yi: b-by-1 matrix\n",
    "#     lam: scalar, the regularization parameter\n",
    "#     b: integer, the batch size\n",
    "# Return:\n",
    "#     obj: scalar, the objective Q_i\n",
    "#     g: d-by-1 matrix, gradient of Q_i\n",
    "def mb_stochastic_objective_gradient(w, xi, yi, lam, b):\n",
    "    # Fill the function\n",
    "    # Follow the implementation of stochastic_objective_gradient\n",
    "    # Use matrix-vector multiplication; do not use FOR LOOP of vector-vector multiplications\n",
    "\n",
    "    d = xi.shape[0]\n",
    "    yx = numpy.multiply(yi, xi) # b-by-d matrix  (originally 1-by-d)\n",
    "    yxw = numpy.dot(yx, w) # b-by-1 vector (originally scalar)\n",
    "\n",
    "    # calculate objective function Q_i\n",
    "    loss = numpy.log(1 + numpy.exp(-yxw)) # b-by-1 vector\n",
    "    loss_sum = numpy.sum(loss) # scalar\n",
    "    reg = lam / 2 * numpy.sum(w * w) # scalar \n",
    "    obj = loss_sum + reg\n",
    "    \n",
    "    # calculate stochastic gradient\n",
    "    # (b,d) / (b,1)\n",
    "    g_loss = (1 / b) * (-yx / (1 + numpy.exp(yxw))) # b-by-d matrix (originally d-by-1 matrix)\n",
    "    g_loss_sum = numpy.sum(g_loss, axis=0) #1xd\n",
    "    g = g_loss_sum.T + (lam * w)\n",
    "\n",
    "    # g = numpy.sum((g_loss_sum, (lam * w).T), axis=0).T # (should be a d-by-1 matrix)\n",
    "\n",
    "    \n",
    "    return obj, g"
   ]
  },
  {
   "cell_type": "markdown",
   "metadata": {},
   "source": [
    "## 6.2. Implement mini-batch SGD\n",
    "\n",
    "Hints:\n",
    "1. In every epoch, randomly permute the $n$ samples (just like SGD).\n",
    "2. Each epoch has $\\frac{n}{b}$ iterations. In every iteration, use $b$ samples, and compute the gradient and objective using the ``mb_stochastic_objective_gradient`` function. In the next iteration, use the next $b$ samples, and so on.\n"
   ]
  },
  {
   "cell_type": "code",
   "execution_count": 18,
   "metadata": {},
   "outputs": [],
   "source": [
    "# Mini-Batch SGD for solving logistic regression\n",
    "# Inputs:\n",
    "#     x: n-by-d matrix\n",
    "#     y: n-by-1 matrix\n",
    "#     lam: scalar, the regularization parameter\n",
    "#     b: integer, the batch size\n",
    "#     stepsize: scalar\n",
    "#     max_epoch: integer, the maximal epochs\n",
    "#     w: d-by-1 matrix, initialization of w\n",
    "# Return:\n",
    "#     w: the solution\n",
    "#     objvals: record of each iteration's objective value\n",
    "def mb_sgd(x, y, lam, b, stepsize, max_epoch=100, w=None):\n",
    "    # Fill the function\n",
    "    # Follow the implementation of sgd\n",
    "    # Record one objective value per epoch (not per iteration!)\n",
    "    n, d = x.shape\n",
    "    objvals = numpy.zeros(max_epoch) # store the objective values\n",
    "    if w is None:\n",
    "        w = numpy.zeros((d, 1)) # zero initialization\n",
    "\n",
    "    for t in range(max_epoch):\n",
    "        # randomly shuffle the samples\n",
    "        rand_indices = numpy.random.permutation(n)\n",
    "        x_rand = x[rand_indices, :]\n",
    "        y_rand = y[rand_indices, :]\n",
    "\n",
    "        num_batches = int(n / b)\n",
    "        x_batch_split = numpy.split(x_rand, num_batches)\n",
    "        y_batch_split = numpy.split(y_rand, num_batches)\n",
    "        \n",
    "        objval = 0 # accumulate the objective values\n",
    "        for i in range(num_batches):\n",
    "            xi = x_batch_split[i]\n",
    "            yi = y_batch_split[i]\n",
    "            obj, g = mb_stochastic_objective_gradient(w, xi, yi, lam, b)\n",
    "            objval += obj\n",
    "            w -= stepsize * g\n",
    "        \n",
    "        stepsize *= 0.9 # decrease step size\n",
    "        objval /= n\n",
    "        objvals[t] = objval\n",
    "        print('Objective value at epoch t=' + str(t) + ' is ' + str(objval))\n",
    "      \n",
    "    return w, objvals"
   ]
  },
  {
   "cell_type": "markdown",
   "metadata": {},
   "source": [
    "## 6.3. Run MB-SGD"
   ]
  },
  {
   "cell_type": "code",
   "execution_count": 26,
   "metadata": {},
   "outputs": [
    {
     "output_type": "stream",
     "name": "stdout",
     "text": [
      "Objective value at epoch t=0 is 0.5436782351891367\n",
      "Objective value at epoch t=1 is 0.48679330602328374\n",
      "Objective value at epoch t=2 is 0.48189824490217453\n",
      "Objective value at epoch t=3 is 0.4783419074365109\n",
      "Objective value at epoch t=4 is 0.47723748060314036\n",
      "Objective value at epoch t=5 is 0.4775176280966081\n",
      "Objective value at epoch t=6 is 0.4765645044645795\n",
      "Objective value at epoch t=7 is 0.4768966256099567\n",
      "Objective value at epoch t=8 is 0.4758592099142264\n",
      "Objective value at epoch t=9 is 0.4748478338612136\n",
      "Objective value at epoch t=10 is 0.475170338098286\n",
      "Objective value at epoch t=11 is 0.474796398323881\n",
      "Objective value at epoch t=12 is 0.4743922681247046\n",
      "Objective value at epoch t=13 is 0.4743821122786588\n",
      "Objective value at epoch t=14 is 0.4743037912855453\n",
      "Objective value at epoch t=15 is 0.47380032202924954\n",
      "Objective value at epoch t=16 is 0.47374654896222107\n",
      "Objective value at epoch t=17 is 0.47353635110387443\n",
      "Objective value at epoch t=18 is 0.4736276947643613\n",
      "Objective value at epoch t=19 is 0.47338808808526156\n",
      "Objective value at epoch t=20 is 0.47339237819408897\n",
      "Objective value at epoch t=21 is 0.47310256304065385\n",
      "Objective value at epoch t=22 is 0.47306764853133254\n",
      "Objective value at epoch t=23 is 0.4729794305455795\n",
      "Objective value at epoch t=24 is 0.4728559407312335\n",
      "Objective value at epoch t=25 is 0.47278964821162683\n",
      "Objective value at epoch t=26 is 0.47275121896236144\n",
      "Objective value at epoch t=27 is 0.4727009154017682\n",
      "Objective value at epoch t=28 is 0.472631435659848\n",
      "Objective value at epoch t=29 is 0.472621832631824\n",
      "Objective value at epoch t=30 is 0.4725255085947365\n",
      "Objective value at epoch t=31 is 0.47251651196561717\n",
      "Objective value at epoch t=32 is 0.47249572796839595\n",
      "Objective value at epoch t=33 is 0.4724826721876547\n",
      "Objective value at epoch t=34 is 0.4724088842767304\n",
      "Objective value at epoch t=35 is 0.4724184307220187\n",
      "Objective value at epoch t=36 is 0.4723776147809037\n",
      "Objective value at epoch t=37 is 0.47236808868223246\n",
      "Objective value at epoch t=38 is 0.47233708530742213\n",
      "Objective value at epoch t=39 is 0.47232190710274014\n",
      "Objective value at epoch t=40 is 0.4723014031673299\n",
      "Objective value at epoch t=41 is 0.4722907953974905\n",
      "Objective value at epoch t=42 is 0.4722882144658473\n",
      "Objective value at epoch t=43 is 0.4722771010594024\n",
      "Objective value at epoch t=44 is 0.47225808253462825\n",
      "Objective value at epoch t=45 is 0.4722525926714474\n",
      "Objective value at epoch t=46 is 0.47224538289925067\n",
      "Objective value at epoch t=47 is 0.4722347025439869\n",
      "Objective value at epoch t=48 is 0.4722289382291064\n",
      "Objective value at epoch t=49 is 0.4722225431680279\n",
      "Objective value at epoch t=50 is 0.47221698493200537\n",
      "Objective value at epoch t=51 is 0.4722137059119218\n",
      "Objective value at epoch t=52 is 0.4722119434365696\n",
      "Objective value at epoch t=53 is 0.47220655158995395\n",
      "Objective value at epoch t=54 is 0.47220289656954567\n",
      "Objective value at epoch t=55 is 0.47220156623215803\n",
      "Objective value at epoch t=56 is 0.4721943651781572\n",
      "Objective value at epoch t=57 is 0.4721951773966316\n",
      "Objective value at epoch t=58 is 0.4721932702315592\n",
      "Objective value at epoch t=59 is 0.4721878134796717\n",
      "Objective value at epoch t=60 is 0.4721861108128764\n",
      "Objective value at epoch t=61 is 0.47218536075834516\n",
      "Objective value at epoch t=62 is 0.472183381733667\n",
      "Objective value at epoch t=63 is 0.47218279807075725\n",
      "Objective value at epoch t=64 is 0.4721811578689665\n",
      "Objective value at epoch t=65 is 0.4721809535527596\n",
      "Objective value at epoch t=66 is 0.47217907711380935\n",
      "Objective value at epoch t=67 is 0.47217815903540983\n",
      "Objective value at epoch t=68 is 0.47217674787798336\n",
      "Objective value at epoch t=69 is 0.4721772012125346\n",
      "Objective value at epoch t=70 is 0.47217584598041595\n",
      "Objective value at epoch t=71 is 0.4721756112775286\n",
      "Objective value at epoch t=72 is 0.472175483500452\n",
      "Objective value at epoch t=73 is 0.4721747059852045\n",
      "Objective value at epoch t=74 is 0.4721742792470877\n",
      "Objective value at epoch t=75 is 0.4721737331113829\n",
      "Objective value at epoch t=76 is 0.47217366805060984\n",
      "Objective value at epoch t=77 is 0.4721732524460046\n",
      "Objective value at epoch t=78 is 0.47217278306347515\n",
      "Objective value at epoch t=79 is 0.4721727863461703\n",
      "Objective value at epoch t=80 is 0.4721724645335872\n",
      "Objective value at epoch t=81 is 0.4721721390459959\n",
      "Objective value at epoch t=82 is 0.47217204541907537\n",
      "Objective value at epoch t=83 is 0.4721718201401087\n",
      "Objective value at epoch t=84 is 0.4721716401854579\n",
      "Objective value at epoch t=85 is 0.4721715649366862\n",
      "Objective value at epoch t=86 is 0.4721713972150627\n",
      "Objective value at epoch t=87 is 0.4721713596556848\n",
      "Objective value at epoch t=88 is 0.4721712865995631\n",
      "Objective value at epoch t=89 is 0.4721711801320895\n",
      "Objective value at epoch t=90 is 0.47217110421045605\n",
      "Objective value at epoch t=91 is 0.47217104382961955\n",
      "Objective value at epoch t=92 is 0.4721709851533308\n",
      "Objective value at epoch t=93 is 0.4721708568179609\n",
      "Objective value at epoch t=94 is 0.47217077757591197\n",
      "Objective value at epoch t=95 is 0.4721708148391703\n",
      "Objective value at epoch t=96 is 0.4721707398146194\n",
      "Objective value at epoch t=97 is 0.47217072595989623\n",
      "Objective value at epoch t=98 is 0.4721706549365005\n",
      "Objective value at epoch t=99 is 0.4721706532641924\n"
     ]
    }
   ],
   "source": [
    "# MB-SGD with batch size b=8\n",
    "lam = 1E-6 # do not change\n",
    "b = 8 # do not change\n",
    "stepsize = 0.1 # you must tune this parameter\n",
    "\n",
    "w, objvals_mbsgd8 = mb_sgd(x_train, y_train, lam, b, stepsize)"
   ]
  },
  {
   "cell_type": "code",
   "execution_count": 32,
   "metadata": {},
   "outputs": [
    {
     "output_type": "stream",
     "name": "stdout",
     "text": [
      "Objective value at epoch t=0 is 0.5399807600752349\nObjective value at epoch t=1 is 0.48579495382427884\nObjective value at epoch t=2 is 0.4810908872877623\nObjective value at epoch t=3 is 0.4803116003837573\nObjective value at epoch t=4 is 0.4788541113927784\nObjective value at epoch t=5 is 0.47766649969902975\nObjective value at epoch t=6 is 0.477590571545586\nObjective value at epoch t=7 is 0.47783630513489966\nObjective value at epoch t=8 is 0.47638370378755523\nObjective value at epoch t=9 is 0.47627129950564306\nObjective value at epoch t=10 is 0.4756226635511444\nObjective value at epoch t=11 is 0.47519306498345093\nObjective value at epoch t=12 is 0.4743966675543361\nObjective value at epoch t=13 is 0.4747755330471307\nObjective value at epoch t=14 is 0.47407732527530244\nObjective value at epoch t=15 is 0.47385554495723126\nObjective value at epoch t=16 is 0.47417668307504235\nObjective value at epoch t=17 is 0.4739369975441822\nObjective value at epoch t=18 is 0.47335170122765113\nObjective value at epoch t=19 is 0.4735603735428108\nObjective value at epoch t=20 is 0.47364437243409496\nObjective value at epoch t=21 is 0.47311210638035944\nObjective value at epoch t=22 is 0.473332548106964\nObjective value at epoch t=23 is 0.4730067774975016\nObjective value at epoch t=24 is 0.4729902513076364\nObjective value at epoch t=25 is 0.4729089066022533\nObjective value at epoch t=26 is 0.47278853348412636\nObjective value at epoch t=27 is 0.4726470161761111\nObjective value at epoch t=28 is 0.4728386754711331\nObjective value at epoch t=29 is 0.47267392324394814\nObjective value at epoch t=30 is 0.47255824305382754\nObjective value at epoch t=31 is 0.47259545217609045\nObjective value at epoch t=32 is 0.47240896903475543\nObjective value at epoch t=33 is 0.47241857763419787\nObjective value at epoch t=34 is 0.4724201329976253\nObjective value at epoch t=35 is 0.47250056647834277\nObjective value at epoch t=36 is 0.4724170748574263\nObjective value at epoch t=37 is 0.4724090217702185\nObjective value at epoch t=38 is 0.4723265529647346\nObjective value at epoch t=39 is 0.4722976632011687\nObjective value at epoch t=40 is 0.4723064690634785\nObjective value at epoch t=41 is 0.4722804090955147\nObjective value at epoch t=42 is 0.4722864199803877\nObjective value at epoch t=43 is 0.47230010412278656\nObjective value at epoch t=44 is 0.47229596780699606\nObjective value at epoch t=45 is 0.472259630161662\nObjective value at epoch t=46 is 0.47225955113313534\nObjective value at epoch t=47 is 0.4722461505710934\nObjective value at epoch t=48 is 0.472230194679543\nObjective value at epoch t=49 is 0.47223163691471043\nObjective value at epoch t=50 is 0.4722204721400214\nObjective value at epoch t=51 is 0.4722200304002806\nObjective value at epoch t=52 is 0.4722103403637751\nObjective value at epoch t=53 is 0.4722093038505287\nObjective value at epoch t=54 is 0.47220418496421585\nObjective value at epoch t=55 is 0.47219862742407803\nObjective value at epoch t=56 is 0.47219270701749433\nObjective value at epoch t=57 is 0.47220348316537003\nObjective value at epoch t=58 is 0.4722011656474662\nObjective value at epoch t=59 is 0.4721886906514907\nObjective value at epoch t=60 is 0.472182442820654\nObjective value at epoch t=61 is 0.47218924172127447\nObjective value at epoch t=62 is 0.4721881184026189\nObjective value at epoch t=63 is 0.47218277036215917\nObjective value at epoch t=64 is 0.4721810833046104\nObjective value at epoch t=65 is 0.47218273581019143\nObjective value at epoch t=66 is 0.47217990313215286\nObjective value at epoch t=67 is 0.4721790716050009\nObjective value at epoch t=68 is 0.47217853674896426\nObjective value at epoch t=69 is 0.4721753187498071\nObjective value at epoch t=70 is 0.47217657320990136\nObjective value at epoch t=71 is 0.47217530822576015\nObjective value at epoch t=72 is 0.4721773639164958\nObjective value at epoch t=73 is 0.4721745041393267\nObjective value at epoch t=74 is 0.472175246359874\nObjective value at epoch t=75 is 0.4721735652562149\nObjective value at epoch t=76 is 0.4721744456664189\nObjective value at epoch t=77 is 0.47217255591056395\nObjective value at epoch t=78 is 0.4721736484862632\nObjective value at epoch t=79 is 0.4721727938889507\nObjective value at epoch t=80 is 0.47217221852440056\nObjective value at epoch t=81 is 0.47217266649528955\nObjective value at epoch t=82 is 0.47217165494657864\nObjective value at epoch t=83 is 0.47217190686936955\nObjective value at epoch t=84 is 0.47217215751972413\nObjective value at epoch t=85 is 0.4721712655505782\nObjective value at epoch t=86 is 0.4721714572521353\nObjective value at epoch t=87 is 0.4721710791272284\nObjective value at epoch t=88 is 0.47217115226970147\nObjective value at epoch t=89 is 0.47217094091101347\nObjective value at epoch t=90 is 0.4721710048750575\nObjective value at epoch t=91 is 0.4721707572638295\nObjective value at epoch t=92 is 0.47217071712819336\nObjective value at epoch t=93 is 0.47217075068564374\nObjective value at epoch t=94 is 0.4721707028049903\nObjective value at epoch t=95 is 0.47217047847190985\nObjective value at epoch t=96 is 0.4721704245948855\nObjective value at epoch t=97 is 0.47217052822583544\nObjective value at epoch t=98 is 0.4721705001142185\nObjective value at epoch t=99 is 0.4721705360589431\n"
     ]
    }
   ],
   "source": [
    "# MB-SGD with batch size b=64\n",
    "lam = 1E-6 # do not change\n",
    "b = 64 # do not change\n",
    "stepsize = 1 # you must tune this parameter\n",
    "\n",
    "w, objvals_mbsgd64 = mb_sgd(x_train, y_train, lam, b, stepsize)"
   ]
  },
  {
   "cell_type": "markdown",
   "metadata": {},
   "source": [
    "# 7. Plot and compare GD, SGD, and MB-SGD"
   ]
  },
  {
   "cell_type": "markdown",
   "metadata": {},
   "source": [
    "You are required to compare the following algorithms:\n",
    "\n",
    "- Gradient descent (GD)\n",
    "\n",
    "- SGD\n",
    "\n",
    "- MB-SGD with b=8\n",
    "\n",
    "- MB-SGD with b=64\n",
    "\n",
    "Follow the code in Section 4 to plot ```objective function value``` against ```epochs```. There should be four curves in the plot; each curve corresponds to one algorithm."
   ]
  },
  {
   "cell_type": "markdown",
   "metadata": {},
   "source": [
    "Hint: Logistic regression with $\\ell_2$-norm regularization is a strongly convex optimization problem. All the algorithms will converge to the same solution. **In the end, the ``objective function value`` of the 4 algorithms will be the same. If not the same, your implementation must be wrong. Do NOT submit wrong code and wrong result!**"
   ]
  },
  {
   "cell_type": "code",
   "execution_count": 33,
   "metadata": {},
   "outputs": [
    {
     "output_type": "display_data",
     "data": {
      "text/plain": "<Figure size 432x288 with 1 Axes>",
      "image/svg+xml": "<?xml version=\"1.0\" encoding=\"utf-8\" standalone=\"no\"?>\n<!DOCTYPE svg PUBLIC \"-//W3C//DTD SVG 1.1//EN\"\n  \"http://www.w3.org/Graphics/SVG/1.1/DTD/svg11.dtd\">\n<!-- Created with matplotlib (https://matplotlib.org/) -->\n<svg height=\"281.690421pt\" version=\"1.1\" viewBox=\"0 0 425.107805 281.690421\" width=\"425.107805pt\" xmlns=\"http://www.w3.org/2000/svg\" xmlns:xlink=\"http://www.w3.org/1999/xlink\">\n <metadata>\n  <rdf:RDF xmlns:cc=\"http://creativecommons.org/ns#\" xmlns:dc=\"http://purl.org/dc/elements/1.1/\" xmlns:rdf=\"http://www.w3.org/1999/02/22-rdf-syntax-ns#\">\n   <cc:Work>\n    <dc:type rdf:resource=\"http://purl.org/dc/dcmitype/StillImage\"/>\n    <dc:date>2021-03-07T18:56:23.453851</dc:date>\n    <dc:format>image/svg+xml</dc:format>\n    <dc:creator>\n     <cc:Agent>\n      <dc:title>Matplotlib v3.3.2, https://matplotlib.org/</dc:title>\n     </cc:Agent>\n    </dc:creator>\n   </cc:Work>\n  </rdf:RDF>\n </metadata>\n <defs>\n  <style type=\"text/css\">*{stroke-linecap:butt;stroke-linejoin:round;}</style>\n </defs>\n <g id=\"figure_1\">\n  <g id=\"patch_1\">\n   <path d=\"M 0 281.690421 \nL 425.107805 281.690421 \nL 425.107805 0 \nL 0 0 \nz\n\" style=\"fill:none;\"/>\n  </g>\n  <g id=\"axes_1\">\n   <g id=\"patch_2\">\n    <path d=\"M 73.18125 228.649171 \nL 415.037552 228.649171 \nL 415.037552 9.495661 \nL 73.18125 9.495661 \nz\n\" style=\"fill:#ffffff;\"/>\n   </g>\n   <g id=\"matplotlib.axis_1\">\n    <g id=\"xtick_1\">\n     <g id=\"line2d_1\">\n      <defs>\n       <path d=\"M 0 0 \nL 0 3.5 \n\" id=\"m23ad906550\" style=\"stroke:#000000;stroke-width:0.8;\"/>\n      </defs>\n      <g>\n       <use style=\"stroke:#000000;stroke-width:0.8;\" x=\"88.720173\" xlink:href=\"#m23ad906550\" y=\"228.649171\"/>\n      </g>\n     </g>\n     <g id=\"text_1\">\n      <!-- 0 -->\n      <g transform=\"translate(83.630173 247.806671)scale(0.16 -0.16)\">\n       <defs>\n        <path d=\"M 31.78125 66.40625 \nQ 24.171875 66.40625 20.328125 58.90625 \nQ 16.5 51.421875 16.5 36.375 \nQ 16.5 21.390625 20.328125 13.890625 \nQ 24.171875 6.390625 31.78125 6.390625 \nQ 39.453125 6.390625 43.28125 13.890625 \nQ 47.125 21.390625 47.125 36.375 \nQ 47.125 51.421875 43.28125 58.90625 \nQ 39.453125 66.40625 31.78125 66.40625 \nz\nM 31.78125 74.21875 \nQ 44.046875 74.21875 50.515625 64.515625 \nQ 56.984375 54.828125 56.984375 36.375 \nQ 56.984375 17.96875 50.515625 8.265625 \nQ 44.046875 -1.421875 31.78125 -1.421875 \nQ 19.53125 -1.421875 13.0625 8.265625 \nQ 6.59375 17.96875 6.59375 36.375 \nQ 6.59375 54.828125 13.0625 64.515625 \nQ 19.53125 74.21875 31.78125 74.21875 \nz\n\" id=\"DejaVuSans-48\"/>\n       </defs>\n       <use xlink:href=\"#DejaVuSans-48\"/>\n      </g>\n     </g>\n    </g>\n    <g id=\"xtick_2\">\n     <g id=\"line2d_2\">\n      <g>\n       <use style=\"stroke:#000000;stroke-width:0.8;\" x=\"151.503699\" xlink:href=\"#m23ad906550\" y=\"228.649171\"/>\n      </g>\n     </g>\n     <g id=\"text_2\">\n      <!-- 20 -->\n      <g transform=\"translate(141.323699 247.806671)scale(0.16 -0.16)\">\n       <defs>\n        <path d=\"M 19.1875 8.296875 \nL 53.609375 8.296875 \nL 53.609375 0 \nL 7.328125 0 \nL 7.328125 8.296875 \nQ 12.9375 14.109375 22.625 23.890625 \nQ 32.328125 33.6875 34.8125 36.53125 \nQ 39.546875 41.84375 41.421875 45.53125 \nQ 43.3125 49.21875 43.3125 52.78125 \nQ 43.3125 58.59375 39.234375 62.25 \nQ 35.15625 65.921875 28.609375 65.921875 \nQ 23.96875 65.921875 18.8125 64.3125 \nQ 13.671875 62.703125 7.8125 59.421875 \nL 7.8125 69.390625 \nQ 13.765625 71.78125 18.9375 73 \nQ 24.125 74.21875 28.421875 74.21875 \nQ 39.75 74.21875 46.484375 68.546875 \nQ 53.21875 62.890625 53.21875 53.421875 \nQ 53.21875 48.921875 51.53125 44.890625 \nQ 49.859375 40.875 45.40625 35.40625 \nQ 44.1875 33.984375 37.640625 27.21875 \nQ 31.109375 20.453125 19.1875 8.296875 \nz\n\" id=\"DejaVuSans-50\"/>\n       </defs>\n       <use xlink:href=\"#DejaVuSans-50\"/>\n       <use x=\"63.623047\" xlink:href=\"#DejaVuSans-48\"/>\n      </g>\n     </g>\n    </g>\n    <g id=\"xtick_3\">\n     <g id=\"line2d_3\">\n      <g>\n       <use style=\"stroke:#000000;stroke-width:0.8;\" x=\"214.287226\" xlink:href=\"#m23ad906550\" y=\"228.649171\"/>\n      </g>\n     </g>\n     <g id=\"text_3\">\n      <!-- 40 -->\n      <g transform=\"translate(204.107226 247.806671)scale(0.16 -0.16)\">\n       <defs>\n        <path d=\"M 37.796875 64.3125 \nL 12.890625 25.390625 \nL 37.796875 25.390625 \nz\nM 35.203125 72.90625 \nL 47.609375 72.90625 \nL 47.609375 25.390625 \nL 58.015625 25.390625 \nL 58.015625 17.1875 \nL 47.609375 17.1875 \nL 47.609375 0 \nL 37.796875 0 \nL 37.796875 17.1875 \nL 4.890625 17.1875 \nL 4.890625 26.703125 \nz\n\" id=\"DejaVuSans-52\"/>\n       </defs>\n       <use xlink:href=\"#DejaVuSans-52\"/>\n       <use x=\"63.623047\" xlink:href=\"#DejaVuSans-48\"/>\n      </g>\n     </g>\n    </g>\n    <g id=\"xtick_4\">\n     <g id=\"line2d_4\">\n      <g>\n       <use style=\"stroke:#000000;stroke-width:0.8;\" x=\"277.070752\" xlink:href=\"#m23ad906550\" y=\"228.649171\"/>\n      </g>\n     </g>\n     <g id=\"text_4\">\n      <!-- 60 -->\n      <g transform=\"translate(266.890752 247.806671)scale(0.16 -0.16)\">\n       <defs>\n        <path d=\"M 33.015625 40.375 \nQ 26.375 40.375 22.484375 35.828125 \nQ 18.609375 31.296875 18.609375 23.390625 \nQ 18.609375 15.53125 22.484375 10.953125 \nQ 26.375 6.390625 33.015625 6.390625 \nQ 39.65625 6.390625 43.53125 10.953125 \nQ 47.40625 15.53125 47.40625 23.390625 \nQ 47.40625 31.296875 43.53125 35.828125 \nQ 39.65625 40.375 33.015625 40.375 \nz\nM 52.59375 71.296875 \nL 52.59375 62.3125 \nQ 48.875 64.0625 45.09375 64.984375 \nQ 41.3125 65.921875 37.59375 65.921875 \nQ 27.828125 65.921875 22.671875 59.328125 \nQ 17.53125 52.734375 16.796875 39.40625 \nQ 19.671875 43.65625 24.015625 45.921875 \nQ 28.375 48.1875 33.59375 48.1875 \nQ 44.578125 48.1875 50.953125 41.515625 \nQ 57.328125 34.859375 57.328125 23.390625 \nQ 57.328125 12.15625 50.6875 5.359375 \nQ 44.046875 -1.421875 33.015625 -1.421875 \nQ 20.359375 -1.421875 13.671875 8.265625 \nQ 6.984375 17.96875 6.984375 36.375 \nQ 6.984375 53.65625 15.1875 63.9375 \nQ 23.390625 74.21875 37.203125 74.21875 \nQ 40.921875 74.21875 44.703125 73.484375 \nQ 48.484375 72.75 52.59375 71.296875 \nz\n\" id=\"DejaVuSans-54\"/>\n       </defs>\n       <use xlink:href=\"#DejaVuSans-54\"/>\n       <use x=\"63.623047\" xlink:href=\"#DejaVuSans-48\"/>\n      </g>\n     </g>\n    </g>\n    <g id=\"xtick_5\">\n     <g id=\"line2d_5\">\n      <g>\n       <use style=\"stroke:#000000;stroke-width:0.8;\" x=\"339.854279\" xlink:href=\"#m23ad906550\" y=\"228.649171\"/>\n      </g>\n     </g>\n     <g id=\"text_5\">\n      <!-- 80 -->\n      <g transform=\"translate(329.674279 247.806671)scale(0.16 -0.16)\">\n       <defs>\n        <path d=\"M 31.78125 34.625 \nQ 24.75 34.625 20.71875 30.859375 \nQ 16.703125 27.09375 16.703125 20.515625 \nQ 16.703125 13.921875 20.71875 10.15625 \nQ 24.75 6.390625 31.78125 6.390625 \nQ 38.8125 6.390625 42.859375 10.171875 \nQ 46.921875 13.96875 46.921875 20.515625 \nQ 46.921875 27.09375 42.890625 30.859375 \nQ 38.875 34.625 31.78125 34.625 \nz\nM 21.921875 38.8125 \nQ 15.578125 40.375 12.03125 44.71875 \nQ 8.5 49.078125 8.5 55.328125 \nQ 8.5 64.0625 14.71875 69.140625 \nQ 20.953125 74.21875 31.78125 74.21875 \nQ 42.671875 74.21875 48.875 69.140625 \nQ 55.078125 64.0625 55.078125 55.328125 \nQ 55.078125 49.078125 51.53125 44.71875 \nQ 48 40.375 41.703125 38.8125 \nQ 48.828125 37.15625 52.796875 32.3125 \nQ 56.78125 27.484375 56.78125 20.515625 \nQ 56.78125 9.90625 50.3125 4.234375 \nQ 43.84375 -1.421875 31.78125 -1.421875 \nQ 19.734375 -1.421875 13.25 4.234375 \nQ 6.78125 9.90625 6.78125 20.515625 \nQ 6.78125 27.484375 10.78125 32.3125 \nQ 14.796875 37.15625 21.921875 38.8125 \nz\nM 18.3125 54.390625 \nQ 18.3125 48.734375 21.84375 45.5625 \nQ 25.390625 42.390625 31.78125 42.390625 \nQ 38.140625 42.390625 41.71875 45.5625 \nQ 45.3125 48.734375 45.3125 54.390625 \nQ 45.3125 60.0625 41.71875 63.234375 \nQ 38.140625 66.40625 31.78125 66.40625 \nQ 25.390625 66.40625 21.84375 63.234375 \nQ 18.3125 60.0625 18.3125 54.390625 \nz\n\" id=\"DejaVuSans-56\"/>\n       </defs>\n       <use xlink:href=\"#DejaVuSans-56\"/>\n       <use x=\"63.623047\" xlink:href=\"#DejaVuSans-48\"/>\n      </g>\n     </g>\n    </g>\n    <g id=\"xtick_6\">\n     <g id=\"line2d_6\">\n      <g>\n       <use style=\"stroke:#000000;stroke-width:0.8;\" x=\"402.637805\" xlink:href=\"#m23ad906550\" y=\"228.649171\"/>\n      </g>\n     </g>\n     <g id=\"text_6\">\n      <!-- 100 -->\n      <g transform=\"translate(387.367805 247.806671)scale(0.16 -0.16)\">\n       <defs>\n        <path d=\"M 12.40625 8.296875 \nL 28.515625 8.296875 \nL 28.515625 63.921875 \nL 10.984375 60.40625 \nL 10.984375 69.390625 \nL 28.421875 72.90625 \nL 38.28125 72.90625 \nL 38.28125 8.296875 \nL 54.390625 8.296875 \nL 54.390625 0 \nL 12.40625 0 \nz\n\" id=\"DejaVuSans-49\"/>\n       </defs>\n       <use xlink:href=\"#DejaVuSans-49\"/>\n       <use x=\"63.623047\" xlink:href=\"#DejaVuSans-48\"/>\n       <use x=\"127.246094\" xlink:href=\"#DejaVuSans-48\"/>\n      </g>\n     </g>\n    </g>\n    <g id=\"text_7\">\n     <!-- Epochs -->\n     <g transform=\"translate(208.278151 270.331046)scale(0.2 -0.2)\">\n      <defs>\n       <path d=\"M 9.8125 72.90625 \nL 55.90625 72.90625 \nL 55.90625 64.59375 \nL 19.671875 64.59375 \nL 19.671875 43.015625 \nL 54.390625 43.015625 \nL 54.390625 34.71875 \nL 19.671875 34.71875 \nL 19.671875 8.296875 \nL 56.78125 8.296875 \nL 56.78125 0 \nL 9.8125 0 \nz\n\" id=\"DejaVuSans-69\"/>\n       <path d=\"M 18.109375 8.203125 \nL 18.109375 -20.796875 \nL 9.078125 -20.796875 \nL 9.078125 54.6875 \nL 18.109375 54.6875 \nL 18.109375 46.390625 \nQ 20.953125 51.265625 25.265625 53.625 \nQ 29.59375 56 35.59375 56 \nQ 45.5625 56 51.78125 48.09375 \nQ 58.015625 40.1875 58.015625 27.296875 \nQ 58.015625 14.40625 51.78125 6.484375 \nQ 45.5625 -1.421875 35.59375 -1.421875 \nQ 29.59375 -1.421875 25.265625 0.953125 \nQ 20.953125 3.328125 18.109375 8.203125 \nz\nM 48.6875 27.296875 \nQ 48.6875 37.203125 44.609375 42.84375 \nQ 40.53125 48.484375 33.40625 48.484375 \nQ 26.265625 48.484375 22.1875 42.84375 \nQ 18.109375 37.203125 18.109375 27.296875 \nQ 18.109375 17.390625 22.1875 11.75 \nQ 26.265625 6.109375 33.40625 6.109375 \nQ 40.53125 6.109375 44.609375 11.75 \nQ 48.6875 17.390625 48.6875 27.296875 \nz\n\" id=\"DejaVuSans-112\"/>\n       <path d=\"M 30.609375 48.390625 \nQ 23.390625 48.390625 19.1875 42.75 \nQ 14.984375 37.109375 14.984375 27.296875 \nQ 14.984375 17.484375 19.15625 11.84375 \nQ 23.34375 6.203125 30.609375 6.203125 \nQ 37.796875 6.203125 41.984375 11.859375 \nQ 46.1875 17.53125 46.1875 27.296875 \nQ 46.1875 37.015625 41.984375 42.703125 \nQ 37.796875 48.390625 30.609375 48.390625 \nz\nM 30.609375 56 \nQ 42.328125 56 49.015625 48.375 \nQ 55.71875 40.765625 55.71875 27.296875 \nQ 55.71875 13.875 49.015625 6.21875 \nQ 42.328125 -1.421875 30.609375 -1.421875 \nQ 18.84375 -1.421875 12.171875 6.21875 \nQ 5.515625 13.875 5.515625 27.296875 \nQ 5.515625 40.765625 12.171875 48.375 \nQ 18.84375 56 30.609375 56 \nz\n\" id=\"DejaVuSans-111\"/>\n       <path d=\"M 48.78125 52.59375 \nL 48.78125 44.1875 \nQ 44.96875 46.296875 41.140625 47.34375 \nQ 37.3125 48.390625 33.40625 48.390625 \nQ 24.65625 48.390625 19.8125 42.84375 \nQ 14.984375 37.3125 14.984375 27.296875 \nQ 14.984375 17.28125 19.8125 11.734375 \nQ 24.65625 6.203125 33.40625 6.203125 \nQ 37.3125 6.203125 41.140625 7.25 \nQ 44.96875 8.296875 48.78125 10.40625 \nL 48.78125 2.09375 \nQ 45.015625 0.34375 40.984375 -0.53125 \nQ 36.96875 -1.421875 32.421875 -1.421875 \nQ 20.0625 -1.421875 12.78125 6.34375 \nQ 5.515625 14.109375 5.515625 27.296875 \nQ 5.515625 40.671875 12.859375 48.328125 \nQ 20.21875 56 33.015625 56 \nQ 37.15625 56 41.109375 55.140625 \nQ 45.0625 54.296875 48.78125 52.59375 \nz\n\" id=\"DejaVuSans-99\"/>\n       <path d=\"M 54.890625 33.015625 \nL 54.890625 0 \nL 45.90625 0 \nL 45.90625 32.71875 \nQ 45.90625 40.484375 42.875 44.328125 \nQ 39.84375 48.1875 33.796875 48.1875 \nQ 26.515625 48.1875 22.3125 43.546875 \nQ 18.109375 38.921875 18.109375 30.90625 \nL 18.109375 0 \nL 9.078125 0 \nL 9.078125 75.984375 \nL 18.109375 75.984375 \nL 18.109375 46.1875 \nQ 21.34375 51.125 25.703125 53.5625 \nQ 30.078125 56 35.796875 56 \nQ 45.21875 56 50.046875 50.171875 \nQ 54.890625 44.34375 54.890625 33.015625 \nz\n\" id=\"DejaVuSans-104\"/>\n       <path d=\"M 44.28125 53.078125 \nL 44.28125 44.578125 \nQ 40.484375 46.53125 36.375 47.5 \nQ 32.28125 48.484375 27.875 48.484375 \nQ 21.1875 48.484375 17.84375 46.4375 \nQ 14.5 44.390625 14.5 40.28125 \nQ 14.5 37.15625 16.890625 35.375 \nQ 19.28125 33.59375 26.515625 31.984375 \nL 29.59375 31.296875 \nQ 39.15625 29.25 43.1875 25.515625 \nQ 47.21875 21.78125 47.21875 15.09375 \nQ 47.21875 7.46875 41.1875 3.015625 \nQ 35.15625 -1.421875 24.609375 -1.421875 \nQ 20.21875 -1.421875 15.453125 -0.5625 \nQ 10.6875 0.296875 5.421875 2 \nL 5.421875 11.28125 \nQ 10.40625 8.6875 15.234375 7.390625 \nQ 20.0625 6.109375 24.8125 6.109375 \nQ 31.15625 6.109375 34.5625 8.28125 \nQ 37.984375 10.453125 37.984375 14.40625 \nQ 37.984375 18.0625 35.515625 20.015625 \nQ 33.0625 21.96875 24.703125 23.78125 \nL 21.578125 24.515625 \nQ 13.234375 26.265625 9.515625 29.90625 \nQ 5.8125 33.546875 5.8125 39.890625 \nQ 5.8125 47.609375 11.28125 51.796875 \nQ 16.75 56 26.8125 56 \nQ 31.78125 56 36.171875 55.265625 \nQ 40.578125 54.546875 44.28125 53.078125 \nz\n\" id=\"DejaVuSans-115\"/>\n      </defs>\n      <use xlink:href=\"#DejaVuSans-69\"/>\n      <use x=\"63.183594\" xlink:href=\"#DejaVuSans-112\"/>\n      <use x=\"126.660156\" xlink:href=\"#DejaVuSans-111\"/>\n      <use x=\"187.841797\" xlink:href=\"#DejaVuSans-99\"/>\n      <use x=\"242.822266\" xlink:href=\"#DejaVuSans-104\"/>\n      <use x=\"306.201172\" xlink:href=\"#DejaVuSans-115\"/>\n     </g>\n    </g>\n   </g>\n   <g id=\"matplotlib.axis_2\">\n    <g id=\"ytick_1\">\n     <g id=\"line2d_7\">\n      <defs>\n       <path d=\"M 0 0 \nL -3.5 0 \n\" id=\"mb44eacd419\" style=\"stroke:#000000;stroke-width:0.8;\"/>\n      </defs>\n      <g>\n       <use style=\"stroke:#000000;stroke-width:0.8;\" x=\"73.18125\" xlink:href=\"#mb44eacd419\" y=\"193.596777\"/>\n      </g>\n     </g>\n     <g id=\"text_8\">\n      <!-- 0.50 -->\n      <g transform=\"translate(30.55625 199.675527)scale(0.16 -0.16)\">\n       <defs>\n        <path d=\"M 10.6875 12.40625 \nL 21 12.40625 \nL 21 0 \nL 10.6875 0 \nz\n\" id=\"DejaVuSans-46\"/>\n        <path d=\"M 10.796875 72.90625 \nL 49.515625 72.90625 \nL 49.515625 64.59375 \nL 19.828125 64.59375 \nL 19.828125 46.734375 \nQ 21.96875 47.46875 24.109375 47.828125 \nQ 26.265625 48.1875 28.421875 48.1875 \nQ 40.625 48.1875 47.75 41.5 \nQ 54.890625 34.8125 54.890625 23.390625 \nQ 54.890625 11.625 47.5625 5.09375 \nQ 40.234375 -1.421875 26.90625 -1.421875 \nQ 22.3125 -1.421875 17.546875 -0.640625 \nQ 12.796875 0.140625 7.71875 1.703125 \nL 7.71875 11.625 \nQ 12.109375 9.234375 16.796875 8.0625 \nQ 21.484375 6.890625 26.703125 6.890625 \nQ 35.15625 6.890625 40.078125 11.328125 \nQ 45.015625 15.765625 45.015625 23.390625 \nQ 45.015625 31 40.078125 35.4375 \nQ 35.15625 39.890625 26.703125 39.890625 \nQ 22.75 39.890625 18.8125 39.015625 \nQ 14.890625 38.140625 10.796875 36.28125 \nz\n\" id=\"DejaVuSans-53\"/>\n       </defs>\n       <use xlink:href=\"#DejaVuSans-48\"/>\n       <use x=\"63.623047\" xlink:href=\"#DejaVuSans-46\"/>\n       <use x=\"95.410156\" xlink:href=\"#DejaVuSans-53\"/>\n       <use x=\"159.033203\" xlink:href=\"#DejaVuSans-48\"/>\n      </g>\n     </g>\n    </g>\n    <g id=\"ytick_2\">\n     <g id=\"line2d_8\">\n      <g>\n       <use style=\"stroke:#000000;stroke-width:0.8;\" x=\"73.18125\" xlink:href=\"#mb44eacd419\" y=\"148.51727\"/>\n      </g>\n     </g>\n     <g id=\"text_9\">\n      <!-- 0.55 -->\n      <g transform=\"translate(30.55625 154.59602)scale(0.16 -0.16)\">\n       <use xlink:href=\"#DejaVuSans-48\"/>\n       <use x=\"63.623047\" xlink:href=\"#DejaVuSans-46\"/>\n       <use x=\"95.410156\" xlink:href=\"#DejaVuSans-53\"/>\n       <use x=\"159.033203\" xlink:href=\"#DejaVuSans-53\"/>\n      </g>\n     </g>\n    </g>\n    <g id=\"ytick_3\">\n     <g id=\"line2d_9\">\n      <g>\n       <use style=\"stroke:#000000;stroke-width:0.8;\" x=\"73.18125\" xlink:href=\"#mb44eacd419\" y=\"103.437764\"/>\n      </g>\n     </g>\n     <g id=\"text_10\">\n      <!-- 0.60 -->\n      <g transform=\"translate(30.55625 109.516514)scale(0.16 -0.16)\">\n       <use xlink:href=\"#DejaVuSans-48\"/>\n       <use x=\"63.623047\" xlink:href=\"#DejaVuSans-46\"/>\n       <use x=\"95.410156\" xlink:href=\"#DejaVuSans-54\"/>\n       <use x=\"159.033203\" xlink:href=\"#DejaVuSans-48\"/>\n      </g>\n     </g>\n    </g>\n    <g id=\"ytick_4\">\n     <g id=\"line2d_10\">\n      <g>\n       <use style=\"stroke:#000000;stroke-width:0.8;\" x=\"73.18125\" xlink:href=\"#mb44eacd419\" y=\"58.358257\"/>\n      </g>\n     </g>\n     <g id=\"text_11\">\n      <!-- 0.65 -->\n      <g transform=\"translate(30.55625 64.437007)scale(0.16 -0.16)\">\n       <use xlink:href=\"#DejaVuSans-48\"/>\n       <use x=\"63.623047\" xlink:href=\"#DejaVuSans-46\"/>\n       <use x=\"95.410156\" xlink:href=\"#DejaVuSans-54\"/>\n       <use x=\"159.033203\" xlink:href=\"#DejaVuSans-53\"/>\n      </g>\n     </g>\n    </g>\n    <g id=\"ytick_5\">\n     <g id=\"line2d_11\">\n      <g>\n       <use style=\"stroke:#000000;stroke-width:0.8;\" x=\"73.18125\" xlink:href=\"#mb44eacd419\" y=\"13.27875\"/>\n      </g>\n     </g>\n     <g id=\"text_12\">\n      <!-- 0.70 -->\n      <g transform=\"translate(30.55625 19.3575)scale(0.16 -0.16)\">\n       <defs>\n        <path d=\"M 8.203125 72.90625 \nL 55.078125 72.90625 \nL 55.078125 68.703125 \nL 28.609375 0 \nL 18.3125 0 \nL 43.21875 64.59375 \nL 8.203125 64.59375 \nz\n\" id=\"DejaVuSans-55\"/>\n       </defs>\n       <use xlink:href=\"#DejaVuSans-48\"/>\n       <use x=\"63.623047\" xlink:href=\"#DejaVuSans-46\"/>\n       <use x=\"95.410156\" xlink:href=\"#DejaVuSans-55\"/>\n       <use x=\"159.033203\" xlink:href=\"#DejaVuSans-48\"/>\n      </g>\n     </g>\n    </g>\n    <g id=\"text_13\">\n     <!-- Objective Value -->\n     <g transform=\"translate(22.396875 197.133354)rotate(-90)scale(0.2 -0.2)\">\n      <defs>\n       <path d=\"M 39.40625 66.21875 \nQ 28.65625 66.21875 22.328125 58.203125 \nQ 16.015625 50.203125 16.015625 36.375 \nQ 16.015625 22.609375 22.328125 14.59375 \nQ 28.65625 6.59375 39.40625 6.59375 \nQ 50.140625 6.59375 56.421875 14.59375 \nQ 62.703125 22.609375 62.703125 36.375 \nQ 62.703125 50.203125 56.421875 58.203125 \nQ 50.140625 66.21875 39.40625 66.21875 \nz\nM 39.40625 74.21875 \nQ 54.734375 74.21875 63.90625 63.9375 \nQ 73.09375 53.65625 73.09375 36.375 \nQ 73.09375 19.140625 63.90625 8.859375 \nQ 54.734375 -1.421875 39.40625 -1.421875 \nQ 24.03125 -1.421875 14.8125 8.828125 \nQ 5.609375 19.09375 5.609375 36.375 \nQ 5.609375 53.65625 14.8125 63.9375 \nQ 24.03125 74.21875 39.40625 74.21875 \nz\n\" id=\"DejaVuSans-79\"/>\n       <path d=\"M 48.6875 27.296875 \nQ 48.6875 37.203125 44.609375 42.84375 \nQ 40.53125 48.484375 33.40625 48.484375 \nQ 26.265625 48.484375 22.1875 42.84375 \nQ 18.109375 37.203125 18.109375 27.296875 \nQ 18.109375 17.390625 22.1875 11.75 \nQ 26.265625 6.109375 33.40625 6.109375 \nQ 40.53125 6.109375 44.609375 11.75 \nQ 48.6875 17.390625 48.6875 27.296875 \nz\nM 18.109375 46.390625 \nQ 20.953125 51.265625 25.265625 53.625 \nQ 29.59375 56 35.59375 56 \nQ 45.5625 56 51.78125 48.09375 \nQ 58.015625 40.1875 58.015625 27.296875 \nQ 58.015625 14.40625 51.78125 6.484375 \nQ 45.5625 -1.421875 35.59375 -1.421875 \nQ 29.59375 -1.421875 25.265625 0.953125 \nQ 20.953125 3.328125 18.109375 8.203125 \nL 18.109375 0 \nL 9.078125 0 \nL 9.078125 75.984375 \nL 18.109375 75.984375 \nz\n\" id=\"DejaVuSans-98\"/>\n       <path d=\"M 9.421875 54.6875 \nL 18.40625 54.6875 \nL 18.40625 -0.984375 \nQ 18.40625 -11.421875 14.421875 -16.109375 \nQ 10.453125 -20.796875 1.609375 -20.796875 \nL -1.8125 -20.796875 \nL -1.8125 -13.1875 \nL 0.59375 -13.1875 \nQ 5.71875 -13.1875 7.5625 -10.8125 \nQ 9.421875 -8.453125 9.421875 -0.984375 \nz\nM 9.421875 75.984375 \nL 18.40625 75.984375 \nL 18.40625 64.59375 \nL 9.421875 64.59375 \nz\n\" id=\"DejaVuSans-106\"/>\n       <path d=\"M 56.203125 29.59375 \nL 56.203125 25.203125 \nL 14.890625 25.203125 \nQ 15.484375 15.921875 20.484375 11.0625 \nQ 25.484375 6.203125 34.421875 6.203125 \nQ 39.59375 6.203125 44.453125 7.46875 \nQ 49.3125 8.734375 54.109375 11.28125 \nL 54.109375 2.78125 \nQ 49.265625 0.734375 44.1875 -0.34375 \nQ 39.109375 -1.421875 33.890625 -1.421875 \nQ 20.796875 -1.421875 13.15625 6.1875 \nQ 5.515625 13.8125 5.515625 26.8125 \nQ 5.515625 40.234375 12.765625 48.109375 \nQ 20.015625 56 32.328125 56 \nQ 43.359375 56 49.78125 48.890625 \nQ 56.203125 41.796875 56.203125 29.59375 \nz\nM 47.21875 32.234375 \nQ 47.125 39.59375 43.09375 43.984375 \nQ 39.0625 48.390625 32.421875 48.390625 \nQ 24.90625 48.390625 20.390625 44.140625 \nQ 15.875 39.890625 15.1875 32.171875 \nz\n\" id=\"DejaVuSans-101\"/>\n       <path d=\"M 18.3125 70.21875 \nL 18.3125 54.6875 \nL 36.8125 54.6875 \nL 36.8125 47.703125 \nL 18.3125 47.703125 \nL 18.3125 18.015625 \nQ 18.3125 11.328125 20.140625 9.421875 \nQ 21.96875 7.515625 27.59375 7.515625 \nL 36.8125 7.515625 \nL 36.8125 0 \nL 27.59375 0 \nQ 17.1875 0 13.234375 3.875 \nQ 9.28125 7.765625 9.28125 18.015625 \nL 9.28125 47.703125 \nL 2.6875 47.703125 \nL 2.6875 54.6875 \nL 9.28125 54.6875 \nL 9.28125 70.21875 \nz\n\" id=\"DejaVuSans-116\"/>\n       <path d=\"M 9.421875 54.6875 \nL 18.40625 54.6875 \nL 18.40625 0 \nL 9.421875 0 \nz\nM 9.421875 75.984375 \nL 18.40625 75.984375 \nL 18.40625 64.59375 \nL 9.421875 64.59375 \nz\n\" id=\"DejaVuSans-105\"/>\n       <path d=\"M 2.984375 54.6875 \nL 12.5 54.6875 \nL 29.59375 8.796875 \nL 46.6875 54.6875 \nL 56.203125 54.6875 \nL 35.6875 0 \nL 23.484375 0 \nz\n\" id=\"DejaVuSans-118\"/>\n       <path id=\"DejaVuSans-32\"/>\n       <path d=\"M 28.609375 0 \nL 0.78125 72.90625 \nL 11.078125 72.90625 \nL 34.1875 11.53125 \nL 57.328125 72.90625 \nL 67.578125 72.90625 \nL 39.796875 0 \nz\n\" id=\"DejaVuSans-86\"/>\n       <path d=\"M 34.28125 27.484375 \nQ 23.390625 27.484375 19.1875 25 \nQ 14.984375 22.515625 14.984375 16.5 \nQ 14.984375 11.71875 18.140625 8.90625 \nQ 21.296875 6.109375 26.703125 6.109375 \nQ 34.1875 6.109375 38.703125 11.40625 \nQ 43.21875 16.703125 43.21875 25.484375 \nL 43.21875 27.484375 \nz\nM 52.203125 31.203125 \nL 52.203125 0 \nL 43.21875 0 \nL 43.21875 8.296875 \nQ 40.140625 3.328125 35.546875 0.953125 \nQ 30.953125 -1.421875 24.3125 -1.421875 \nQ 15.921875 -1.421875 10.953125 3.296875 \nQ 6 8.015625 6 15.921875 \nQ 6 25.140625 12.171875 29.828125 \nQ 18.359375 34.515625 30.609375 34.515625 \nL 43.21875 34.515625 \nL 43.21875 35.40625 \nQ 43.21875 41.609375 39.140625 45 \nQ 35.0625 48.390625 27.6875 48.390625 \nQ 23 48.390625 18.546875 47.265625 \nQ 14.109375 46.140625 10.015625 43.890625 \nL 10.015625 52.203125 \nQ 14.9375 54.109375 19.578125 55.046875 \nQ 24.21875 56 28.609375 56 \nQ 40.484375 56 46.34375 49.84375 \nQ 52.203125 43.703125 52.203125 31.203125 \nz\n\" id=\"DejaVuSans-97\"/>\n       <path d=\"M 9.421875 75.984375 \nL 18.40625 75.984375 \nL 18.40625 0 \nL 9.421875 0 \nz\n\" id=\"DejaVuSans-108\"/>\n       <path d=\"M 8.5 21.578125 \nL 8.5 54.6875 \nL 17.484375 54.6875 \nL 17.484375 21.921875 \nQ 17.484375 14.15625 20.5 10.265625 \nQ 23.53125 6.390625 29.59375 6.390625 \nQ 36.859375 6.390625 41.078125 11.03125 \nQ 45.3125 15.671875 45.3125 23.6875 \nL 45.3125 54.6875 \nL 54.296875 54.6875 \nL 54.296875 0 \nL 45.3125 0 \nL 45.3125 8.40625 \nQ 42.046875 3.421875 37.71875 1 \nQ 33.40625 -1.421875 27.6875 -1.421875 \nQ 18.265625 -1.421875 13.375 4.4375 \nQ 8.5 10.296875 8.5 21.578125 \nz\nM 31.109375 56 \nz\n\" id=\"DejaVuSans-117\"/>\n      </defs>\n      <use xlink:href=\"#DejaVuSans-79\"/>\n      <use x=\"78.710938\" xlink:href=\"#DejaVuSans-98\"/>\n      <use x=\"142.1875\" xlink:href=\"#DejaVuSans-106\"/>\n      <use x=\"169.970703\" xlink:href=\"#DejaVuSans-101\"/>\n      <use x=\"231.494141\" xlink:href=\"#DejaVuSans-99\"/>\n      <use x=\"286.474609\" xlink:href=\"#DejaVuSans-116\"/>\n      <use x=\"325.683594\" xlink:href=\"#DejaVuSans-105\"/>\n      <use x=\"353.466797\" xlink:href=\"#DejaVuSans-118\"/>\n      <use x=\"412.646484\" xlink:href=\"#DejaVuSans-101\"/>\n      <use x=\"474.169922\" xlink:href=\"#DejaVuSans-32\"/>\n      <use x=\"505.957031\" xlink:href=\"#DejaVuSans-86\"/>\n      <use x=\"566.615234\" xlink:href=\"#DejaVuSans-97\"/>\n      <use x=\"627.894531\" xlink:href=\"#DejaVuSans-108\"/>\n      <use x=\"655.677734\" xlink:href=\"#DejaVuSans-117\"/>\n      <use x=\"719.056641\" xlink:href=\"#DejaVuSans-101\"/>\n     </g>\n    </g>\n   </g>\n   <g id=\"line2d_12\">\n    <path clip-path=\"url(#pf1cb9a894a)\" d=\"M 88.720173 19.457184 \nL 91.859349 111.562853 \nL 94.998525 149.549571 \nL 98.137702 170.083354 \nL 101.276878 182.888817 \nL 104.416054 191.529914 \nL 107.555231 197.652894 \nL 110.694407 202.138381 \nL 113.833583 205.505378 \nL 116.97276 208.080868 \nL 120.111936 210.080983 \nL 123.251112 211.653824 \nL 126.390289 212.903778 \nL 129.529465 213.906127 \nL 132.668641 214.716208 \nL 135.807818 215.375366 \nL 138.946994 215.914929 \nL 142.08617 216.358933 \nL 145.225347 216.726022 \nL 148.364523 217.030794 \nL 151.503699 217.284784 \nL 154.642876 217.497174 \nL 157.782052 217.675326 \nL 160.921228 217.82518 \nL 164.060405 217.951553 \nL 167.199581 218.058376 \nL 170.338757 218.14887 \nL 173.477934 218.225684 \nL 176.61711 218.291007 \nL 179.756286 218.346655 \nL 182.895463 218.394138 \nL 186.034639 218.434713 \nL 189.173815 218.469437 \nL 192.312991 218.499191 \nL 195.452168 218.52472 \nL 198.591344 218.546649 \nL 201.73052 218.565508 \nL 204.869697 218.581743 \nL 208.008873 218.595734 \nL 211.148049 218.607803 \nL 214.287226 218.618224 \nL 217.426402 218.627229 \nL 220.565578 218.635018 \nL 223.704755 218.64176 \nL 226.843931 218.647601 \nL 229.983107 218.652665 \nL 233.122284 218.657058 \nL 236.26146 218.660873 \nL 239.400636 218.664186 \nL 242.539813 218.667067 \nL 245.678989 218.669573 \nL 248.818165 218.671754 \nL 251.957342 218.673654 \nL 255.096518 218.67531 \nL 258.235694 218.676753 \nL 261.374871 218.678012 \nL 264.514047 218.679111 \nL 267.653223 218.680071 \nL 270.7924 218.680909 \nL 273.931576 218.681642 \nL 277.070752 218.682283 \nL 280.209929 218.682844 \nL 283.349105 218.683334 \nL 286.488281 218.683764 \nL 289.627458 218.68414 \nL 292.766634 218.68447 \nL 295.90581 218.684759 \nL 299.044986 218.685012 \nL 302.184163 218.685235 \nL 305.323339 218.68543 \nL 308.462515 218.685601 \nL 311.601692 218.685751 \nL 314.740868 218.685883 \nL 317.880044 218.685999 \nL 321.019221 218.686101 \nL 324.158397 218.686191 \nL 327.297573 218.68627 \nL 330.43675 218.686339 \nL 333.575926 218.6864 \nL 336.715102 218.686453 \nL 339.854279 218.686501 \nL 342.993455 218.686542 \nL 346.132631 218.686579 \nL 349.271808 218.686611 \nL 352.410984 218.686639 \nL 355.55016 218.686664 \nL 358.689337 218.686686 \nL 361.828513 218.686706 \nL 364.967689 218.686723 \nL 368.106866 218.686738 \nL 371.246042 218.686751 \nL 374.385218 218.686763 \nL 377.524395 218.686773 \nL 380.663571 218.686782 \nL 383.802747 218.686791 \nL 386.941924 218.686798 \nL 390.0811 218.686804 \nL 393.220276 218.686809 \nL 396.359453 218.686814 \nL 399.498629 218.686819 \n\" style=\"fill:none;stroke:#0000ff;stroke-dasharray:14.8,6.4;stroke-dashoffset:0;stroke-width:4;\"/>\n   </g>\n   <g id=\"line2d_13\">\n    <path clip-path=\"url(#pf1cb9a894a)\" d=\"M 88.720173 157.186637 \nL 91.859349 171.819338 \nL 94.998525 174.69128 \nL 98.137702 188.245049 \nL 101.276878 186.133627 \nL 104.416054 191.257308 \nL 107.555231 195.940558 \nL 110.694407 194.307242 \nL 113.833583 197.283872 \nL 116.97276 198.45883 \nL 120.111936 204.755694 \nL 123.251112 199.394962 \nL 126.390289 202.497855 \nL 129.529465 206.954638 \nL 132.668641 204.463757 \nL 135.807818 208.066583 \nL 138.946994 208.52275 \nL 142.08617 208.878493 \nL 145.225347 209.636178 \nL 148.364523 211.200906 \nL 151.503699 212.186471 \nL 154.642876 212.110245 \nL 157.782052 213.113766 \nL 160.921228 213.168129 \nL 164.060405 213.791221 \nL 167.199581 214.195088 \nL 170.338757 214.831835 \nL 173.477934 214.980409 \nL 176.61711 215.313549 \nL 179.756286 215.891035 \nL 182.895463 215.93117 \nL 186.034639 216.264453 \nL 189.173815 216.590536 \nL 192.312991 216.669712 \nL 195.452168 216.911564 \nL 198.591344 217.05761 \nL 201.73052 217.249939 \nL 204.869697 217.355198 \nL 208.008873 217.475171 \nL 211.148049 217.626665 \nL 214.287226 217.748345 \nL 217.426402 217.828595 \nL 220.565578 217.907521 \nL 223.704755 217.966854 \nL 226.843931 218.039396 \nL 229.983107 218.099085 \nL 233.122284 218.158377 \nL 236.26146 218.209698 \nL 239.400636 218.257056 \nL 242.539813 218.300071 \nL 245.678989 218.340221 \nL 248.818165 218.373669 \nL 251.957342 218.404687 \nL 255.096518 218.432925 \nL 258.235694 218.459917 \nL 261.374871 218.480465 \nL 264.514047 218.500934 \nL 267.653223 218.520526 \nL 270.7924 218.536596 \nL 273.931576 218.551174 \nL 277.070752 218.564681 \nL 280.209929 218.577118 \nL 283.349105 218.587964 \nL 286.488281 218.597665 \nL 289.627458 218.606482 \nL 292.766634 218.614509 \nL 295.90581 218.621636 \nL 299.044986 218.628129 \nL 302.184163 218.633954 \nL 305.323339 218.639229 \nL 308.462515 218.643894 \nL 311.601692 218.648176 \nL 314.740868 218.651968 \nL 317.880044 218.6554 \nL 321.019221 218.65851 \nL 324.158397 218.661284 \nL 327.297573 218.663789 \nL 330.43675 218.666047 \nL 333.575926 218.668076 \nL 336.715102 218.669907 \nL 339.854279 218.67155 \nL 342.993455 218.67303 \nL 346.132631 218.674364 \nL 349.271808 218.675563 \nL 352.410984 218.676643 \nL 355.55016 218.677615 \nL 358.689337 218.678489 \nL 361.828513 218.679276 \nL 364.967689 218.679986 \nL 368.106866 218.680624 \nL 371.246042 218.681197 \nL 374.385218 218.681714 \nL 377.524395 218.682179 \nL 380.663571 218.682597 \nL 383.802747 218.682973 \nL 386.941924 218.683312 \nL 390.0811 218.683618 \nL 393.220276 218.683892 \nL 396.359453 218.684139 \nL 399.498629 218.684362 \n\" style=\"fill:none;stroke:#ff0000;stroke-linecap:square;stroke-width:2;\"/>\n   </g>\n   <g id=\"line2d_14\">\n    <path clip-path=\"url(#pf1cb9a894a)\" d=\"M 88.720173 154.216911 \nL 91.859349 205.503802 \nL 94.998525 209.917141 \nL 98.137702 213.1235 \nL 101.276878 214.11924 \nL 104.416054 213.866662 \nL 107.555231 214.725989 \nL 110.694407 214.426552 \nL 113.833583 215.361875 \nL 116.97276 216.273722 \nL 120.111936 215.982955 \nL 123.251112 216.320096 \nL 126.390289 216.684456 \nL 129.529465 216.693612 \nL 132.668641 216.764225 \nL 135.807818 217.218148 \nL 138.946994 217.26663 \nL 142.08617 217.456142 \nL 145.225347 217.373787 \nL 148.364523 217.589814 \nL 151.503699 217.585946 \nL 154.642876 217.847241 \nL 157.782052 217.87872 \nL 160.921228 217.958256 \nL 164.060405 218.069593 \nL 167.199581 218.129362 \nL 170.338757 218.164009 \nL 173.477934 218.209362 \nL 176.61711 218.272005 \nL 179.756286 218.280663 \nL 182.895463 218.367508 \nL 186.034639 218.375619 \nL 189.173815 218.394357 \nL 192.312991 218.406128 \nL 195.452168 218.472655 \nL 198.591344 218.464048 \nL 201.73052 218.500847 \nL 204.869697 218.509436 \nL 208.008873 218.537388 \nL 211.148049 218.551073 \nL 214.287226 218.569559 \nL 217.426402 218.579123 \nL 220.565578 218.58145 \nL 223.704755 218.591469 \nL 226.843931 218.608616 \nL 229.983107 218.613566 \nL 233.122284 218.620066 \nL 236.26146 218.629695 \nL 239.400636 218.634892 \nL 242.539813 218.640658 \nL 245.678989 218.645669 \nL 248.818165 218.648626 \nL 251.957342 218.650215 \nL 255.096518 218.655076 \nL 258.235694 218.658371 \nL 261.374871 218.659571 \nL 264.514047 218.666063 \nL 267.653223 218.665331 \nL 270.7924 218.66705 \nL 273.931576 218.67197 \nL 277.070752 218.673505 \nL 280.209929 218.674181 \nL 283.349105 218.675966 \nL 286.488281 218.676492 \nL 289.627458 218.677971 \nL 292.766634 218.678155 \nL 295.90581 218.679847 \nL 299.044986 218.680674 \nL 302.184163 218.681947 \nL 305.323339 218.681538 \nL 308.462515 218.68276 \nL 311.601692 218.682971 \nL 314.740868 218.683087 \nL 317.880044 218.683788 \nL 321.019221 218.684172 \nL 324.158397 218.684665 \nL 327.297573 218.684723 \nL 330.43675 218.685098 \nL 333.575926 218.685521 \nL 336.715102 218.685518 \nL 339.854279 218.685809 \nL 342.993455 218.686102 \nL 346.132631 218.686186 \nL 349.271808 218.68639 \nL 352.410984 218.686552 \nL 355.55016 218.68662 \nL 358.689337 218.686771 \nL 361.828513 218.686805 \nL 364.967689 218.686871 \nL 368.106866 218.686967 \nL 371.246042 218.687035 \nL 374.385218 218.687089 \nL 377.524395 218.687142 \nL 380.663571 218.687258 \nL 383.802747 218.68733 \nL 386.941924 218.687296 \nL 390.0811 218.687364 \nL 393.220276 218.687376 \nL 396.359453 218.68744 \nL 399.498629 218.687442 \n\" style=\"fill:none;stroke:#008000;stroke-linecap:square;stroke-width:2;\"/>\n   </g>\n   <g id=\"line2d_15\">\n    <path clip-path=\"url(#pf1cb9a894a)\" d=\"M 88.720173 157.550518 \nL 91.859349 206.403907 \nL 94.998525 210.645047 \nL 98.137702 211.347644 \nL 101.276878 212.661702 \nL 104.416054 213.732441 \nL 107.555231 213.800897 \nL 110.694407 213.579346 \nL 113.833583 214.888997 \nL 116.97276 214.990339 \nL 120.111936 215.575143 \nL 123.251112 215.962465 \nL 126.390289 216.680489 \nL 129.529465 216.338908 \nL 132.668641 216.968405 \nL 135.807818 217.16836 \nL 138.946994 216.878825 \nL 142.08617 217.094923 \nL 145.225347 217.62262 \nL 148.364523 217.434483 \nL 151.503699 217.358751 \nL 154.642876 217.838637 \nL 157.782052 217.639889 \nL 160.921228 217.9336 \nL 164.060405 217.9485 \nL 167.199581 218.02184 \nL 170.338757 218.130367 \nL 173.477934 218.257957 \nL 176.61711 218.085159 \nL 179.756286 218.233698 \nL 182.895463 218.337994 \nL 186.034639 218.304447 \nL 189.173815 218.472578 \nL 192.312991 218.463915 \nL 195.452168 218.462513 \nL 198.591344 218.389995 \nL 201.73052 218.46527 \nL 204.869697 218.472531 \nL 208.008873 218.546884 \nL 211.148049 218.572931 \nL 214.287226 218.564991 \nL 217.426402 218.588487 \nL 220.565578 218.583067 \nL 223.704755 218.57073 \nL 226.843931 218.574459 \nL 229.983107 218.607221 \nL 233.122284 218.607292 \nL 236.26146 218.619374 \nL 239.400636 218.63376 \nL 242.539813 218.632459 \nL 245.678989 218.642525 \nL 248.818165 218.642924 \nL 251.957342 218.65166 \nL 255.096518 218.652595 \nL 258.235694 218.65721 \nL 261.374871 218.66222 \nL 264.514047 218.667558 \nL 267.653223 218.657842 \nL 270.7924 218.659932 \nL 273.931576 218.671179 \nL 277.070752 218.676812 \nL 280.209929 218.670682 \nL 283.349105 218.671695 \nL 286.488281 218.676517 \nL 289.627458 218.678038 \nL 292.766634 218.676548 \nL 295.90581 218.679102 \nL 299.044986 218.679852 \nL 302.184163 218.680334 \nL 305.323339 218.683235 \nL 308.462515 218.682104 \nL 311.601692 218.683245 \nL 314.740868 218.681391 \nL 317.880044 218.68397 \nL 321.019221 218.6833 \nL 324.158397 218.684816 \nL 327.297573 218.684022 \nL 330.43675 218.685726 \nL 333.575926 218.684741 \nL 336.715102 218.685512 \nL 339.854279 218.68603 \nL 342.993455 218.685626 \nL 346.132631 218.686538 \nL 349.271808 218.686311 \nL 352.410984 218.686085 \nL 355.55016 218.68689 \nL 358.689337 218.686717 \nL 361.828513 218.687058 \nL 364.967689 218.686992 \nL 368.106866 218.687182 \nL 371.246042 218.687125 \nL 374.385218 218.687348 \nL 377.524395 218.687384 \nL 380.663571 218.687354 \nL 383.802747 218.687397 \nL 386.941924 218.687599 \nL 390.0811 218.687648 \nL 393.220276 218.687554 \nL 396.359453 218.68758 \nL 399.498629 218.687547 \n\" style=\"fill:none;stroke:#bfbf00;stroke-linecap:square;stroke-width:2;\"/>\n   </g>\n   <g id=\"patch_3\">\n    <path d=\"M 73.18125 228.649171 \nL 73.18125 9.495661 \n\" style=\"fill:none;stroke:#000000;stroke-linecap:square;stroke-linejoin:miter;stroke-width:0.8;\"/>\n   </g>\n   <g id=\"patch_4\">\n    <path d=\"M 415.037552 228.649171 \nL 415.037552 9.495661 \n\" style=\"fill:none;stroke:#000000;stroke-linecap:square;stroke-linejoin:miter;stroke-width:0.8;\"/>\n   </g>\n   <g id=\"patch_5\">\n    <path d=\"M 73.18125 228.649171 \nL 415.037552 228.649171 \n\" style=\"fill:none;stroke:#000000;stroke-linecap:square;stroke-linejoin:miter;stroke-width:0.8;\"/>\n   </g>\n   <g id=\"patch_6\">\n    <path d=\"M 73.18125 9.495661 \nL 415.037552 9.495661 \n\" style=\"fill:none;stroke:#000000;stroke-linecap:square;stroke-linejoin:miter;stroke-width:0.8;\"/>\n   </g>\n   <g id=\"legend_1\">\n    <g id=\"patch_7\">\n     <path d=\"M 237.365677 142.920661 \nL 401.037552 142.920661 \nQ 405.037552 142.920661 405.037552 138.920661 \nL 405.037552 23.495661 \nQ 405.037552 19.495661 401.037552 19.495661 \nL 237.365677 19.495661 \nQ 233.365677 19.495661 233.365677 23.495661 \nL 233.365677 138.920661 \nQ 233.365677 142.920661 237.365677 142.920661 \nz\n\" style=\"fill:#ffffff;opacity:0.8;stroke:#cccccc;stroke-linejoin:miter;\"/>\n    </g>\n    <g id=\"line2d_16\">\n     <path d=\"M 241.365677 35.692536 \nL 281.365677 35.692536 \n\" style=\"fill:none;stroke:#0000ff;stroke-dasharray:14.8,6.4;stroke-dashoffset:0;stroke-width:4;\"/>\n    </g>\n    <g id=\"line2d_17\"/>\n    <g id=\"text_14\">\n     <!-- GD -->\n     <g transform=\"translate(297.365677 42.692536)scale(0.2 -0.2)\">\n      <defs>\n       <path d=\"M 59.515625 10.40625 \nL 59.515625 29.984375 \nL 43.40625 29.984375 \nL 43.40625 38.09375 \nL 69.28125 38.09375 \nL 69.28125 6.78125 \nQ 63.578125 2.734375 56.6875 0.65625 \nQ 49.8125 -1.421875 42 -1.421875 \nQ 24.90625 -1.421875 15.25 8.5625 \nQ 5.609375 18.5625 5.609375 36.375 \nQ 5.609375 54.25 15.25 64.234375 \nQ 24.90625 74.21875 42 74.21875 \nQ 49.125 74.21875 55.546875 72.453125 \nQ 61.96875 70.703125 67.390625 67.28125 \nL 67.390625 56.78125 \nQ 61.921875 61.421875 55.765625 63.765625 \nQ 49.609375 66.109375 42.828125 66.109375 \nQ 29.4375 66.109375 22.71875 58.640625 \nQ 16.015625 51.171875 16.015625 36.375 \nQ 16.015625 21.625 22.71875 14.15625 \nQ 29.4375 6.6875 42.828125 6.6875 \nQ 48.046875 6.6875 52.140625 7.59375 \nQ 56.25 8.5 59.515625 10.40625 \nz\n\" id=\"DejaVuSans-71\"/>\n       <path d=\"M 19.671875 64.796875 \nL 19.671875 8.109375 \nL 31.59375 8.109375 \nQ 46.6875 8.109375 53.6875 14.9375 \nQ 60.6875 21.78125 60.6875 36.53125 \nQ 60.6875 51.171875 53.6875 57.984375 \nQ 46.6875 64.796875 31.59375 64.796875 \nz\nM 9.8125 72.90625 \nL 30.078125 72.90625 \nQ 51.265625 72.90625 61.171875 64.09375 \nQ 71.09375 55.28125 71.09375 36.53125 \nQ 71.09375 17.671875 61.125 8.828125 \nQ 51.171875 0 30.078125 0 \nL 9.8125 0 \nz\n\" id=\"DejaVuSans-68\"/>\n      </defs>\n      <use xlink:href=\"#DejaVuSans-71\"/>\n      <use x=\"77.490234\" xlink:href=\"#DejaVuSans-68\"/>\n     </g>\n    </g>\n    <g id=\"line2d_18\">\n     <path d=\"M 241.365677 65.048786 \nL 281.365677 65.048786 \n\" style=\"fill:none;stroke:#ff0000;stroke-linecap:square;stroke-width:2;\"/>\n    </g>\n    <g id=\"line2d_19\"/>\n    <g id=\"text_15\">\n     <!-- SGD -->\n     <g transform=\"translate(297.365677 72.048786)scale(0.2 -0.2)\">\n      <defs>\n       <path d=\"M 53.515625 70.515625 \nL 53.515625 60.890625 \nQ 47.90625 63.578125 42.921875 64.890625 \nQ 37.9375 66.21875 33.296875 66.21875 \nQ 25.25 66.21875 20.875 63.09375 \nQ 16.5 59.96875 16.5 54.203125 \nQ 16.5 49.359375 19.40625 46.890625 \nQ 22.3125 44.4375 30.421875 42.921875 \nL 36.375 41.703125 \nQ 47.40625 39.59375 52.65625 34.296875 \nQ 57.90625 29 57.90625 20.125 \nQ 57.90625 9.515625 50.796875 4.046875 \nQ 43.703125 -1.421875 29.984375 -1.421875 \nQ 24.8125 -1.421875 18.96875 -0.25 \nQ 13.140625 0.921875 6.890625 3.21875 \nL 6.890625 13.375 \nQ 12.890625 10.015625 18.65625 8.296875 \nQ 24.421875 6.59375 29.984375 6.59375 \nQ 38.421875 6.59375 43.015625 9.90625 \nQ 47.609375 13.234375 47.609375 19.390625 \nQ 47.609375 24.75 44.3125 27.78125 \nQ 41.015625 30.8125 33.5 32.328125 \nL 27.484375 33.5 \nQ 16.453125 35.6875 11.515625 40.375 \nQ 6.59375 45.0625 6.59375 53.421875 \nQ 6.59375 63.09375 13.40625 68.65625 \nQ 20.21875 74.21875 32.171875 74.21875 \nQ 37.3125 74.21875 42.625 73.28125 \nQ 47.953125 72.359375 53.515625 70.515625 \nz\n\" id=\"DejaVuSans-83\"/>\n      </defs>\n      <use xlink:href=\"#DejaVuSans-83\"/>\n      <use x=\"63.476562\" xlink:href=\"#DejaVuSans-71\"/>\n      <use x=\"140.966797\" xlink:href=\"#DejaVuSans-68\"/>\n     </g>\n    </g>\n    <g id=\"line2d_20\">\n     <path d=\"M 241.365677 94.405036 \nL 281.365677 94.405036 \n\" style=\"fill:none;stroke:#008000;stroke-linecap:square;stroke-width:2;\"/>\n    </g>\n    <g id=\"line2d_21\"/>\n    <g id=\"text_16\">\n     <!-- MBSGD8 -->\n     <g transform=\"translate(297.365677 101.405036)scale(0.2 -0.2)\">\n      <defs>\n       <path d=\"M 9.8125 72.90625 \nL 24.515625 72.90625 \nL 43.109375 23.296875 \nL 61.8125 72.90625 \nL 76.515625 72.90625 \nL 76.515625 0 \nL 66.890625 0 \nL 66.890625 64.015625 \nL 48.09375 14.015625 \nL 38.1875 14.015625 \nL 19.390625 64.015625 \nL 19.390625 0 \nL 9.8125 0 \nz\n\" id=\"DejaVuSans-77\"/>\n       <path d=\"M 19.671875 34.8125 \nL 19.671875 8.109375 \nL 35.5 8.109375 \nQ 43.453125 8.109375 47.28125 11.40625 \nQ 51.125 14.703125 51.125 21.484375 \nQ 51.125 28.328125 47.28125 31.5625 \nQ 43.453125 34.8125 35.5 34.8125 \nz\nM 19.671875 64.796875 \nL 19.671875 42.828125 \nL 34.28125 42.828125 \nQ 41.5 42.828125 45.03125 45.53125 \nQ 48.578125 48.25 48.578125 53.8125 \nQ 48.578125 59.328125 45.03125 62.0625 \nQ 41.5 64.796875 34.28125 64.796875 \nz\nM 9.8125 72.90625 \nL 35.015625 72.90625 \nQ 46.296875 72.90625 52.390625 68.21875 \nQ 58.5 63.53125 58.5 54.890625 \nQ 58.5 48.1875 55.375 44.234375 \nQ 52.25 40.28125 46.1875 39.3125 \nQ 53.46875 37.75 57.5 32.78125 \nQ 61.53125 27.828125 61.53125 20.40625 \nQ 61.53125 10.640625 54.890625 5.3125 \nQ 48.25 0 35.984375 0 \nL 9.8125 0 \nz\n\" id=\"DejaVuSans-66\"/>\n      </defs>\n      <use xlink:href=\"#DejaVuSans-77\"/>\n      <use x=\"86.279297\" xlink:href=\"#DejaVuSans-66\"/>\n      <use x=\"153.132812\" xlink:href=\"#DejaVuSans-83\"/>\n      <use x=\"216.609375\" xlink:href=\"#DejaVuSans-71\"/>\n      <use x=\"294.099609\" xlink:href=\"#DejaVuSans-68\"/>\n      <use x=\"371.101562\" xlink:href=\"#DejaVuSans-56\"/>\n     </g>\n    </g>\n    <g id=\"line2d_22\">\n     <path d=\"M 241.365677 123.761286 \nL 281.365677 123.761286 \n\" style=\"fill:none;stroke:#bfbf00;stroke-linecap:square;stroke-width:2;\"/>\n    </g>\n    <g id=\"line2d_23\"/>\n    <g id=\"text_17\">\n     <!-- MBSGD64 -->\n     <g transform=\"translate(297.365677 130.761286)scale(0.2 -0.2)\">\n      <use xlink:href=\"#DejaVuSans-77\"/>\n      <use x=\"86.279297\" xlink:href=\"#DejaVuSans-66\"/>\n      <use x=\"153.132812\" xlink:href=\"#DejaVuSans-83\"/>\n      <use x=\"216.609375\" xlink:href=\"#DejaVuSans-71\"/>\n      <use x=\"294.099609\" xlink:href=\"#DejaVuSans-68\"/>\n      <use x=\"371.101562\" xlink:href=\"#DejaVuSans-54\"/>\n      <use x=\"434.724609\" xlink:href=\"#DejaVuSans-52\"/>\n     </g>\n    </g>\n   </g>\n  </g>\n </g>\n <defs>\n  <clipPath id=\"pf1cb9a894a\">\n   <rect height=\"219.15351\" width=\"341.856302\" x=\"73.18125\" y=\"9.495661\"/>\n  </clipPath>\n </defs>\n</svg>\n",
      "image/png": "[encoded data removed]"
     },
     "metadata": {
      "needs_background": "light"
     }
    }
   ],
   "source": [
    "# plot the 4 curves:\n",
    "import matplotlib.pyplot as plt\n",
    "%matplotlib inline\n",
    "\n",
    "fig = plt.figure(figsize=(6, 4))\n",
    "\n",
    "epochs_gd = range(len(objvals_gd))\n",
    "epochs_sgd = range(len(objvals_sgd))\n",
    "epochs_mbsgd8 = range(len(objvals_mbsgd8))\n",
    "epochs_mbsgd64 = range(len(objvals_mbsgd64))\n",
    "\n",
    "line0, = plt.plot(epochs_gd, objvals_gd, '--b', LineWidth=4)\n",
    "line1, = plt.plot(epochs_sgd, objvals_sgd, '-r', LineWidth=2)\n",
    "line2, = plt.plot(epochs_mbsgd8, objvals_mbsgd8, '-g', LineWidth=2)\n",
    "line3, = plt.plot(epochs_mbsgd64, objvals_mbsgd64, '-y', LineWidth=2)\n",
    "plt.xlabel('Epochs', FontSize=20)\n",
    "plt.ylabel('Objective Value', FontSize=20)\n",
    "plt.xticks(FontSize=16)\n",
    "plt.yticks(FontSize=16)\n",
    "plt.legend([line0, line1, line2, line3], ['GD', 'SGD', 'MBSGD8', 'MBSGD64'], fontsize=20)\n",
    "plt.tight_layout()\n",
    "plt.show()\n",
    "fig.savefig('compare_gd_sgd_mgsgd.pdf', format='pdf', dpi=1200)"
   ]
  },
  {
   "cell_type": "markdown",
   "metadata": {},
   "source": []
  }
 ],
 "metadata": {
  "kernelspec": {
   "display_name": "Python 3",
   "language": "python",
   "name": "python3"
  },
  "language_info": {
   "codemirror_mode": {
    "name": "ipython",
    "version": 3
   },
   "file_extension": ".py",
   "mimetype": "text/x-python",
   "name": "python",
   "nbconvert_exporter": "python",
   "pygments_lexer": "ipython3",
   "version": "3.8.5-final"
  }
 },
 "nbformat": 4,
 "nbformat_minor": 2
}